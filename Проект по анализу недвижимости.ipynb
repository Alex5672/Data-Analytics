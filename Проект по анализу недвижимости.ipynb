{
 "cells": [
  {
   "cell_type": "code",
   "execution_count": 1,
   "metadata": {
    "scrolled": true
   },
   "outputs": [
    {
     "name": "stdout",
     "output_type": "stream",
     "text": [
      "<class 'pandas.core.frame.DataFrame'>\n",
      "RangeIndex: 23699 entries, 0 to 23698\n",
      "Data columns (total 22 columns):\n",
      " #   Column                Non-Null Count  Dtype  \n",
      "---  ------                --------------  -----  \n",
      " 0   total_images          23699 non-null  int64  \n",
      " 1   last_price            23699 non-null  float64\n",
      " 2   total_area            23699 non-null  float64\n",
      " 3   first_day_exposition  23699 non-null  object \n",
      " 4   rooms                 23699 non-null  int64  \n",
      " 5   ceiling_height        14504 non-null  float64\n",
      " 6   floors_total          23613 non-null  float64\n",
      " 7   living_area           21796 non-null  float64\n",
      " 8   floor                 23699 non-null  int64  \n",
      " 9   is_apartment          2775 non-null   object \n",
      " 10  studio                23699 non-null  bool   \n",
      " 11  open_plan             23699 non-null  bool   \n",
      " 12  kitchen_area          21421 non-null  float64\n",
      " 13  balcony               12180 non-null  float64\n",
      " 14  locality_name         23650 non-null  object \n",
      " 15  airports_nearest      18157 non-null  float64\n",
      " 16  cityCenters_nearest   18180 non-null  float64\n",
      " 17  parks_around3000      18181 non-null  float64\n",
      " 18  parks_nearest         8079 non-null   float64\n",
      " 19  ponds_around3000      18181 non-null  float64\n",
      " 20  ponds_nearest         9110 non-null   float64\n",
      " 21  days_exposition       20518 non-null  float64\n",
      "dtypes: bool(2), float64(14), int64(3), object(3)\n",
      "memory usage: 3.7+ MB\n"
     ]
    },
    {
     "data": {
      "text/html": [
       "<div>\n",
       "<style scoped>\n",
       "    .dataframe tbody tr th:only-of-type {\n",
       "        vertical-align: middle;\n",
       "    }\n",
       "\n",
       "    .dataframe tbody tr th {\n",
       "        vertical-align: top;\n",
       "    }\n",
       "\n",
       "    .dataframe thead th {\n",
       "        text-align: right;\n",
       "    }\n",
       "</style>\n",
       "<table border=\"1\" class=\"dataframe\">\n",
       "  <thead>\n",
       "    <tr style=\"text-align: right;\">\n",
       "      <th></th>\n",
       "      <th>total_images</th>\n",
       "      <th>last_price</th>\n",
       "      <th>total_area</th>\n",
       "      <th>first_day_exposition</th>\n",
       "      <th>rooms</th>\n",
       "      <th>ceiling_height</th>\n",
       "      <th>floors_total</th>\n",
       "      <th>living_area</th>\n",
       "      <th>floor</th>\n",
       "      <th>is_apartment</th>\n",
       "      <th>...</th>\n",
       "      <th>kitchen_area</th>\n",
       "      <th>balcony</th>\n",
       "      <th>locality_name</th>\n",
       "      <th>airports_nearest</th>\n",
       "      <th>cityCenters_nearest</th>\n",
       "      <th>parks_around3000</th>\n",
       "      <th>parks_nearest</th>\n",
       "      <th>ponds_around3000</th>\n",
       "      <th>ponds_nearest</th>\n",
       "      <th>days_exposition</th>\n",
       "    </tr>\n",
       "  </thead>\n",
       "  <tbody>\n",
       "    <tr>\n",
       "      <th>0</th>\n",
       "      <td>20</td>\n",
       "      <td>13000000.0</td>\n",
       "      <td>108.0</td>\n",
       "      <td>2019-03-07T00:00:00</td>\n",
       "      <td>3</td>\n",
       "      <td>2.70</td>\n",
       "      <td>16.0</td>\n",
       "      <td>51.0</td>\n",
       "      <td>8</td>\n",
       "      <td>NaN</td>\n",
       "      <td>...</td>\n",
       "      <td>25.0</td>\n",
       "      <td>NaN</td>\n",
       "      <td>Санкт-Петербург</td>\n",
       "      <td>18863.0</td>\n",
       "      <td>16028.0</td>\n",
       "      <td>1.0</td>\n",
       "      <td>482.0</td>\n",
       "      <td>2.0</td>\n",
       "      <td>755.0</td>\n",
       "      <td>NaN</td>\n",
       "    </tr>\n",
       "    <tr>\n",
       "      <th>1</th>\n",
       "      <td>7</td>\n",
       "      <td>3350000.0</td>\n",
       "      <td>40.4</td>\n",
       "      <td>2018-12-04T00:00:00</td>\n",
       "      <td>1</td>\n",
       "      <td>NaN</td>\n",
       "      <td>11.0</td>\n",
       "      <td>18.6</td>\n",
       "      <td>1</td>\n",
       "      <td>NaN</td>\n",
       "      <td>...</td>\n",
       "      <td>11.0</td>\n",
       "      <td>2.0</td>\n",
       "      <td>посёлок Шушары</td>\n",
       "      <td>12817.0</td>\n",
       "      <td>18603.0</td>\n",
       "      <td>0.0</td>\n",
       "      <td>NaN</td>\n",
       "      <td>0.0</td>\n",
       "      <td>NaN</td>\n",
       "      <td>81.0</td>\n",
       "    </tr>\n",
       "    <tr>\n",
       "      <th>2</th>\n",
       "      <td>10</td>\n",
       "      <td>5196000.0</td>\n",
       "      <td>56.0</td>\n",
       "      <td>2015-08-20T00:00:00</td>\n",
       "      <td>2</td>\n",
       "      <td>NaN</td>\n",
       "      <td>5.0</td>\n",
       "      <td>34.3</td>\n",
       "      <td>4</td>\n",
       "      <td>NaN</td>\n",
       "      <td>...</td>\n",
       "      <td>8.3</td>\n",
       "      <td>0.0</td>\n",
       "      <td>Санкт-Петербург</td>\n",
       "      <td>21741.0</td>\n",
       "      <td>13933.0</td>\n",
       "      <td>1.0</td>\n",
       "      <td>90.0</td>\n",
       "      <td>2.0</td>\n",
       "      <td>574.0</td>\n",
       "      <td>558.0</td>\n",
       "    </tr>\n",
       "    <tr>\n",
       "      <th>3</th>\n",
       "      <td>0</td>\n",
       "      <td>64900000.0</td>\n",
       "      <td>159.0</td>\n",
       "      <td>2015-07-24T00:00:00</td>\n",
       "      <td>3</td>\n",
       "      <td>NaN</td>\n",
       "      <td>14.0</td>\n",
       "      <td>NaN</td>\n",
       "      <td>9</td>\n",
       "      <td>NaN</td>\n",
       "      <td>...</td>\n",
       "      <td>NaN</td>\n",
       "      <td>0.0</td>\n",
       "      <td>Санкт-Петербург</td>\n",
       "      <td>28098.0</td>\n",
       "      <td>6800.0</td>\n",
       "      <td>2.0</td>\n",
       "      <td>84.0</td>\n",
       "      <td>3.0</td>\n",
       "      <td>234.0</td>\n",
       "      <td>424.0</td>\n",
       "    </tr>\n",
       "    <tr>\n",
       "      <th>4</th>\n",
       "      <td>2</td>\n",
       "      <td>10000000.0</td>\n",
       "      <td>100.0</td>\n",
       "      <td>2018-06-19T00:00:00</td>\n",
       "      <td>2</td>\n",
       "      <td>3.03</td>\n",
       "      <td>14.0</td>\n",
       "      <td>32.0</td>\n",
       "      <td>13</td>\n",
       "      <td>NaN</td>\n",
       "      <td>...</td>\n",
       "      <td>41.0</td>\n",
       "      <td>NaN</td>\n",
       "      <td>Санкт-Петербург</td>\n",
       "      <td>31856.0</td>\n",
       "      <td>8098.0</td>\n",
       "      <td>2.0</td>\n",
       "      <td>112.0</td>\n",
       "      <td>1.0</td>\n",
       "      <td>48.0</td>\n",
       "      <td>121.0</td>\n",
       "    </tr>\n",
       "  </tbody>\n",
       "</table>\n",
       "<p>5 rows × 22 columns</p>\n",
       "</div>"
      ],
      "text/plain": [
       "   total_images  last_price  total_area first_day_exposition  rooms  \\\n",
       "0            20  13000000.0       108.0  2019-03-07T00:00:00      3   \n",
       "1             7   3350000.0        40.4  2018-12-04T00:00:00      1   \n",
       "2            10   5196000.0        56.0  2015-08-20T00:00:00      2   \n",
       "3             0  64900000.0       159.0  2015-07-24T00:00:00      3   \n",
       "4             2  10000000.0       100.0  2018-06-19T00:00:00      2   \n",
       "\n",
       "   ceiling_height  floors_total  living_area  floor is_apartment  ...  \\\n",
       "0            2.70          16.0         51.0      8          NaN  ...   \n",
       "1             NaN          11.0         18.6      1          NaN  ...   \n",
       "2             NaN           5.0         34.3      4          NaN  ...   \n",
       "3             NaN          14.0          NaN      9          NaN  ...   \n",
       "4            3.03          14.0         32.0     13          NaN  ...   \n",
       "\n",
       "   kitchen_area  balcony    locality_name  airports_nearest  \\\n",
       "0          25.0      NaN  Санкт-Петербург           18863.0   \n",
       "1          11.0      2.0   посёлок Шушары           12817.0   \n",
       "2           8.3      0.0  Санкт-Петербург           21741.0   \n",
       "3           NaN      0.0  Санкт-Петербург           28098.0   \n",
       "4          41.0      NaN  Санкт-Петербург           31856.0   \n",
       "\n",
       "  cityCenters_nearest  parks_around3000  parks_nearest  ponds_around3000  \\\n",
       "0             16028.0               1.0          482.0               2.0   \n",
       "1             18603.0               0.0            NaN               0.0   \n",
       "2             13933.0               1.0           90.0               2.0   \n",
       "3              6800.0               2.0           84.0               3.0   \n",
       "4              8098.0               2.0          112.0               1.0   \n",
       "\n",
       "   ponds_nearest  days_exposition  \n",
       "0          755.0              NaN  \n",
       "1            NaN             81.0  \n",
       "2          574.0            558.0  \n",
       "3          234.0            424.0  \n",
       "4           48.0            121.0  \n",
       "\n",
       "[5 rows x 22 columns]"
      ]
     },
     "metadata": {},
     "output_type": "display_data"
    },
    {
     "data": {
      "image/png": "[encoded data removed]",
      "text/plain": [
       "<Figure size 1080x1440 with 20 Axes>"
      ]
     },
     "metadata": {
      "needs_background": "light"
     },
     "output_type": "display_data"
    }
   ],
   "source": [
    "import pandas as pd\n",
    "import matplotlib.pyplot as plt\n",
    "\n",
    "df = pd.read_csv('/datasets/real_estate_data.csv', sep='\\t')\n",
    "\n",
    "df.info()\n",
    "display(df.head())\n",
    "df.hist(figsize=(15,20));"
   ]
  },
  {
   "cell_type": "code",
   "execution_count": 2,
   "metadata": {},
   "outputs": [],
   "source": [
    "# check\n",
    "# пропущенные значения бары\n",
    "\n",
    "# check\n",
    "def pass_value_barh(df):\n",
    "    (\n",
    "        (df.isna().mean()*100)\n",
    "        .to_frame()\n",
    "        .rename(columns = {0:'space'})\n",
    "        .query('space > 0')\n",
    "        .sort_values(by = 'space', ascending = True)\n",
    "        .plot(kind= 'barh', figsize=(19,6), rot = -5, legend = False, fontsize = 16)\n",
    "        .set_title('Пример' + \"\\n\", fontsize = 22, color = 'SteelBlue')    \n",
    "    );    "
   ]
  },
  {
   "cell_type": "code",
   "execution_count": 3,
   "metadata": {},
   "outputs": [
    {
     "data": {
      "image/png": "[encoded data removed]",
      "text/plain": [
       "<Figure size 1368x432 with 1 Axes>"
      ]
     },
     "metadata": {
      "needs_background": "light"
     },
     "output_type": "display_data"
    }
   ],
   "source": [
    "pass_value_barh(df)"
   ]
  },
  {
   "cell_type": "markdown",
   "metadata": {},
   "source": [
    "### Предобработка данных\n",
    "\n",
    "1. Заполняю пропущенные значения значением 0 и преобразую стодбецы из float в int:\n",
    "- число балконов,\n",
    "- число парков в 3т.км,\n",
    "- число водоемов в радиусе 3 т.км\n",
    "\n",
    "2. Меняю пропущеные значения в столбце is_apartment на False и тип данных на bool так как столбец имеет логическое выражение\n",
    "3. Устранил неявные дубликаты в столбце locality_name: поменял посЁлок на посЕлок. Было 365 осталос 331\n",
    "4. Мучения с аномалиями:\n",
    "- Считаю что в столбце ceiling_heoght есть явные выбросы (например высота потолка 100 метров). Через цикл переписал значения выше 20 метров поделив их на 100, так что высота 32 метра стала 3,2 метра.\n",
    "- Столбец kitchen_area содержит довольно большие площади кухни (112 м2), что похоже на аномалию и меньше чем моя квартирка, но при проверке выяснилось что у таких наблюдений общая площадь гораздо больше. Так что считаю что в столбце нет аномалий.\n"
   ]
  },
  {
   "cell_type": "code",
   "execution_count": 4,
   "metadata": {},
   "outputs": [
    {
     "name": "stdout",
     "output_type": "stream",
     "text": [
      "0.044812017384699775\n",
      "0.04493860500443057\n",
      "0.0431663783281995\n",
      "0.0431663783281995\n",
      "0.05979155238617663\n"
     ]
    }
   ],
   "source": [
    "df['balcony'] = df['balcony'].fillna(0).astype('int')\n",
    "df['floors_total'] = df['floors_total'].fillna(0).astype('int')\n",
    "df['parks_around3000'] = df['parks_around3000'].fillna(0).astype('int')\n",
    "df['ponds_around3000'] = df['ponds_around3000'].fillna(0).astype('int')\n",
    "df['last_price'] = df['last_price'].astype('int')\n",
    "df['is_apartment'] = df['is_apartment'].fillna(False)\n",
    "#df.info()\n",
    "#print(df['is_apartment'].unique())\n",
    "\n",
    "df['locality_name'] = df['locality_name'].str.replace('посёлок','поселок')\n",
    "\n",
    "#print(df['ceiling_height'].sort_values(ascending=False).head(10))\n",
    "#print(df['ceiling_height'].describe())\n",
    "df.loc[df['ceiling_height'] > 20, 'ceiling_height'] = df['ceiling_height'] / 10\n",
    "\n",
    "#делаю срез данных для rooms\n",
    "df['to_much_rooms'] = df['rooms'] > 9\n",
    "data_rooms = df.query('to_much_rooms == False') #положил в переменную все объявления где количество комнат меньше 10\n",
    "\n",
    "#делаю срез для общей площади\n",
    "df['too_much_area'] = df['total_area'] > 120\n",
    "print(df['too_much_area'].mean()) # квартир с площадью более 120 метров 4% от всех наблюдейний, исключаю такие\n",
    "data_area = df.query('too_much_area == False')\n",
    "\n",
    "#делаю срез для высоты потолков, убираю 1 метровые и более 10 метров\n",
    "data_ceiling = df.query('1 < ceiling_height < 10') # собрал все объявления где потолки более менее похожи на реальные\n",
    "\n",
    "#делаю срез для стоимости квартир\n",
    "df['too_much_price'] = df['last_price'] > 16000000\n",
    "print(df['too_much_price'].mean()) # исключаю квартиры стоимостью более 16 млн рублей\n",
    "data_price = df.query('too_much_price == False')\n",
    "#print(data_price.sort_values(by='total_area', ascending=False))\n",
    "\n",
    "#делаю срез для жилой площади\n",
    "df['too_much_living'] = df['living_area'] > 70\n",
    "print(df['too_much_living'].mean()) # исключаю квартиры с жилой площадью более 70 метров\n",
    "data_living_area = df.query('too_much_living == False')\n",
    "\n",
    "#делаю срез для кухонной площади\n",
    "df['too_much_kitchen'] = df['kitchen_area'] > 20\n",
    "print(df['too_much_kitchen'].mean()) # исключаю квартиры с кухонной площадью более 20 метров\n",
    "data_kitchen_area = df.query('too_much_kitchen == False')\n",
    "\n",
    "#делаю срез для количества этажей в доме\n",
    "df['too_much_floors'] = df['floors_total'] > 24\n",
    "print(df['too_much_floors'].mean()) # исключаю объекты где количество этажей превышает 24\n",
    "data_floors = df.query('too_much_floors == False')\n"
   ]
  },
  {
   "cell_type": "markdown",
   "metadata": {},
   "source": [
    "<div class=\"alert alert-info\">\n",
    "<b>Удаляю аномалии</b></font>\n",
    "\n",
    "#1 Количкство комнат. Из графика видно, что выбросы начинаются от 7 комнат. Тогда считаю их аномалиями и удаляю.\n",
    "\n",
    "#2 Общая площадь содержит очень много выбросов, удяляю те, где более 120 метров.\n",
    "\n",
    "#3 Высота потолков тоже изобилует выбросами, причем в обе стороны. Считаю аномалиями более 3 и менее 2 метров высоту потолков.\n",
    "\n",
    "#4 Стоимость квартиры более 16 млн тоже считаю аномалией.\n",
    "\n",
    "#5 Дома выше 30 этажей тоже редкость для Питера\n",
    "\n",
    "\n",
    "Прости, что спрашиваю, но это нормально когда столько много данных удаляются из датасета? Получается я почти 2500 строк удалил из-за того, что значения были слишком большие или маленькие."
   ]
  },
  {
   "cell_type": "code",
   "execution_count": 5,
   "metadata": {},
   "outputs": [
    {
     "name": "stdout",
     "output_type": "stream",
     "text": [
      "(23699, 28)\n",
      "(23668, 28)\n",
      "(22637, 28)\n",
      "(21520, 28)\n",
      "(21260, 28)\n",
      "(21229, 28)\n"
     ]
    }
   ],
   "source": [
    "#df.boxplot(column='rooms')\n",
    "#df.boxplot(column='total_area')\n",
    "#df.boxplot(column='ceiling_height')\n",
    "#df.boxplot(column='last_price')\n",
    "#df.boxplot(column='floors_total')\n",
    "\n",
    "print(df.shape)\n",
    "df = df.drop(df[df['rooms'] > 7].index)\n",
    "print(df.shape)\n",
    "df = df.drop(df[df['total_area'] > 120].index)\n",
    "print(df.shape)\n",
    "df = df.drop(df[df['ceiling_height'] > 3].index)\n",
    "df = df.drop(df[df['ceiling_height'] < 2].index)\n",
    "print(df.shape)\n",
    "df = df.drop(df[df['last_price'] > 16000000].index)\n",
    "print(df.shape)\n",
    "df = df.drop(df[df['floors_total'] > 30].index)\n",
    "print(df.shape)\n"
   ]
  },
  {
   "cell_type": "code",
   "execution_count": 6,
   "metadata": {},
   "outputs": [
    {
     "name": "stdout",
     "output_type": "stream",
     "text": [
      "<class 'pandas.core.frame.DataFrame'>\n",
      "RangeIndex: 23699 entries, 0 to 23698\n",
      "Data columns (total 22 columns):\n",
      " #   Column                Non-Null Count  Dtype  \n",
      "---  ------                --------------  -----  \n",
      " 0   total_images          23699 non-null  int64  \n",
      " 1   last_price            23699 non-null  float64\n",
      " 2   total_area            23699 non-null  float64\n",
      " 3   first_day_exposition  23699 non-null  object \n",
      " 4   rooms                 23699 non-null  int64  \n",
      " 5   ceiling_height        14504 non-null  float64\n",
      " 6   floors_total          23613 non-null  float64\n",
      " 7   living_area           21796 non-null  float64\n",
      " 8   floor                 23699 non-null  int64  \n",
      " 9   is_apartment          2775 non-null   object \n",
      " 10  studio                23699 non-null  bool   \n",
      " 11  open_plan             23699 non-null  bool   \n",
      " 12  kitchen_area          21421 non-null  float64\n",
      " 13  balcony               12180 non-null  float64\n",
      " 14  locality_name         23650 non-null  object \n",
      " 15  airports_nearest      18157 non-null  float64\n",
      " 16  cityCenters_nearest   18180 non-null  float64\n",
      " 17  parks_around3000      18181 non-null  float64\n",
      " 18  parks_nearest         8079 non-null   float64\n",
      " 19  ponds_around3000      18181 non-null  float64\n",
      " 20  ponds_nearest         9110 non-null   float64\n",
      " 21  days_exposition       20518 non-null  float64\n",
      "dtypes: bool(2), float64(14), int64(3), object(3)\n",
      "memory usage: 3.7+ MB\n",
      "<class 'pandas.core.frame.DataFrame'>\n",
      "Int64Index: 23525 entries, 0 to 23698\n",
      "Data columns (total 22 columns):\n",
      " #   Column                Non-Null Count  Dtype  \n",
      "---  ------                --------------  -----  \n",
      " 0   total_images          23525 non-null  int64  \n",
      " 1   last_price            23525 non-null  float64\n",
      " 2   total_area            23525 non-null  float64\n",
      " 3   first_day_exposition  23525 non-null  object \n",
      " 4   rooms                 23525 non-null  int64  \n",
      " 5   ceiling_height        14390 non-null  float64\n",
      " 6   floors_total          23440 non-null  float64\n",
      " 7   living_area           21634 non-null  float64\n",
      " 8   floor                 23525 non-null  int64  \n",
      " 9   is_apartment          2760 non-null   object \n",
      " 10  studio                23525 non-null  bool   \n",
      " 11  open_plan             23525 non-null  bool   \n",
      " 12  kitchen_area          21262 non-null  float64\n",
      " 13  balcony               12082 non-null  float64\n",
      " 14  locality_name         23477 non-null  object \n",
      " 15  airports_nearest      17983 non-null  float64\n",
      " 16  cityCenters_nearest   18006 non-null  float64\n",
      " 17  parks_around3000      18007 non-null  float64\n",
      " 18  parks_nearest         7968 non-null   float64\n",
      " 19  ponds_around3000      18007 non-null  float64\n",
      " 20  ponds_nearest         8991 non-null   float64\n",
      " 21  days_exposition       20360 non-null  float64\n",
      "dtypes: bool(2), float64(14), int64(3), object(3)\n",
      "memory usage: 3.8+ MB\n"
     ]
    }
   ],
   "source": [
    "# check\n",
    "df_check = pd.read_csv('/datasets/real_estate_data.csv', sep='\\t') \n",
    "df_check.info()\n",
    "df_isna = df_check.query('airports_nearest.isna() | airports_nearest < 60000')\n",
    "df_isna.info()"
   ]
  },
  {
   "cell_type": "code",
   "execution_count": 7,
   "metadata": {},
   "outputs": [
    {
     "name": "stdout",
     "output_type": "stream",
     "text": [
      "<class 'pandas.core.frame.DataFrame'>\n",
      "RangeIndex: 23699 entries, 0 to 23698\n",
      "Data columns (total 22 columns):\n",
      " #   Column                Non-Null Count  Dtype  \n",
      "---  ------                --------------  -----  \n",
      " 0   total_images          23699 non-null  int64  \n",
      " 1   last_price            23699 non-null  float64\n",
      " 2   total_area            23699 non-null  float64\n",
      " 3   first_day_exposition  23699 non-null  object \n",
      " 4   rooms                 23699 non-null  int64  \n",
      " 5   ceiling_height        14504 non-null  float64\n",
      " 6   floors_total          23613 non-null  float64\n",
      " 7   living_area           21796 non-null  float64\n",
      " 8   floor                 23699 non-null  int64  \n",
      " 9   is_apartment          2775 non-null   object \n",
      " 10  studio                23699 non-null  bool   \n",
      " 11  open_plan             23699 non-null  bool   \n",
      " 12  kitchen_area          21421 non-null  float64\n",
      " 13  balcony               12180 non-null  float64\n",
      " 14  locality_name         23650 non-null  object \n",
      " 15  airports_nearest      18157 non-null  float64\n",
      " 16  cityCenters_nearest   18180 non-null  float64\n",
      " 17  parks_around3000      18181 non-null  float64\n",
      " 18  parks_nearest         8079 non-null   float64\n",
      " 19  ponds_around3000      18181 non-null  float64\n",
      " 20  ponds_nearest         9110 non-null   float64\n",
      " 21  days_exposition       20518 non-null  float64\n",
      "dtypes: bool(2), float64(14), int64(3), object(3)\n",
      "memory usage: 3.7+ MB\n",
      "<class 'pandas.core.frame.DataFrame'>\n",
      "Int64Index: 23525 entries, 0 to 23698\n",
      "Data columns (total 22 columns):\n",
      " #   Column                Non-Null Count  Dtype  \n",
      "---  ------                --------------  -----  \n",
      " 0   total_images          23525 non-null  int64  \n",
      " 1   last_price            23525 non-null  float64\n",
      " 2   total_area            23525 non-null  float64\n",
      " 3   first_day_exposition  23525 non-null  object \n",
      " 4   rooms                 23525 non-null  int64  \n",
      " 5   ceiling_height        14390 non-null  float64\n",
      " 6   floors_total          23440 non-null  float64\n",
      " 7   living_area           21634 non-null  float64\n",
      " 8   floor                 23525 non-null  int64  \n",
      " 9   is_apartment          2760 non-null   object \n",
      " 10  studio                23525 non-null  bool   \n",
      " 11  open_plan             23525 non-null  bool   \n",
      " 12  kitchen_area          21262 non-null  float64\n",
      " 13  balcony               12082 non-null  float64\n",
      " 14  locality_name         23477 non-null  object \n",
      " 15  airports_nearest      17983 non-null  float64\n",
      " 16  cityCenters_nearest   18006 non-null  float64\n",
      " 17  parks_around3000      18007 non-null  float64\n",
      " 18  parks_nearest         7968 non-null   float64\n",
      " 19  ponds_around3000      18007 non-null  float64\n",
      " 20  ponds_nearest         8991 non-null   float64\n",
      " 21  days_exposition       20360 non-null  float64\n",
      "dtypes: bool(2), float64(14), int64(3), object(3)\n",
      "memory usage: 3.8+ MB\n"
     ]
    }
   ],
   "source": [
    "# check\n",
    "df_check = pd.read_csv('/datasets/real_estate_data.csv', sep='\\t') \n",
    "df_check.info()\n",
    "df_isna = df_check[(df_check ['airports_nearest'] < 60000) | (df_check ['airports_nearest'].isna()) ]\n",
    "\n",
    "df_isna.info()"
   ]
  },
  {
   "cell_type": "code",
   "execution_count": 8,
   "metadata": {},
   "outputs": [
    {
     "data": {
      "text/html": [
       "<style  type=\"text/css\" >\n",
       "</style><table id=\"T_9dd07_\" ><thead>    <tr>        <th class=\"blank level0\" ></th>        <th class=\"col_heading level0 col0\" >rooms</th>        <th class=\"col_heading level0 col1\" >total_area</th>        <th class=\"col_heading level0 col2\" >ceiling_height</th>        <th class=\"col_heading level0 col3\" >days_exposition</th>        <th class=\"col_heading level0 col4\" >last_price</th>        <th class=\"col_heading level0 col5\" >living_area</th>        <th class=\"col_heading level0 col6\" >kitchen_area</th>        <th class=\"col_heading level0 col7\" >floor</th>        <th class=\"col_heading level0 col8\" >floors_total</th>    </tr></thead><tbody>\n",
       "                <tr>\n",
       "                        <th id=\"T_9dd07_level0_row0\" class=\"row_heading level0 row0\" >count</th>\n",
       "                        <td id=\"T_9dd07_row0_col0\" class=\"data row0 col0\" >21,229.00</td>\n",
       "                        <td id=\"T_9dd07_row0_col1\" class=\"data row0 col1\" >21,229.00</td>\n",
       "                        <td id=\"T_9dd07_row0_col2\" class=\"data row0 col2\" >12,502.00</td>\n",
       "                        <td id=\"T_9dd07_row0_col3\" class=\"data row0 col3\" >18,652.00</td>\n",
       "                        <td id=\"T_9dd07_row0_col4\" class=\"data row0 col4\" >21,229.00</td>\n",
       "                        <td id=\"T_9dd07_row0_col5\" class=\"data row0 col5\" >19,528.00</td>\n",
       "                        <td id=\"T_9dd07_row0_col6\" class=\"data row0 col6\" >19,154.00</td>\n",
       "                        <td id=\"T_9dd07_row0_col7\" class=\"data row0 col7\" >21,229.00</td>\n",
       "                        <td id=\"T_9dd07_row0_col8\" class=\"data row0 col8\" >21,229.00</td>\n",
       "            </tr>\n",
       "            <tr>\n",
       "                        <th id=\"T_9dd07_level0_row1\" class=\"row_heading level0 row1\" >min</th>\n",
       "                        <td id=\"T_9dd07_row1_col0\" class=\"data row1 col0\" >0.00</td>\n",
       "                        <td id=\"T_9dd07_row1_col1\" class=\"data row1 col1\" >12.00</td>\n",
       "                        <td id=\"T_9dd07_row1_col2\" class=\"data row1 col2\" >2.00</td>\n",
       "                        <td id=\"T_9dd07_row1_col3\" class=\"data row1 col3\" >1.00</td>\n",
       "                        <td id=\"T_9dd07_row1_col4\" class=\"data row1 col4\" >12,190.00</td>\n",
       "                        <td id=\"T_9dd07_row1_col5\" class=\"data row1 col5\" >2.00</td>\n",
       "                        <td id=\"T_9dd07_row1_col6\" class=\"data row1 col6\" >1.30</td>\n",
       "                        <td id=\"T_9dd07_row1_col7\" class=\"data row1 col7\" >1.00</td>\n",
       "                        <td id=\"T_9dd07_row1_col8\" class=\"data row1 col8\" >0.00</td>\n",
       "            </tr>\n",
       "            <tr>\n",
       "                        <th id=\"T_9dd07_level0_row2\" class=\"row_heading level0 row2\" >max</th>\n",
       "                        <td id=\"T_9dd07_row2_col0\" class=\"data row2 col0\" >7.00</td>\n",
       "                        <td id=\"T_9dd07_row2_col1\" class=\"data row2 col1\" >120.00</td>\n",
       "                        <td id=\"T_9dd07_row2_col2\" class=\"data row2 col2\" >3.00</td>\n",
       "                        <td id=\"T_9dd07_row2_col3\" class=\"data row2 col3\" >1,580.00</td>\n",
       "                        <td id=\"T_9dd07_row2_col4\" class=\"data row2 col4\" >16,000,000.00</td>\n",
       "                        <td id=\"T_9dd07_row2_col5\" class=\"data row2 col5\" >100.00</td>\n",
       "                        <td id=\"T_9dd07_row2_col6\" class=\"data row2 col6\" >64.00</td>\n",
       "                        <td id=\"T_9dd07_row2_col7\" class=\"data row2 col7\" >27.00</td>\n",
       "                        <td id=\"T_9dd07_row2_col8\" class=\"data row2 col8\" >29.00</td>\n",
       "            </tr>\n",
       "    </tbody></table>"
      ],
      "text/plain": [
       "<pandas.io.formats.style.Styler at 0x7f7a683da7f0>"
      ]
     },
     "execution_count": 8,
     "metadata": {},
     "output_type": "execute_result"
    }
   ],
   "source": [
    "# check\n",
    "\n",
    "# Показатели о кол-ве объявлений в датасете, минимальных и максимальных показателях \n",
    "# в выбранных параметрах о продаже квартир\n",
    "# сырые данные\n",
    "\n",
    "(\n",
    "    df[['rooms', 'total_area', 'ceiling_height', 'days_exposition', 'last_price', 'living_area',  'kitchen_area', 'floor',\n",
    "       'floors_total']]\n",
    "    .apply (['count', 'min', 'max'])   \n",
    "    .style.format(\"{:,.2f}\")\n",
    ")"
   ]
  },
  {
   "cell_type": "code",
   "execution_count": 9,
   "metadata": {},
   "outputs": [
    {
     "data": {
      "text/html": [
       "<div>\n",
       "<style scoped>\n",
       "    .dataframe tbody tr th:only-of-type {\n",
       "        vertical-align: middle;\n",
       "    }\n",
       "\n",
       "    .dataframe tbody tr th {\n",
       "        vertical-align: top;\n",
       "    }\n",
       "\n",
       "    .dataframe thead th {\n",
       "        text-align: right;\n",
       "    }\n",
       "</style>\n",
       "<table border=\"1\" class=\"dataframe\">\n",
       "  <thead>\n",
       "    <tr style=\"text-align: right;\">\n",
       "      <th></th>\n",
       "      <th>rooms</th>\n",
       "    </tr>\n",
       "  </thead>\n",
       "  <tbody>\n",
       "    <tr>\n",
       "      <th>1</th>\n",
       "      <td>7880</td>\n",
       "    </tr>\n",
       "    <tr>\n",
       "      <th>2</th>\n",
       "      <td>7419</td>\n",
       "    </tr>\n",
       "    <tr>\n",
       "      <th>3</th>\n",
       "      <td>4975</td>\n",
       "    </tr>\n",
       "    <tr>\n",
       "      <th>4</th>\n",
       "      <td>692</td>\n",
       "    </tr>\n",
       "    <tr>\n",
       "      <th>0</th>\n",
       "      <td>187</td>\n",
       "    </tr>\n",
       "    <tr>\n",
       "      <th>5</th>\n",
       "      <td>68</td>\n",
       "    </tr>\n",
       "    <tr>\n",
       "      <th>6</th>\n",
       "      <td>7</td>\n",
       "    </tr>\n",
       "    <tr>\n",
       "      <th>7</th>\n",
       "      <td>1</td>\n",
       "    </tr>\n",
       "  </tbody>\n",
       "</table>\n",
       "</div>"
      ],
      "text/plain": [
       "   rooms\n",
       "1   7880\n",
       "2   7419\n",
       "3   4975\n",
       "4    692\n",
       "0    187\n",
       "5     68\n",
       "6      7\n",
       "7      1"
      ]
     },
     "execution_count": 9,
     "metadata": {},
     "output_type": "execute_result"
    }
   ],
   "source": [
    "# check\n",
    "df.rooms.value_counts().to_frame()"
   ]
  },
  {
   "cell_type": "markdown",
   "metadata": {},
   "source": [
    "Отчистил датасет от аномальных значений.\n",
    "1. срез данных для rooms\n",
    "data_rooms - положил в переменную все объявления где количество комнат меньше 10\n",
    "\n",
    "2. срез для общей площади\n",
    "data_area - квартир с площадью более 120 метров 4% от всех наблюдейний, исключаю такие\n",
    "\n",
    "3. срез для высоты потолков, убираю 1 метровые и более 10 метров\n",
    "data_ceiling - собрал все объявления, где потолки похожи на реальные\n",
    "\n",
    "4. срез для стоимости квартир\n",
    "data_price - исключаю квартиры стоимостью более 16 млн рублей\n",
    "\n",
    "5. срез для жилой площади\n",
    "data_living_area - исключаю квартиры с жилой площадью более 70 метров\n",
    "\n",
    "6. срез для кухонной площади\n",
    "data_kitchen_area - исключаю квартиры с кухонной площадью более 20 метров\n",
    "\n",
    "7. срез для количества этажей в доме\n",
    "data_floors - исключаю объекты где количество этажей превышает 24"
   ]
  },
  {
   "cell_type": "code",
   "execution_count": 10,
   "metadata": {},
   "outputs": [
    {
     "name": "stdout",
     "output_type": "stream",
     "text": [
      "<class 'pandas.core.frame.DataFrame'>\n",
      "Int64Index: 21229 entries, 0 to 23698\n",
      "Data columns (total 28 columns):\n",
      " #   Column                Non-Null Count  Dtype  \n",
      "---  ------                --------------  -----  \n",
      " 0   total_images          21229 non-null  int64  \n",
      " 1   last_price            21229 non-null  int64  \n",
      " 2   total_area            21229 non-null  float64\n",
      " 3   first_day_exposition  21229 non-null  object \n",
      " 4   rooms                 21229 non-null  int64  \n",
      " 5   ceiling_height        12502 non-null  float64\n",
      " 6   floors_total          21229 non-null  int64  \n",
      " 7   living_area           19528 non-null  float64\n",
      " 8   floor                 21229 non-null  int64  \n",
      " 9   is_apartment          21229 non-null  bool   \n",
      " 10  studio                21229 non-null  bool   \n",
      " 11  open_plan             21229 non-null  bool   \n",
      " 12  kitchen_area          19154 non-null  float64\n",
      " 13  balcony               21229 non-null  int64  \n",
      " 14  locality_name         21188 non-null  object \n",
      " 15  airports_nearest      15790 non-null  float64\n",
      " 16  cityCenters_nearest   15805 non-null  float64\n",
      " 17  parks_around3000      21229 non-null  int64  \n",
      " 18  parks_nearest         6428 non-null   float64\n",
      " 19  ponds_around3000      21229 non-null  int64  \n",
      " 20  ponds_nearest         7493 non-null   float64\n",
      " 21  days_exposition       18652 non-null  float64\n",
      " 22  to_much_rooms         21229 non-null  bool   \n",
      " 23  too_much_area         21229 non-null  bool   \n",
      " 24  too_much_price        21229 non-null  bool   \n",
      " 25  too_much_living       21229 non-null  bool   \n",
      " 26  too_much_kitchen      21229 non-null  bool   \n",
      " 27  too_much_floors       21229 non-null  bool   \n",
      "dtypes: bool(9), float64(9), int64(8), object(2)\n",
      "memory usage: 3.4+ MB\n"
     ]
    }
   ],
   "source": [
    "# check\n",
    "df.info()"
   ]
  },
  {
   "cell_type": "markdown",
   "metadata": {},
   "source": [
    "### Посчитайте и добавьте в таблицу новые столбцы"
   ]
  },
  {
   "cell_type": "code",
   "execution_count": 11,
   "metadata": {},
   "outputs": [],
   "source": [
    "df['price_per_meter'] = (df['last_price'] / df['total_area']).astype('int')\n",
    "df['first_day_exposition'] = pd.to_datetime(df['first_day_exposition'], format='%Y-%m-%d')\n",
    "df['weekday_expo'] = df['first_day_exposition'].dt.weekday\n",
    "df['month_expo'] = df['first_day_exposition'].dt.month\n",
    "df['year_expo'] = df['first_day_exposition'].dt.year\n",
    "\n",
    "def floor_type (floor_number):\n",
    "    if floor_number['floor'] <= 1:\n",
    "        return 'Первый'\n",
    "    elif floor_number['floor'] == floor_number['floors_total']:\n",
    "        return 'Последний'\n",
    "    else: return 'Другой'\n",
    "df['floor_type'] = df[['floor', 'floors_total']].apply(floor_type, axis=1)\n",
    "#print(df['floor_type'].value_counts())\n",
    "\n",
    "df['km_to_citycenter'] = round((df['cityCenters_nearest'] / 1000).astype('float'), 1)\n",
    "# df['price_per_km'] = (df['last_price'] / df['km_to_citycenter']).astype('int')\n"
   ]
  },
  {
   "cell_type": "markdown",
   "metadata": {},
   "source": [
    "### Проведите исследовательский анализ данных"
   ]
  },
  {
   "cell_type": "markdown",
   "metadata": {},
   "source": [
    "Общая площадь имеет очень много выбросов в большую сторону. Так медиана равна 52 кв метрам, тогда как выбросами считаются значения менее - 4,85 (Q1 - 1.5IQR) и более 114,75 (Q3 + 1.5IQR, IQR = 44,85). Минимальное значение 12 кв метров. По гистограмме видно, что большинство наблюдений (пики) приходятся на значение 30 квм, 45-47, 60. Наиболее популярные площади квартир. "
   ]
  },
  {
   "cell_type": "code",
   "execution_count": 12,
   "metadata": {},
   "outputs": [
    {
     "name": "stdout",
     "output_type": "stream",
     "text": [
      "count    21229.000000\n",
      "mean        53.238305\n",
      "std         18.769578\n",
      "min         12.000000\n",
      "25%         39.000000\n",
      "50%         49.000000\n",
      "75%         63.700000\n",
      "max        120.000000\n",
      "Name: total_area, dtype: float64\n"
     ]
    },
    {
     "data": {
      "text/plain": [
       "<AxesSubplot:>"
      ]
     },
     "execution_count": 12,
     "metadata": {},
     "output_type": "execute_result"
    },
    {
     "data": {
      "image/png": "[encoded data removed]",
      "text/plain": [
       "<Figure size 432x288 with 1 Axes>"
      ]
     },
     "metadata": {
      "needs_background": "light"
     },
     "output_type": "display_data"
    }
   ],
   "source": [
    "print(df['total_area'].describe())\n",
    "#df.boxplot(column='total_area')\n",
    "#plt.show()\n",
    "df['total_area'].hist(bins=200, range=(10, 200))"
   ]
  },
  {
   "cell_type": "markdown",
   "metadata": {},
   "source": [
    "Посмотрел графики и примеры из ссылок, но как-то совсем не разобрался как это можно применить к моей гистограмме.\n",
    "У hist есть такие вот переменные (column=None, by=None, grid=True, xlabelsize=None, xrot=None, ylabelsize=None, yrot=None, ax=None, sharex=False, sharey=False, figsize=None, layout=None, bins=10, backend=None, legend=False), но тут нет названия.\n",
    "Получается мне надо строить график не через pd  а через plt?"
   ]
  },
  {
   "cell_type": "markdown",
   "metadata": {},
   "source": [
    "На гистограмме жилой площади видно, что преобладают площади в диапазонах 15-20, 25-45 кв метров, после чего количество наблюдений уменьшается. Среднее значение 34,4, медиана 42,3. Границы выбросов -16,95 и 77,85."
   ]
  },
  {
   "cell_type": "code",
   "execution_count": 13,
   "metadata": {},
   "outputs": [
    {
     "name": "stdout",
     "output_type": "stream",
     "text": [
      "count    19528.000000\n",
      "mean        30.350286\n",
      "std         13.056500\n",
      "min          2.000000\n",
      "25%         18.000000\n",
      "50%         29.000000\n",
      "75%         39.200000\n",
      "max        100.000000\n",
      "Name: living_area, dtype: float64\n"
     ]
    },
    {
     "data": {
      "text/plain": [
       "<AxesSubplot:>"
      ]
     },
     "execution_count": 13,
     "metadata": {},
     "output_type": "execute_result"
    },
    {
     "data": {
      "image/png": "[encoded data removed]",
      "text/plain": [
       "<Figure size 432x288 with 1 Axes>"
      ]
     },
     "metadata": {
      "needs_background": "light"
     },
     "output_type": "display_data"
    }
   ],
   "source": [
    "print(df['living_area'].describe())\n",
    "df['living_area'].hist(bins=200, range=(1, 100))"
   ]
  },
  {
   "cell_type": "markdown",
   "metadata": {},
   "source": [
    "Средняя площадь кухни составляет 10.5 метров. Большинство наблюдений приходится на 7-12 метров. Выбросы в пределах -0,5 до 19,5  "
   ]
  },
  {
   "cell_type": "code",
   "execution_count": 14,
   "metadata": {},
   "outputs": [
    {
     "name": "stdout",
     "output_type": "stream",
     "text": [
      "count    19154.000000\n",
      "mean         9.688579\n",
      "std          4.029247\n",
      "min          1.300000\n",
      "25%          7.000000\n",
      "50%          9.000000\n",
      "75%         11.000000\n",
      "max         64.000000\n",
      "Name: kitchen_area, dtype: float64\n"
     ]
    },
    {
     "data": {
      "text/plain": [
       "<AxesSubplot:>"
      ]
     },
     "execution_count": 14,
     "metadata": {},
     "output_type": "execute_result"
    },
    {
     "data": {
      "image/png": "[encoded data removed]",
      "text/plain": [
       "<Figure size 432x288 with 1 Axes>"
      ]
     },
     "metadata": {
      "needs_background": "light"
     },
     "output_type": "display_data"
    }
   ],
   "source": [
    "print(df['kitchen_area'].describe())\n",
    "df['kitchen_area'].hist(bins=100, range=(1, 50))"
   ]
  },
  {
   "cell_type": "markdown",
   "metadata": {},
   "source": [
    "Да гистограмме видно, что чем дороже квартира, тем хуже её покупают и соответственно меньше их количество. Основная группа наблюдений в диапазоне 3,4 млн - 6,8 млн. Если верить учебнику, то выбросы будем считать от 0 до 10,2 млн."
   ]
  },
  {
   "cell_type": "code",
   "execution_count": 15,
   "metadata": {},
   "outputs": [
    {
     "name": "stdout",
     "output_type": "stream",
     "text": [
      "count       21229.0\n",
      "mean      4960050.2\n",
      "std       2569861.3\n",
      "min         12190.0\n",
      "25%       3300000.0\n",
      "50%       4400000.0\n",
      "75%       5990000.0\n",
      "max      16000000.0\n",
      "Name: last_price, dtype: object\n"
     ]
    },
    {
     "data": {
      "text/plain": [
       "<AxesSubplot:>"
      ]
     },
     "execution_count": 15,
     "metadata": {},
     "output_type": "execute_result"
    },
    {
     "data": {
      "image/png": "[encoded data removed]",
      "text/plain": [
       "<Figure size 432x288 with 1 Axes>"
      ]
     },
     "metadata": {
      "needs_background": "light"
     },
     "output_type": "display_data"
    }
   ],
   "source": [
    "print(df['last_price'].describe().apply(\"{0:.1f}\".format))\n",
    "df['last_price'].hist(bins=100, range=(3000000, 20000000))"
   ]
  },
  {
   "cell_type": "code",
   "execution_count": 16,
   "metadata": {},
   "outputs": [
    {
     "name": "stdout",
     "output_type": "stream",
     "text": [
      "count    21229.000000\n",
      "mean         1.921899\n",
      "std          0.894641\n",
      "min          0.000000\n",
      "25%          1.000000\n",
      "50%          2.000000\n",
      "75%          3.000000\n",
      "max          7.000000\n",
      "Name: rooms, dtype: float64\n"
     ]
    },
    {
     "data": {
      "text/plain": [
       "<AxesSubplot:>"
      ]
     },
     "execution_count": 16,
     "metadata": {},
     "output_type": "execute_result"
    },
    {
     "data": {
      "image/png": "[encoded data removed]",
      "text/plain": [
       "<Figure size 432x288 with 1 Axes>"
      ]
     },
     "metadata": {
      "needs_background": "light"
     },
     "output_type": "display_data"
    }
   ],
   "source": [
    "print(df['rooms'].describe())\n",
    "df['rooms'].hist(bins=10, range=(0, 15))"
   ]
  },
  {
   "cell_type": "markdown",
   "metadata": {},
   "source": [
    "Средняя высота потолко составляет 2,7 метра, хотя есть те, у кого всего 1 метр. Основное количество наблюдений от 2,5 до 2,8 метров. Выбросы - меньше 2,2 и больше 3,1."
   ]
  },
  {
   "cell_type": "code",
   "execution_count": 17,
   "metadata": {},
   "outputs": [
    {
     "name": "stdout",
     "output_type": "stream",
     "text": [
      "count    12502.000000\n",
      "mean         2.645512\n",
      "std          0.147627\n",
      "min          2.000000\n",
      "25%          2.500000\n",
      "50%          2.600000\n",
      "75%          2.750000\n",
      "max          3.000000\n",
      "Name: ceiling_height, dtype: float64\n"
     ]
    },
    {
     "data": {
      "text/plain": [
       "<AxesSubplot:>"
      ]
     },
     "execution_count": 17,
     "metadata": {},
     "output_type": "execute_result"
    },
    {
     "data": {
      "image/png": "[encoded data removed]",
      "text/plain": [
       "<Figure size 432x288 with 1 Axes>"
      ]
     },
     "metadata": {
      "needs_background": "light"
     },
     "output_type": "display_data"
    }
   ],
   "source": [
    "print(df['ceiling_height'].describe())\n",
    "df['ceiling_height'].hist(bins=20, range=(0, 6))"
   ]
  },
  {
   "cell_type": "markdown",
   "metadata": {},
   "source": [
    "В среднем для Питера люди покупают квартиры на 5-6 этажах. Основная совокупность наблюдений от 2 до 8 этажа. Выбросы - менее -4(0) и более 14."
   ]
  },
  {
   "cell_type": "code",
   "execution_count": 18,
   "metadata": {},
   "outputs": [
    {
     "name": "stdout",
     "output_type": "stream",
     "text": [
      "count    21229.000000\n",
      "mean         6.011447\n",
      "std          4.946093\n",
      "min          1.000000\n",
      "25%          2.000000\n",
      "50%          5.000000\n",
      "75%          8.000000\n",
      "max         27.000000\n",
      "Name: floor, dtype: float64\n"
     ]
    },
    {
     "data": {
      "text/plain": [
       "<AxesSubplot:>"
      ]
     },
     "execution_count": 18,
     "metadata": {},
     "output_type": "execute_result"
    },
    {
     "data": {
      "image/png": "[encoded data removed]",
      "text/plain": [
       "<Figure size 432x288 with 1 Axes>"
      ]
     },
     "metadata": {
      "needs_background": "light"
     },
     "output_type": "display_data"
    }
   ],
   "source": [
    "print(df['floor'].describe())\n",
    "df['floor'].hist(bins=20, range=(0, 33))"
   ]
  },
  {
   "cell_type": "markdown",
   "metadata": {},
   "source": [
    "В основном люди покупают квартиры между первым и последним этажами, таких 73%. Любителей последнего эатаж 14% и 12% первого."
   ]
  },
  {
   "cell_type": "code",
   "execution_count": 19,
   "metadata": {},
   "outputs": [
    {
     "name": "stdout",
     "output_type": "stream",
     "text": [
      "0.7391304347826086\n",
      "0.12628950963304914\n",
      "0.13458005558434216\n"
     ]
    },
    {
     "data": {
      "text/plain": [
       "<AxesSubplot:>"
      ]
     },
     "execution_count": 19,
     "metadata": {},
     "output_type": "execute_result"
    },
    {
     "data": {
      "image/png": "[encoded data removed]",
      "text/plain": [
       "<Figure size 432x288 with 1 Axes>"
      ]
     },
     "metadata": {
      "needs_background": "light"
     },
     "output_type": "display_data"
    }
   ],
   "source": [
    "print(len(df.query('floor_type == \"Другой\"')) / len(df))\n",
    "print(len(df.query('floor_type == \"Первый\"')) / len(df))\n",
    "print(len(df.query('floor_type == \"Последний\"')) / len(df))\n",
    "df['floor_type'].hist(bins=6)"
   ]
  },
  {
   "cell_type": "markdown",
   "metadata": {},
   "source": [
    "В среднем в Питере 10 этажные дома. Основная совокупность наблюдений от 5 до 16. Есть небоскреб на 60 этажей. Выбросы менее -6(0) и более 27. "
   ]
  },
  {
   "cell_type": "code",
   "execution_count": 20,
   "metadata": {},
   "outputs": [
    {
     "name": "stdout",
     "output_type": "stream",
     "text": [
      "count    21229.000000\n",
      "mean        10.956899\n",
      "std          6.630165\n",
      "min          0.000000\n",
      "25%          5.000000\n",
      "50%          9.000000\n",
      "75%         16.000000\n",
      "max         29.000000\n",
      "Name: floors_total, dtype: float64\n"
     ]
    },
    {
     "data": {
      "text/plain": [
       "<AxesSubplot:>"
      ]
     },
     "execution_count": 20,
     "metadata": {},
     "output_type": "execute_result"
    },
    {
     "data": {
      "image/png": "[encoded data removed]",
      "text/plain": [
       "<Figure size 432x288 with 1 Axes>"
      ]
     },
     "metadata": {
      "needs_background": "light"
     },
     "output_type": "display_data"
    }
   ],
   "source": [
    "print(df['floors_total'].describe())\n",
    "df['floors_total'].hist(bins=30, range=(0, 33))"
   ]
  },
  {
   "cell_type": "markdown",
   "metadata": {},
   "source": [
    "В основном люди живут от центра на расстоянии 14 км. Самая близкая квартира всего в 181 метре от центра. Основная совокупность наблюдений от 9,2 до 16,2 км от центра."
   ]
  },
  {
   "cell_type": "code",
   "execution_count": 21,
   "metadata": {},
   "outputs": [
    {
     "name": "stdout",
     "output_type": "stream",
     "text": [
      "count    15805.000000\n",
      "mean     15153.074407\n",
      "std       8329.238362\n",
      "min        399.000000\n",
      "25%      10890.000000\n",
      "50%      13729.000000\n",
      "75%      16715.000000\n",
      "max      65968.000000\n",
      "Name: cityCenters_nearest, dtype: float64\n"
     ]
    },
    {
     "data": {
      "text/plain": [
       "<AxesSubplot:>"
      ]
     },
     "execution_count": 21,
     "metadata": {},
     "output_type": "execute_result"
    },
    {
     "data": {
      "image/png": "[encoded data removed]",
      "text/plain": [
       "<Figure size 432x288 with 1 Axes>"
      ]
     },
     "metadata": {
      "needs_background": "light"
     },
     "output_type": "display_data"
    }
   ],
   "source": [
    "print(df['cityCenters_nearest'].describe())\n",
    "df['cityCenters_nearest'].hist(bins=30, range=(1000, 40000))"
   ]
  },
  {
   "cell_type": "markdown",
   "metadata": {},
   "source": [
    "Среднее расстояние до аэропорта составляет 28 км. Основная совокупность наблюдений в диапазоне от 18,5 до 37,2 км.  "
   ]
  },
  {
   "cell_type": "code",
   "execution_count": 22,
   "metadata": {},
   "outputs": [
    {
     "name": "stdout",
     "output_type": "stream",
     "text": [
      "count    15790.000000\n",
      "mean     29113.335782\n",
      "std      13084.435189\n",
      "min          0.000000\n",
      "25%      17892.000000\n",
      "50%      27687.000000\n",
      "75%      38305.750000\n",
      "max      84869.000000\n",
      "Name: airports_nearest, dtype: float64\n"
     ]
    },
    {
     "data": {
      "text/plain": [
       "<AxesSubplot:>"
      ]
     },
     "execution_count": 22,
     "metadata": {},
     "output_type": "execute_result"
    },
    {
     "data": {
      "image/png": "[encoded data removed]",
      "text/plain": [
       "<Figure size 432x288 with 1 Axes>"
      ]
     },
     "metadata": {
      "needs_background": "light"
     },
     "output_type": "display_data"
    }
   ],
   "source": [
    "print(df['airports_nearest'].describe())\n",
    "df['airports_nearest'].hist(bins=100, range=(5000, 60000))"
   ]
  },
  {
   "cell_type": "markdown",
   "metadata": {},
   "source": [
    "Из диаграммы видно что большинство людей живет в диапазоне от 288 до 612 метров до парка. Кто-то живет через дорогу (мин 1 метр). Среднее значение 490 метров."
   ]
  },
  {
   "cell_type": "code",
   "execution_count": 23,
   "metadata": {},
   "outputs": [
    {
     "name": "stdout",
     "output_type": "stream",
     "text": [
      "count    6428.000000\n",
      "mean      500.978687\n",
      "std       343.205245\n",
      "min         1.000000\n",
      "25%       300.000000\n",
      "50%       463.000000\n",
      "75%       621.000000\n",
      "max      3190.000000\n",
      "Name: parks_nearest, dtype: float64\n"
     ]
    },
    {
     "data": {
      "text/plain": [
       "<AxesSubplot:>"
      ]
     },
     "execution_count": 23,
     "metadata": {},
     "output_type": "execute_result"
    },
    {
     "data": {
      "image/png": "[encoded data removed]",
      "text/plain": [
       "<Figure size 432x288 with 1 Axes>"
      ]
     },
     "metadata": {
      "needs_background": "light"
     },
     "output_type": "display_data"
    }
   ],
   "source": [
    "print(df['parks_nearest'].describe())\n",
    "df['parks_nearest'].hist(bins=100, range=(1, 1000))"
   ]
  },
  {
   "cell_type": "markdown",
   "metadata": {},
   "source": [
    "В основном люди склонны публиковать объявления в первых числах месяца, тогда как наиболее популярные месяцы приходятся на конец зимы и первую половину весны."
   ]
  },
  {
   "cell_type": "code",
   "execution_count": 24,
   "metadata": {},
   "outputs": [
    {
     "data": {
      "image/png": "[encoded data removed]",
      "text/plain": [
       "<Figure size 432x288 with 1 Axes>"
      ]
     },
     "metadata": {
      "needs_background": "light"
     },
     "output_type": "display_data"
    },
    {
     "data": {
      "image/png": "[encoded data removed]",
      "text/plain": [
       "<Figure size 432x288 with 1 Axes>"
      ]
     },
     "metadata": {
      "needs_background": "light"
     },
     "output_type": "display_data"
    }
   ],
   "source": [
    "df['weekday_expo'].hist(bins=31, range=(1, 7))\n",
    "plt.show()\n",
    "df['month_expo'].hist(bins=12, range=(1, 12))\n",
    "plt.show()"
   ]
  },
  {
   "cell_type": "markdown",
   "metadata": {},
   "source": [
    "Переделал. Изменил range на (1,7). Да, тогда вывод такой, что люди публикуют объявления с понедельника по четверг."
   ]
  },
  {
   "cell_type": "markdown",
   "metadata": {},
   "source": [
    "В среднем квартиры продаются за полгода, тогда как медианное значение показателя составляет квартал. Такая разница обусловлена тем, что ряд квартир продается очень долгое время, максимальное значение более 4 лет (1580 дней). Быстрыми можно считать продажи менее 45 дней, тогда как необычно долгими будут более 232 дней."
   ]
  },
  {
   "cell_type": "code",
   "execution_count": 25,
   "metadata": {},
   "outputs": [
    {
     "name": "stdout",
     "output_type": "stream",
     "text": [
      "count    18652.000000\n",
      "mean       171.733487\n",
      "std        210.066195\n",
      "min          1.000000\n",
      "25%         44.000000\n",
      "50%         91.000000\n",
      "75%        217.000000\n",
      "max       1580.000000\n",
      "Name: days_exposition, dtype: float64\n"
     ]
    },
    {
     "data": {
      "text/plain": [
       "<AxesSubplot:>"
      ]
     },
     "execution_count": 25,
     "metadata": {},
     "output_type": "execute_result"
    },
    {
     "data": {
      "image/png": "[encoded data removed]",
      "text/plain": [
       "<Figure size 432x288 with 1 Axes>"
      ]
     },
     "metadata": {
      "needs_background": "light"
     },
     "output_type": "display_data"
    }
   ],
   "source": [
    "print(df['days_exposition'].describe())\n",
    "df['days_exposition'].hist(bins=100, range=(1, 400))"
   ]
  },
  {
   "cell_type": "markdown",
   "metadata": {},
   "source": [
    "Для расчета корреляции буду использовать срез данных по значениям ящика с усами показателя - стоимость квартиры в городе Санкт-Петербург, так как в данном населенном пункте больше всего объектов для наблюдения и корреляцию правильнее строить для каждого населенного пункта отдельно. В рамках обучения пусть это будет Питер. Таким образом в исследуемую совокупность попадут значения от 2,1 млн (4,2 * 0,5) до 12,24 млн (8,16 * 1,5), всё остальное буду считать аномалиями.\n",
    "\n",
    "1. Корреляция цены и общей площади довольно высокая - 80%, можно сказать, что это основной показатель определяющий стоимость квартиры в Питере.\n",
    "2. Вторым по значимости идет размер жилой площади, где корреляция 67%.\n",
    "3. Количество комнат и размер кухни последний фактор определяющий размер стоимсоти квартиры (корр 52 и 53 соответственно).\n",
    "4. Корреляцию по типу этажа не смог посчитать и не уверен, что правильно посчитал корреляцию по датам размещения.\n",
    "5. Корреляций по датам размещения нет совсем."
   ]
  },
  {
   "cell_type": "code",
   "execution_count": 26,
   "metadata": {},
   "outputs": [
    {
     "name": "stdout",
     "output_type": "stream",
     "text": [
      "count       13449.0\n",
      "mean      5866310.4\n",
      "std       2573741.1\n",
      "min         12190.0\n",
      "25%       4050000.0\n",
      "50%       5100000.0\n",
      "75%       6900000.0\n",
      "max      16000000.0\n",
      "Name: last_price, dtype: object\n",
      "0.7963582444601752\n",
      "0.6467857885279472\n",
      "0.5390598446765783\n",
      "0.4997817926401993\n",
      "-0.002431285491352795\n",
      "-0.0026862513100680283\n",
      "0.023563684418881754\n"
     ]
    }
   ],
   "source": [
    "data_for_analysis = df.query('locality_name == \"Санкт-Петербург\"') #сделал срез\n",
    "print(data_for_analysis['last_price'].describe().apply(\"{0:.1f}\".format)) #определяем аномалии и выбросы по Q1-Q3\n",
    "good_data = data_for_analysis.query('2100000 <= last_price <= 12240000')\n",
    "\n",
    "print(good_data['last_price'].corr(good_data['total_area'])) #корреляция для общей площади\n",
    "print(good_data['last_price'].corr(good_data['living_area']))\n",
    "print(good_data['last_price'].corr(good_data['kitchen_area']))\n",
    "print(good_data['last_price'].corr(good_data['rooms']))\n",
    "#print(good_data['last_price'].corr(good_data['floor_type'])) \n",
    "print(good_data['last_price'].corr(good_data['weekday_expo']))\n",
    "print(good_data['last_price'].corr(good_data['month_expo']))\n",
    "print(good_data['last_price'].corr(good_data['year_expo']))\n",
    "\n"
   ]
  },
  {
   "cell_type": "code",
   "execution_count": 27,
   "metadata": {},
   "outputs": [
    {
     "data": {
      "image/png": "[encoded data removed]",
      "text/plain": [
       "<Figure size 1080x504 with 1 Axes>"
      ]
     },
     "metadata": {
      "needs_background": "light"
     },
     "output_type": "display_data"
    }
   ],
   "source": [
    "weekday_plot = df.query('locality_name == \"Санкт-Петербург\"')\n",
    "weekday_stat = weekday_plot.pivot_table(index='weekday_expo', values='last_price')\n",
    "weekday_stat.plot(grid=True, figsize=(15,7));"
   ]
  },
  {
   "cell_type": "code",
   "execution_count": 28,
   "metadata": {},
   "outputs": [
    {
     "data": {
      "image/png": "[encoded data removed]",
      "text/plain": [
       "<Figure size 1080x864 with 1 Axes>"
      ]
     },
     "metadata": {
      "needs_background": "light"
     },
     "output_type": "display_data"
    }
   ],
   "source": [
    "month_plot = df.query('locality_name == \"Санкт-Петербург\"')\n",
    "month_stat = month_plot.pivot_table(index='month_expo', values='last_price')\n",
    "month_stat.plot(grid=True, figsize=(15,12));"
   ]
  },
  {
   "cell_type": "code",
   "execution_count": 29,
   "metadata": {
    "scrolled": false
   },
   "outputs": [
    {
     "data": {
      "image/png": "[encoded data removed]",
      "text/plain": [
       "<Figure size 1080x864 with 1 Axes>"
      ]
     },
     "metadata": {
      "needs_background": "light"
     },
     "output_type": "display_data"
    }
   ],
   "source": [
    "year_plot = df.query('locality_name == \"Санкт-Петербург\"')\n",
    "year_stat = year_plot.pivot_table(index='year_expo', values='last_price')\n",
    "year_stat.plot(grid=True, figsize=(15,12));"
   ]
  },
  {
   "cell_type": "code",
   "execution_count": 30,
   "metadata": {},
   "outputs": [
    {
     "data": {
      "image/png": "[encoded data removed]",
      "text/plain": [
       "<Figure size 1080x360 with 1 Axes>"
      ]
     },
     "metadata": {
      "needs_background": "light"
     },
     "output_type": "display_data"
    }
   ],
   "source": [
    "data_price_stat = data_price.query('locality_name == \"Санкт-Петербург\"')\n",
    "data_price_stat.plot(x='last_price', y='total_area', kind='scatter', figsize=(15,5));\n",
    "#сделал точечный график, но не могу понять что он нам показывает. Похоже что чем больше площадь,\n",
    "#тем больше цена, но мне кажется график не очень информативен."
   ]
  },
  {
   "cell_type": "code",
   "execution_count": 31,
   "metadata": {},
   "outputs": [
    {
     "data": {
      "image/png": "[encoded data removed]",
      "text/plain": [
       "<Figure size 1080x360 with 1 Axes>"
      ]
     },
     "metadata": {
      "needs_background": "light"
     },
     "output_type": "display_data"
    }
   ],
   "source": [
    "data_living_stat = data_living_area.query('locality_name == \"Санкт-Петербург\"')\n",
    "data_living_stat.plot(x='last_price', y='living_area', kind='scatter', figsize=(15,5));"
   ]
  },
  {
   "cell_type": "code",
   "execution_count": 32,
   "metadata": {},
   "outputs": [
    {
     "data": {
      "image/png": "[encoded data removed]",
      "text/plain": [
       "<Figure size 1080x360 with 1 Axes>"
      ]
     },
     "metadata": {
      "needs_background": "light"
     },
     "output_type": "display_data"
    }
   ],
   "source": [
    "data_kitchen_stat = data_kitchen_area.query('locality_name == \"Санкт-Петербург\"')\n",
    "data_kitchen_stat.plot(x='last_price', y='kitchen_area', kind='scatter', figsize=(15,5));"
   ]
  },
  {
   "cell_type": "code",
   "execution_count": 33,
   "metadata": {},
   "outputs": [
    {
     "data": {
      "image/png": "[encoded data removed]",
      "text/plain": [
       "<Figure size 1080x360 with 1 Axes>"
      ]
     },
     "metadata": {
      "needs_background": "light"
     },
     "output_type": "display_data"
    }
   ],
   "source": [
    "data_rooms_stat = data_rooms.query('locality_name == \"Санкт-Петербург\"')\n",
    "data_rooms_stat.plot(x='rooms', y='last_price', kind='scatter', figsize=(15,5));"
   ]
  },
  {
   "cell_type": "code",
   "execution_count": 34,
   "metadata": {},
   "outputs": [
    {
     "name": "stdout",
     "output_type": "stream",
     "text": [
      "              last_price\n",
      "floor_type              \n",
      "Другой      5.647987e+06\n",
      "Первый      5.040041e+06\n",
      "Последний   5.492662e+06\n"
     ]
    },
    {
     "data": {
      "image/png": "[encoded data removed]",
      "text/plain": [
       "<Figure size 360x360 with 1 Axes>"
      ]
     },
     "metadata": {
      "needs_background": "light"
     },
     "output_type": "display_data"
    }
   ],
   "source": [
    "floor_type_stat = good_data.pivot_table(index='floor_type', values='last_price', aggfunc='mean')\n",
    "print(floor_type_stat)\n",
    "floor_type_stat.plot(kind='bar', figsize=(5,5));"
   ]
  },
  {
   "cell_type": "markdown",
   "metadata": {},
   "source": [
    "Самый дорогой квадратный метр в городе Санкт-Петербург - 114 тыс. и Пушкин - 103 тыс.\n",
    "Самый дешевый в Всеволжске - 68 тыс и Выборге - 58 тыс."
   ]
  },
  {
   "cell_type": "code",
   "execution_count": 35,
   "metadata": {},
   "outputs": [
    {
     "name": "stdout",
     "output_type": "stream",
     "text": [
      "                    last_price  price_per_meter  quantity  total_area\n",
      "locality_name                                                        \n",
      "Санкт-Петербург    78896008814    107196.920068     13449   739195.67\n",
      "Пушкин              1818271964    101178.231231       333    17912.38\n",
      "деревня Кудрово     1266013220     92473.086957       299    13924.95\n",
      "поселок Парголово   1459700459     90331.840491       326    16646.00\n",
      "поселок Мурино      2030712930     85681.305755       556    24442.54\n",
      "поселок Шушары      1791548999     78643.367580       438    23493.36\n",
      "Колпино             1240569246     75412.843558       326    16761.34\n",
      "Гатчина             1025440360     68807.060201       299    14894.18\n",
      "Всеволожск          1439236065     67152.815385       390    21594.31\n"
     ]
    },
    {
     "data": {
      "image/png": "[encoded data removed]",
      "text/plain": [
       "<Figure size 720x360 with 1 Axes>"
      ]
     },
     "metadata": {
      "needs_background": "light"
     },
     "output_type": "display_data"
    }
   ],
   "source": [
    "df['quantity'] = 1\n",
    "data_stat = df.pivot_table(\n",
    "    index='locality_name',\n",
    "    values=['price_per_meter', 'quantity', 'last_price', 'total_area'],\n",
    "    aggfunc={'price_per_meter': 'mean', 'quantity': 'count', 'last_price': 'sum', 'total_area': 'sum'})\n",
    "#print(data_stat.sort_values(by='quantity', ascending=False).head(10))\n",
    "\n",
    "top_data_stat = data_stat.query('quantity >= 237')\n",
    "print(top_data_stat.sort_values(by='price_per_meter', ascending=False))\n",
    "top_data_stat.plot(kind='bar', y='price_per_meter', figsize=(10,5));"
   ]
  },
  {
   "cell_type": "markdown",
   "metadata": {},
   "source": [
    "В Питере средняя цена за 1 км составляет 1519 рублей.\n",
    "Корреляция цены от расстояния до центра составляет 62%, можно сказать, что чем ближе к центру, тем более высокая наценка."
   ]
  },
  {
   "cell_type": "code",
   "execution_count": 36,
   "metadata": {},
   "outputs": [
    {
     "name": "stderr",
     "output_type": "stream",
     "text": [
      "/tmp/ipykernel_840/4234432540.py:2: SettingWithCopyWarning: \n",
      "A value is trying to be set on a copy of a slice from a DataFrame.\n",
      "Try using .loc[row_indexer,col_indexer] = value instead\n",
      "\n",
      "See the caveats in the documentation: https://pandas.pydata.org/pandas-docs/stable/user_guide/indexing.html#returning-a-view-versus-a-copy\n",
      "  data_for_analysis['price_per_km'] = (data_for_analysis['last_price'] / data_for_analysis['km_to_citycenter'])\n"
     ]
    }
   ],
   "source": [
    "# check\n",
    "data_for_analysis['price_per_km'] = (data_for_analysis['last_price'] / data_for_analysis['km_to_citycenter'])"
   ]
  },
  {
   "cell_type": "code",
   "execution_count": 37,
   "metadata": {
    "scrolled": true
   },
   "outputs": [
    {
     "name": "stdout",
     "output_type": "stream",
     "text": [
      "665128.311040539\n",
      "0.5179116046791858\n"
     ]
    }
   ],
   "source": [
    "avrg_price_per_km = data_for_analysis['price_per_km'].mean()\n",
    "print(avrg_price_per_km)\n",
    "\n",
    "print(data_for_analysis['last_price'].corr(data_for_analysis['price_per_km']))\n"
   ]
  },
  {
   "cell_type": "code",
   "execution_count": 38,
   "metadata": {},
   "outputs": [
    {
     "data": {
      "image/png": "[encoded data removed]",
      "text/plain": [
       "<Figure size 1080x360 with 1 Axes>"
      ]
     },
     "metadata": {
      "needs_background": "light"
     },
     "output_type": "display_data"
    }
   ],
   "source": [
    "avrg_price_per_km = df.query('locality_name == \"Санкт-Петербург\"')\n",
    "avrg_price_per_km_stat = avrg_price_per_km.pivot_table(index='km_to_citycenter', values='last_price')\n",
    "avrg_price_per_km_stat.plot(grid=True, figsize=(15,5));"
   ]
  },
  {
   "cell_type": "code",
   "execution_count": 39,
   "metadata": {},
   "outputs": [],
   "source": [
    "# check\n",
    "df['km_to_citycenter'] = df['km_to_citycenter'].round()"
   ]
  },
  {
   "cell_type": "code",
   "execution_count": 40,
   "metadata": {},
   "outputs": [
    {
     "data": {
      "image/png": "[encoded data removed]",
      "text/plain": [
       "<Figure size 1080x360 with 1 Axes>"
      ]
     },
     "metadata": {
      "needs_background": "light"
     },
     "output_type": "display_data"
    }
   ],
   "source": [
    "# check\n",
    "avrg_price_per_km = df.query('locality_name == \"Санкт-Петербург\"')\n",
    "avrg_price_per_km_stat = avrg_price_per_km.pivot_table(index='km_to_citycenter', values='last_price')\n",
    "avrg_price_per_km_stat.plot(grid=True, figsize=(15,5));"
   ]
  },
  {
   "cell_type": "markdown",
   "metadata": {},
   "source": [
    "### Общий вывод"
   ]
  },
  {
   "cell_type": "markdown",
   "metadata": {},
   "source": [
    "Задачей было выполнить предобработку данных и изучить их, чтобы найти интересные особенности и зависимости, которые существуют на рынке недвижимости.\n",
    "\n",
    "1. Средняя стоимость квартиры составляет - 6,5 млн рублей. Минимальное значение 12,1 тыс, а максимальное 793 млн рублей.\n",
    "2. Самое большое количество объявлений в Санкт-Петербурге и Пушкине.\n",
    "3. Средняя стоимость квадратного метра в Санкт-Петербурге - 114 тыс, в Пушкине - 103 тыс рублей.\n",
    "4. Самое большое влияние на стоимость квартиры оказывает общая и жилая площади, где больше всего показатель корреляции."
   ]
  }
 ],
 "metadata": {
  "ExecuteTimeLog": [
   {
    "duration": 598,
    "start_time": "2022-07-21T15:42:02.685Z"
   },
   {
    "duration": 94,
    "start_time": "2022-07-21T15:43:29.912Z"
   },
   {
    "duration": 127,
    "start_time": "2022-07-21T15:45:05.328Z"
   },
   {
    "duration": 186,
    "start_time": "2022-07-21T15:47:24.885Z"
   },
   {
    "duration": 2487,
    "start_time": "2022-07-21T15:47:42.143Z"
   },
   {
    "duration": 28828,
    "start_time": "2022-07-21T15:49:56.389Z"
   },
   {
    "duration": 28682,
    "start_time": "2022-07-21T15:50:44.302Z"
   },
   {
    "duration": 112,
    "start_time": "2022-07-21T15:51:40.660Z"
   },
   {
    "duration": 28484,
    "start_time": "2022-07-21T15:52:13.173Z"
   },
   {
    "duration": 1821,
    "start_time": "2022-07-21T15:55:01.996Z"
   },
   {
    "duration": 113,
    "start_time": "2022-07-21T15:58:33.239Z"
   },
   {
    "duration": 128,
    "start_time": "2022-07-21T15:59:11.584Z"
   },
   {
    "duration": 118,
    "start_time": "2022-07-21T16:00:12.825Z"
   },
   {
    "duration": 1917,
    "start_time": "2022-07-21T16:02:11.872Z"
   },
   {
    "duration": 2312,
    "start_time": "2022-07-21T16:03:22.142Z"
   },
   {
    "duration": 2290,
    "start_time": "2022-07-21T16:06:38.822Z"
   },
   {
    "duration": 17,
    "start_time": "2022-07-21T16:06:53.412Z"
   },
   {
    "duration": 2150,
    "start_time": "2022-07-21T16:09:49.427Z"
   },
   {
    "duration": 649,
    "start_time": "2022-07-21T16:31:47.463Z"
   },
   {
    "duration": 4,
    "start_time": "2022-07-21T16:35:44.843Z"
   },
   {
    "duration": 22,
    "start_time": "2022-07-21T16:35:54.373Z"
   },
   {
    "duration": 18,
    "start_time": "2022-07-21T16:39:24.805Z"
   },
   {
    "duration": 6,
    "start_time": "2022-07-21T16:39:40.187Z"
   },
   {
    "duration": 8,
    "start_time": "2022-07-21T16:57:44.006Z"
   },
   {
    "duration": 21,
    "start_time": "2022-07-21T17:03:16.061Z"
   },
   {
    "duration": 21,
    "start_time": "2022-07-21T17:03:24.982Z"
   },
   {
    "duration": 9,
    "start_time": "2022-07-21T17:03:44.758Z"
   },
   {
    "duration": 10,
    "start_time": "2022-07-21T17:03:54.889Z"
   },
   {
    "duration": 2990,
    "start_time": "2022-07-21T17:04:57.144Z"
   },
   {
    "duration": 11,
    "start_time": "2022-07-21T17:05:00.137Z"
   },
   {
    "duration": 25,
    "start_time": "2022-07-21T17:05:12.548Z"
   },
   {
    "duration": 6,
    "start_time": "2022-07-21T17:06:09.053Z"
   },
   {
    "duration": 17,
    "start_time": "2022-07-21T17:08:39.244Z"
   },
   {
    "duration": 20,
    "start_time": "2022-07-21T17:09:38.083Z"
   },
   {
    "duration": 675,
    "start_time": "2022-07-21T17:13:52.163Z"
   },
   {
    "duration": 25,
    "start_time": "2022-07-21T17:19:18.553Z"
   },
   {
    "duration": 26,
    "start_time": "2022-07-21T17:20:40.679Z"
   },
   {
    "duration": 25,
    "start_time": "2022-07-21T17:21:45.029Z"
   },
   {
    "duration": 21,
    "start_time": "2022-07-21T17:24:42.933Z"
   },
   {
    "duration": 25,
    "start_time": "2022-07-21T17:24:59.627Z"
   },
   {
    "duration": 13,
    "start_time": "2022-07-21T17:31:06.893Z"
   },
   {
    "duration": 11,
    "start_time": "2022-07-21T17:32:59.828Z"
   },
   {
    "duration": 8,
    "start_time": "2022-07-21T17:38:09.507Z"
   },
   {
    "duration": 9,
    "start_time": "2022-07-21T17:38:19.369Z"
   },
   {
    "duration": 10,
    "start_time": "2022-07-21T17:38:35.474Z"
   },
   {
    "duration": 11,
    "start_time": "2022-07-21T18:10:20.729Z"
   },
   {
    "duration": 16,
    "start_time": "2022-07-21T18:20:24.926Z"
   },
   {
    "duration": 11,
    "start_time": "2022-07-21T18:20:48.532Z"
   },
   {
    "duration": 3023,
    "start_time": "2022-07-21T18:20:56.759Z"
   },
   {
    "duration": 19,
    "start_time": "2022-07-21T18:20:59.784Z"
   },
   {
    "duration": 96,
    "start_time": "2022-07-21T18:22:53.294Z"
   },
   {
    "duration": 180,
    "start_time": "2022-07-21T18:24:40.971Z"
   },
   {
    "duration": 1204,
    "start_time": "2022-07-21T18:31:49.634Z"
   },
   {
    "duration": 1341,
    "start_time": "2022-07-21T18:32:52.948Z"
   },
   {
    "duration": 3007,
    "start_time": "2022-07-21T18:33:22.711Z"
   },
   {
    "duration": 1479,
    "start_time": "2022-07-21T18:33:25.721Z"
   },
   {
    "duration": 10,
    "start_time": "2022-07-21T18:34:35.517Z"
   },
   {
    "duration": 13,
    "start_time": "2022-07-21T19:12:35.416Z"
   },
   {
    "duration": 146,
    "start_time": "2022-07-21T19:14:00.472Z"
   },
   {
    "duration": 13,
    "start_time": "2022-07-21T19:15:55.733Z"
   },
   {
    "duration": 172,
    "start_time": "2022-07-21T19:18:12.642Z"
   },
   {
    "duration": 83,
    "start_time": "2022-07-21T19:21:31.653Z"
   },
   {
    "duration": 17,
    "start_time": "2022-07-21T19:21:42.860Z"
   },
   {
    "duration": 128,
    "start_time": "2022-07-21T19:22:12.645Z"
   },
   {
    "duration": 20,
    "start_time": "2022-07-21T19:23:29.125Z"
   },
   {
    "duration": 16,
    "start_time": "2022-07-21T19:25:34.650Z"
   },
   {
    "duration": 14,
    "start_time": "2022-07-21T19:29:59.380Z"
   },
   {
    "duration": 9,
    "start_time": "2022-07-21T19:34:40.141Z"
   },
   {
    "duration": 21,
    "start_time": "2022-07-21T19:36:12.511Z"
   },
   {
    "duration": 16,
    "start_time": "2022-07-21T19:37:06.371Z"
   },
   {
    "duration": 22,
    "start_time": "2022-07-21T19:38:13.011Z"
   },
   {
    "duration": 21,
    "start_time": "2022-07-21T19:38:36.310Z"
   },
   {
    "duration": 79,
    "start_time": "2022-07-21T19:41:42.742Z"
   },
   {
    "duration": 77,
    "start_time": "2022-07-21T19:41:59.453Z"
   },
   {
    "duration": 80,
    "start_time": "2022-07-21T19:43:33.083Z"
   },
   {
    "duration": 3017,
    "start_time": "2022-07-21T19:43:38.881Z"
   },
   {
    "duration": 81,
    "start_time": "2022-07-21T19:43:41.900Z"
   },
   {
    "duration": 75,
    "start_time": "2022-07-21T19:44:04.917Z"
   },
   {
    "duration": 18,
    "start_time": "2022-07-21T19:44:28.756Z"
   },
   {
    "duration": 82,
    "start_time": "2022-07-21T19:50:13.697Z"
   },
   {
    "duration": 14,
    "start_time": "2022-07-21T19:53:13.780Z"
   },
   {
    "duration": 3193,
    "start_time": "2022-07-21T19:54:04.029Z"
   },
   {
    "duration": 144,
    "start_time": "2022-07-21T19:56:23.388Z"
   },
   {
    "duration": 142,
    "start_time": "2022-07-21T19:58:21.602Z"
   },
   {
    "duration": 134,
    "start_time": "2022-07-21T19:59:29.934Z"
   },
   {
    "duration": 15,
    "start_time": "2022-07-21T20:00:26.473Z"
   },
   {
    "duration": 12,
    "start_time": "2022-07-21T20:14:31.412Z"
   },
   {
    "duration": 2945,
    "start_time": "2022-07-21T20:14:48.661Z"
   },
   {
    "duration": 97,
    "start_time": "2022-07-21T20:14:51.608Z"
   },
   {
    "duration": 152,
    "start_time": "2022-07-21T20:15:19.503Z"
   },
   {
    "duration": 3503,
    "start_time": "2022-07-21T20:17:05.512Z"
   },
   {
    "duration": 13,
    "start_time": "2022-07-21T20:20:45.174Z"
   },
   {
    "duration": 13,
    "start_time": "2022-07-21T20:22:41.981Z"
   },
   {
    "duration": 16,
    "start_time": "2022-07-21T20:32:54.866Z"
   },
   {
    "duration": 12,
    "start_time": "2022-07-21T20:33:20.042Z"
   },
   {
    "duration": 13,
    "start_time": "2022-07-21T20:35:26.777Z"
   },
   {
    "duration": 13,
    "start_time": "2022-07-21T20:35:43.250Z"
   },
   {
    "duration": 19,
    "start_time": "2022-07-21T20:37:55.242Z"
   },
   {
    "duration": 16,
    "start_time": "2022-07-21T20:41:45.182Z"
   },
   {
    "duration": 18,
    "start_time": "2022-07-21T20:42:41.868Z"
   },
   {
    "duration": 128,
    "start_time": "2022-07-23T06:53:04.041Z"
   },
   {
    "duration": 54,
    "start_time": "2022-07-23T06:53:19.809Z"
   },
   {
    "duration": 3065,
    "start_time": "2022-07-23T06:53:27.724Z"
   },
   {
    "duration": 108,
    "start_time": "2022-07-23T06:53:30.791Z"
   },
   {
    "duration": 30,
    "start_time": "2022-07-23T06:54:39.307Z"
   },
   {
    "duration": 40,
    "start_time": "2022-07-23T06:55:16.080Z"
   },
   {
    "duration": 35,
    "start_time": "2022-07-23T06:55:26.068Z"
   },
   {
    "duration": 2801,
    "start_time": "2022-07-23T06:56:39.343Z"
   },
   {
    "duration": 25,
    "start_time": "2022-07-23T06:56:42.147Z"
   },
   {
    "duration": 86,
    "start_time": "2022-07-23T06:58:13.207Z"
   },
   {
    "duration": 50,
    "start_time": "2022-07-23T06:58:46.112Z"
   },
   {
    "duration": 19,
    "start_time": "2022-07-23T06:59:00.785Z"
   },
   {
    "duration": 21,
    "start_time": "2022-07-23T06:59:29.043Z"
   },
   {
    "duration": 19,
    "start_time": "2022-07-23T06:59:58.015Z"
   },
   {
    "duration": 21,
    "start_time": "2022-07-23T07:09:43.923Z"
   },
   {
    "duration": 1148,
    "start_time": "2022-07-23T07:10:28.027Z"
   },
   {
    "duration": 93,
    "start_time": "2022-07-23T07:10:56.931Z"
   },
   {
    "duration": 103,
    "start_time": "2022-07-23T07:11:21.665Z"
   },
   {
    "duration": 85,
    "start_time": "2022-07-23T07:11:46.290Z"
   },
   {
    "duration": 857,
    "start_time": "2022-07-23T07:42:31.571Z"
   },
   {
    "duration": 533,
    "start_time": "2022-07-23T07:43:31.833Z"
   },
   {
    "duration": 37,
    "start_time": "2022-07-23T07:44:27.984Z"
   },
   {
    "duration": 3094,
    "start_time": "2022-07-23T07:45:11.465Z"
   },
   {
    "duration": 118,
    "start_time": "2022-07-23T07:45:14.561Z"
   },
   {
    "duration": 26,
    "start_time": "2022-07-23T07:45:47.494Z"
   },
   {
    "duration": 103,
    "start_time": "2022-07-23T07:46:58.360Z"
   },
   {
    "duration": 95,
    "start_time": "2022-07-23T07:47:03.285Z"
   },
   {
    "duration": 27,
    "start_time": "2022-07-23T07:48:27.900Z"
   },
   {
    "duration": 28,
    "start_time": "2022-07-23T07:49:23.160Z"
   },
   {
    "duration": 21,
    "start_time": "2022-07-23T07:49:32.182Z"
   },
   {
    "duration": 46,
    "start_time": "2022-07-23T07:50:07.633Z"
   },
   {
    "duration": 40,
    "start_time": "2022-07-23T07:51:12.223Z"
   },
   {
    "duration": 207,
    "start_time": "2022-07-23T08:05:04.968Z"
   },
   {
    "duration": 193,
    "start_time": "2022-07-23T08:06:27.560Z"
   },
   {
    "duration": 192,
    "start_time": "2022-07-23T08:06:43.263Z"
   },
   {
    "duration": 22,
    "start_time": "2022-07-23T08:07:51.062Z"
   },
   {
    "duration": 194,
    "start_time": "2022-07-23T08:11:37.858Z"
   },
   {
    "duration": 205,
    "start_time": "2022-07-23T08:11:51.957Z"
   },
   {
    "duration": 307,
    "start_time": "2022-07-23T08:13:09.587Z"
   },
   {
    "duration": 208,
    "start_time": "2022-07-23T08:14:04.973Z"
   },
   {
    "duration": 47,
    "start_time": "2022-07-23T17:19:59.239Z"
   },
   {
    "duration": 3348,
    "start_time": "2022-07-23T17:21:37.130Z"
   },
   {
    "duration": 226,
    "start_time": "2022-07-23T17:21:40.480Z"
   },
   {
    "duration": 205,
    "start_time": "2022-07-23T17:22:27.294Z"
   },
   {
    "duration": 161,
    "start_time": "2022-07-23T17:26:21.134Z"
   },
   {
    "duration": 116,
    "start_time": "2022-07-23T17:26:52.274Z"
   },
   {
    "duration": 85,
    "start_time": "2022-07-23T17:28:25.536Z"
   },
   {
    "duration": 25,
    "start_time": "2022-07-23T17:29:17.955Z"
   },
   {
    "duration": 28,
    "start_time": "2022-07-23T17:36:10.433Z"
   },
   {
    "duration": 24,
    "start_time": "2022-07-23T17:37:35.557Z"
   },
   {
    "duration": 25,
    "start_time": "2022-07-23T17:38:12.597Z"
   },
   {
    "duration": 2857,
    "start_time": "2022-07-23T17:38:30.600Z"
   },
   {
    "duration": 36,
    "start_time": "2022-07-23T17:38:33.460Z"
   },
   {
    "duration": 71,
    "start_time": "2022-07-23T17:41:07.475Z"
   },
   {
    "duration": 27,
    "start_time": "2022-07-23T17:41:43.559Z"
   },
   {
    "duration": 27,
    "start_time": "2022-07-23T17:42:05.734Z"
   },
   {
    "duration": 26,
    "start_time": "2022-07-23T17:42:27.260Z"
   },
   {
    "duration": 35,
    "start_time": "2022-07-23T17:43:09.562Z"
   },
   {
    "duration": 27,
    "start_time": "2022-07-23T17:43:47.476Z"
   },
   {
    "duration": 25,
    "start_time": "2022-07-23T17:44:47.164Z"
   },
   {
    "duration": 97,
    "start_time": "2022-07-23T17:46:14.060Z"
   },
   {
    "duration": 33,
    "start_time": "2022-07-23T17:46:37.678Z"
   },
   {
    "duration": 32,
    "start_time": "2022-07-23T17:47:37.338Z"
   },
   {
    "duration": 40,
    "start_time": "2022-07-23T17:49:05.353Z"
   },
   {
    "duration": 37,
    "start_time": "2022-07-23T17:49:47.181Z"
   },
   {
    "duration": 175,
    "start_time": "2022-07-23T17:51:22.241Z"
   },
   {
    "duration": 385,
    "start_time": "2022-07-23T17:51:33.565Z"
   },
   {
    "duration": 276,
    "start_time": "2022-07-23T17:51:54.165Z"
   },
   {
    "duration": 247,
    "start_time": "2022-07-23T17:52:27.635Z"
   },
   {
    "duration": 179,
    "start_time": "2022-07-23T17:53:27.847Z"
   },
   {
    "duration": 180,
    "start_time": "2022-07-23T17:53:44.839Z"
   },
   {
    "duration": 314,
    "start_time": "2022-07-23T17:54:16.805Z"
   },
   {
    "duration": 286,
    "start_time": "2022-07-23T17:54:29.805Z"
   },
   {
    "duration": 260,
    "start_time": "2022-07-23T17:54:53.766Z"
   },
   {
    "duration": 277,
    "start_time": "2022-07-23T17:55:05.032Z"
   },
   {
    "duration": 374,
    "start_time": "2022-07-23T17:57:34.318Z"
   },
   {
    "duration": 25,
    "start_time": "2022-07-23T17:59:11.964Z"
   },
   {
    "duration": 24,
    "start_time": "2022-07-23T17:59:31.531Z"
   },
   {
    "duration": 3080,
    "start_time": "2022-07-23T18:00:50.002Z"
   },
   {
    "duration": 46,
    "start_time": "2022-07-23T18:00:53.084Z"
   },
   {
    "duration": 35,
    "start_time": "2022-07-23T18:01:36.786Z"
   },
   {
    "duration": 24,
    "start_time": "2022-07-23T18:04:38.440Z"
   },
   {
    "duration": 25,
    "start_time": "2022-07-23T18:08:32.954Z"
   },
   {
    "duration": 26,
    "start_time": "2022-07-23T18:09:11.442Z"
   },
   {
    "duration": 28,
    "start_time": "2022-07-23T18:12:36.752Z"
   },
   {
    "duration": 1352,
    "start_time": "2022-07-23T18:13:10.184Z"
   },
   {
    "duration": 39,
    "start_time": "2022-07-23T18:20:23.446Z"
   },
   {
    "duration": 33,
    "start_time": "2022-07-23T18:22:46.309Z"
   },
   {
    "duration": 33,
    "start_time": "2022-07-23T18:22:59.843Z"
   },
   {
    "duration": 42,
    "start_time": "2022-07-23T18:23:29.572Z"
   },
   {
    "duration": 30,
    "start_time": "2022-07-23T18:23:47.982Z"
   },
   {
    "duration": 33,
    "start_time": "2022-07-23T18:24:00.747Z"
   },
   {
    "duration": 2297,
    "start_time": "2022-07-23T18:25:36.197Z"
   },
   {
    "duration": 47,
    "start_time": "2022-07-23T18:32:26.841Z"
   },
   {
    "duration": 26,
    "start_time": "2022-07-23T18:34:49.584Z"
   },
   {
    "duration": 2824,
    "start_time": "2022-07-23T18:35:31.361Z"
   },
   {
    "duration": 34,
    "start_time": "2022-07-23T18:41:58.236Z"
   },
   {
    "duration": 47,
    "start_time": "2022-07-23T18:42:21.416Z"
   },
   {
    "duration": 33,
    "start_time": "2022-07-23T18:43:48.409Z"
   },
   {
    "duration": 38,
    "start_time": "2022-07-23T18:44:40.304Z"
   },
   {
    "duration": 3184,
    "start_time": "2022-07-23T18:44:49.866Z"
   },
   {
    "duration": 37,
    "start_time": "2022-07-23T18:44:53.052Z"
   },
   {
    "duration": 25,
    "start_time": "2022-07-23T18:47:03.446Z"
   },
   {
    "duration": 25,
    "start_time": "2022-07-23T18:47:28.693Z"
   },
   {
    "duration": 26,
    "start_time": "2022-07-23T18:48:17.199Z"
   },
   {
    "duration": 26,
    "start_time": "2022-07-23T18:48:24.604Z"
   },
   {
    "duration": 25,
    "start_time": "2022-07-23T18:49:30.284Z"
   },
   {
    "duration": 27,
    "start_time": "2022-07-23T18:50:44.146Z"
   },
   {
    "duration": 23,
    "start_time": "2022-07-23T18:50:57.509Z"
   },
   {
    "duration": 25,
    "start_time": "2022-07-23T18:51:12.221Z"
   },
   {
    "duration": 27,
    "start_time": "2022-07-23T18:51:18.676Z"
   },
   {
    "duration": 24,
    "start_time": "2022-07-23T18:51:41.118Z"
   },
   {
    "duration": 30,
    "start_time": "2022-07-23T18:52:06.612Z"
   },
   {
    "duration": 35,
    "start_time": "2022-07-23T18:52:29.045Z"
   },
   {
    "duration": 27,
    "start_time": "2022-07-23T18:52:41.447Z"
   },
   {
    "duration": 28,
    "start_time": "2022-07-23T18:53:23.819Z"
   },
   {
    "duration": 38,
    "start_time": "2022-07-23T18:53:33.881Z"
   },
   {
    "duration": 30,
    "start_time": "2022-07-23T18:54:54.786Z"
   },
   {
    "duration": 25,
    "start_time": "2022-07-23T18:58:39.817Z"
   },
   {
    "duration": 31,
    "start_time": "2022-07-23T18:58:52.886Z"
   },
   {
    "duration": 24,
    "start_time": "2022-07-23T18:59:20.026Z"
   },
   {
    "duration": 24,
    "start_time": "2022-07-23T18:59:25.792Z"
   },
   {
    "duration": 23,
    "start_time": "2022-07-23T18:59:40.289Z"
   },
   {
    "duration": 27,
    "start_time": "2022-07-23T18:59:48.952Z"
   },
   {
    "duration": 23,
    "start_time": "2022-07-23T19:00:03.169Z"
   },
   {
    "duration": 22,
    "start_time": "2022-07-23T19:00:09.697Z"
   },
   {
    "duration": 25,
    "start_time": "2022-07-23T19:00:21.741Z"
   },
   {
    "duration": 24,
    "start_time": "2022-07-23T19:00:32.529Z"
   },
   {
    "duration": 26,
    "start_time": "2022-07-23T19:00:44.113Z"
   },
   {
    "duration": 27,
    "start_time": "2022-07-23T19:01:09.720Z"
   },
   {
    "duration": 32,
    "start_time": "2022-07-23T19:01:18.866Z"
   },
   {
    "duration": 24,
    "start_time": "2022-07-23T19:01:32.261Z"
   },
   {
    "duration": 29,
    "start_time": "2022-07-23T19:02:24.639Z"
   },
   {
    "duration": 31,
    "start_time": "2022-07-23T19:02:37.249Z"
   },
   {
    "duration": 39,
    "start_time": "2022-07-23T19:03:19.962Z"
   },
   {
    "duration": 30,
    "start_time": "2022-07-23T19:03:40.774Z"
   },
   {
    "duration": 34,
    "start_time": "2022-07-23T19:03:48.319Z"
   },
   {
    "duration": 24,
    "start_time": "2022-07-23T19:03:57.111Z"
   },
   {
    "duration": 26,
    "start_time": "2022-07-23T19:07:14.767Z"
   },
   {
    "duration": 26,
    "start_time": "2022-07-23T19:08:26.485Z"
   },
   {
    "duration": 26,
    "start_time": "2022-07-23T19:10:09.157Z"
   },
   {
    "duration": 31,
    "start_time": "2022-07-23T19:10:50.117Z"
   },
   {
    "duration": 111,
    "start_time": "2022-07-23T19:19:08.409Z"
   },
   {
    "duration": 46,
    "start_time": "2022-07-23T19:22:47.307Z"
   },
   {
    "duration": 2210,
    "start_time": "2022-07-23T19:26:53.214Z"
   },
   {
    "duration": 3003,
    "start_time": "2022-07-23T19:27:08.459Z"
   },
   {
    "duration": 111,
    "start_time": "2022-07-23T19:27:11.464Z"
   },
   {
    "duration": 23,
    "start_time": "2022-07-23T19:29:59.858Z"
   },
   {
    "duration": 33,
    "start_time": "2022-07-23T19:30:52.064Z"
   },
   {
    "duration": 36,
    "start_time": "2022-07-23T19:33:04.166Z"
   },
   {
    "duration": 42,
    "start_time": "2022-07-23T19:33:10.938Z"
   },
   {
    "duration": 35,
    "start_time": "2022-07-23T19:33:35.111Z"
   },
   {
    "duration": 38,
    "start_time": "2022-07-23T19:33:47.590Z"
   },
   {
    "duration": 26,
    "start_time": "2022-07-23T19:34:11.295Z"
   },
   {
    "duration": 26,
    "start_time": "2022-07-23T19:34:25.783Z"
   },
   {
    "duration": 29,
    "start_time": "2022-07-23T19:35:55.870Z"
   },
   {
    "duration": 46,
    "start_time": "2022-07-23T19:36:19.471Z"
   },
   {
    "duration": 31,
    "start_time": "2022-07-23T19:36:53.002Z"
   },
   {
    "duration": 15,
    "start_time": "2022-07-23T19:38:02.064Z"
   },
   {
    "duration": 22,
    "start_time": "2022-07-23T19:38:06.733Z"
   },
   {
    "duration": 79,
    "start_time": "2022-07-23T20:39:51.485Z"
   },
   {
    "duration": 87,
    "start_time": "2022-07-23T20:49:05.621Z"
   },
   {
    "duration": 101,
    "start_time": "2022-07-23T20:49:15.013Z"
   },
   {
    "duration": 24,
    "start_time": "2022-07-23T21:03:40.752Z"
   },
   {
    "duration": 53,
    "start_time": "2022-07-24T12:36:26.899Z"
   },
   {
    "duration": 3171,
    "start_time": "2022-07-24T12:36:37.543Z"
   },
   {
    "duration": 32,
    "start_time": "2022-07-24T12:36:40.716Z"
   },
   {
    "duration": 91,
    "start_time": "2022-07-24T12:36:40.750Z"
   },
   {
    "duration": 3052,
    "start_time": "2022-07-24T12:38:09.478Z"
   },
   {
    "duration": 34,
    "start_time": "2022-07-24T12:38:12.532Z"
   },
   {
    "duration": 85,
    "start_time": "2022-07-24T12:38:12.568Z"
   },
   {
    "duration": 14,
    "start_time": "2022-07-24T12:38:21.343Z"
   },
   {
    "duration": 2946,
    "start_time": "2022-07-24T12:39:58.748Z"
   },
   {
    "duration": 33,
    "start_time": "2022-07-24T12:40:01.696Z"
   },
   {
    "duration": 137,
    "start_time": "2022-07-24T12:40:01.732Z"
   },
   {
    "duration": 1164,
    "start_time": "2022-07-24T12:42:46.415Z"
   },
   {
    "duration": 27,
    "start_time": "2022-07-24T12:43:35.470Z"
   },
   {
    "duration": 1207,
    "start_time": "2022-07-24T12:47:47.852Z"
   },
   {
    "duration": 1296,
    "start_time": "2022-07-24T12:48:21.582Z"
   },
   {
    "duration": 72,
    "start_time": "2022-07-24T12:55:13.436Z"
   },
   {
    "duration": 103,
    "start_time": "2022-07-24T12:55:26.562Z"
   },
   {
    "duration": 3450,
    "start_time": "2022-07-24T12:55:56.824Z"
   },
   {
    "duration": 41,
    "start_time": "2022-07-24T12:56:00.278Z"
   },
   {
    "duration": 104,
    "start_time": "2022-07-24T12:56:00.322Z"
   },
   {
    "duration": 440,
    "start_time": "2022-07-24T12:56:09.163Z"
   },
   {
    "duration": 88,
    "start_time": "2022-07-24T12:56:28.618Z"
   },
   {
    "duration": 406,
    "start_time": "2022-07-24T12:56:37.552Z"
   },
   {
    "duration": 3255,
    "start_time": "2022-07-24T13:04:39.516Z"
   },
   {
    "duration": 57,
    "start_time": "2022-07-24T13:04:42.774Z"
   },
   {
    "duration": 422,
    "start_time": "2022-07-24T13:04:42.834Z"
   },
   {
    "duration": 378,
    "start_time": "2022-07-24T13:04:52.255Z"
   },
   {
    "duration": 342,
    "start_time": "2022-07-24T13:05:05.687Z"
   },
   {
    "duration": 361,
    "start_time": "2022-07-24T13:12:25.155Z"
   },
   {
    "duration": 415,
    "start_time": "2022-07-24T13:13:38.374Z"
   },
   {
    "duration": 406,
    "start_time": "2022-07-24T13:14:05.043Z"
   },
   {
    "duration": 1504,
    "start_time": "2022-07-24T13:14:44.674Z"
   },
   {
    "duration": 1216,
    "start_time": "2022-07-24T13:15:12.739Z"
   },
   {
    "duration": 1271,
    "start_time": "2022-07-24T13:15:44.099Z"
   },
   {
    "duration": 453,
    "start_time": "2022-07-24T13:17:27.240Z"
   },
   {
    "duration": 1419,
    "start_time": "2022-07-24T13:18:14.119Z"
   },
   {
    "duration": 36,
    "start_time": "2022-07-24T13:18:20.836Z"
   },
   {
    "duration": 388,
    "start_time": "2022-07-24T13:22:27.155Z"
   },
   {
    "duration": 430,
    "start_time": "2022-07-24T13:22:53.961Z"
   },
   {
    "duration": 347,
    "start_time": "2022-07-24T13:24:53.985Z"
   },
   {
    "duration": 457,
    "start_time": "2022-07-24T13:26:21.688Z"
   },
   {
    "duration": 330,
    "start_time": "2022-07-24T13:30:25.943Z"
   },
   {
    "duration": 32,
    "start_time": "2022-07-24T13:30:56.245Z"
   },
   {
    "duration": 48,
    "start_time": "2022-07-24T13:31:08.281Z"
   },
   {
    "duration": 100,
    "start_time": "2022-07-24T13:33:54.343Z"
   },
   {
    "duration": 76,
    "start_time": "2022-07-24T13:34:47.483Z"
   },
   {
    "duration": 88,
    "start_time": "2022-07-24T13:35:00.756Z"
   },
   {
    "duration": 345,
    "start_time": "2022-07-24T13:37:33.906Z"
   },
   {
    "duration": 342,
    "start_time": "2022-07-24T13:37:49.815Z"
   },
   {
    "duration": 365,
    "start_time": "2022-07-24T13:38:05.043Z"
   },
   {
    "duration": 35,
    "start_time": "2022-07-24T13:39:26.778Z"
   },
   {
    "duration": 117,
    "start_time": "2022-07-24T13:39:54.429Z"
   },
   {
    "duration": 375,
    "start_time": "2022-07-24T13:40:52.874Z"
   },
   {
    "duration": 345,
    "start_time": "2022-07-24T13:42:16.290Z"
   },
   {
    "duration": 38,
    "start_time": "2022-07-24T13:50:05.995Z"
   },
   {
    "duration": 27,
    "start_time": "2022-07-24T13:52:43.909Z"
   },
   {
    "duration": 476,
    "start_time": "2022-07-24T15:59:38.041Z"
   },
   {
    "duration": 460,
    "start_time": "2022-07-24T16:05:14.705Z"
   },
   {
    "duration": 256,
    "start_time": "2022-07-24T16:10:23.073Z"
   },
   {
    "duration": 1745,
    "start_time": "2022-07-24T16:11:49.494Z"
   },
   {
    "duration": 1840,
    "start_time": "2022-07-24T16:12:22.510Z"
   },
   {
    "duration": 1700,
    "start_time": "2022-07-24T16:12:35.855Z"
   },
   {
    "duration": 1714,
    "start_time": "2022-07-24T16:13:16.751Z"
   },
   {
    "duration": 1607,
    "start_time": "2022-07-24T16:14:30.837Z"
   },
   {
    "duration": 21,
    "start_time": "2022-07-24T16:16:39.315Z"
   },
   {
    "duration": 2086,
    "start_time": "2022-07-24T16:18:26.462Z"
   },
   {
    "duration": 2493,
    "start_time": "2022-07-24T16:18:41.135Z"
   },
   {
    "duration": 2569,
    "start_time": "2022-07-24T16:19:50.124Z"
   },
   {
    "duration": 25,
    "start_time": "2022-07-24T16:20:44.029Z"
   },
   {
    "duration": 1973,
    "start_time": "2022-07-24T16:21:11.510Z"
   },
   {
    "duration": 2427,
    "start_time": "2022-07-24T16:21:25.339Z"
   },
   {
    "duration": 1673,
    "start_time": "2022-07-24T16:34:34.913Z"
   },
   {
    "duration": 2780,
    "start_time": "2022-07-24T16:38:13.772Z"
   },
   {
    "duration": 2590,
    "start_time": "2022-07-24T16:38:45.018Z"
   },
   {
    "duration": 1748,
    "start_time": "2022-07-24T16:38:55.145Z"
   },
   {
    "duration": 2066,
    "start_time": "2022-07-24T16:40:17.625Z"
   },
   {
    "duration": 1578,
    "start_time": "2022-07-24T16:40:35.562Z"
   },
   {
    "duration": 1489,
    "start_time": "2022-07-24T16:40:42.698Z"
   },
   {
    "duration": 329,
    "start_time": "2022-07-24T16:40:57.088Z"
   },
   {
    "duration": 467,
    "start_time": "2022-07-24T16:41:05.906Z"
   },
   {
    "duration": 1482,
    "start_time": "2022-07-24T16:46:33.555Z"
   },
   {
    "duration": 685,
    "start_time": "2022-07-24T16:47:23.739Z"
   },
   {
    "duration": 620,
    "start_time": "2022-07-24T16:47:30.444Z"
   },
   {
    "duration": 2154,
    "start_time": "2022-07-24T16:47:46.121Z"
   },
   {
    "duration": 436,
    "start_time": "2022-07-24T16:47:55.512Z"
   },
   {
    "duration": 370,
    "start_time": "2022-07-24T16:50:56.560Z"
   },
   {
    "duration": 458,
    "start_time": "2022-07-24T16:51:15.350Z"
   },
   {
    "duration": 380,
    "start_time": "2022-07-24T16:52:18.769Z"
   },
   {
    "duration": 17,
    "start_time": "2022-07-24T16:54:01.458Z"
   },
   {
    "duration": 385,
    "start_time": "2022-07-24T16:54:15.992Z"
   },
   {
    "duration": 429,
    "start_time": "2022-07-24T16:55:00.015Z"
   },
   {
    "duration": 433,
    "start_time": "2022-07-24T16:55:23.539Z"
   },
   {
    "duration": 100,
    "start_time": "2022-07-24T16:58:09.669Z"
   },
   {
    "duration": 491,
    "start_time": "2022-07-24T16:59:45.011Z"
   },
   {
    "duration": 408,
    "start_time": "2022-07-24T17:00:00.039Z"
   },
   {
    "duration": 619,
    "start_time": "2022-07-24T17:02:03.980Z"
   },
   {
    "duration": 630,
    "start_time": "2022-07-24T17:02:17.159Z"
   },
   {
    "duration": 258,
    "start_time": "2022-07-24T17:02:27.599Z"
   },
   {
    "duration": 223,
    "start_time": "2022-07-24T17:02:32.959Z"
   },
   {
    "duration": 252,
    "start_time": "2022-07-24T17:03:32.320Z"
   },
   {
    "duration": 324,
    "start_time": "2022-07-24T17:03:44.131Z"
   },
   {
    "duration": 300,
    "start_time": "2022-07-24T17:03:51.039Z"
   },
   {
    "duration": 272,
    "start_time": "2022-07-24T17:04:32.112Z"
   },
   {
    "duration": 245,
    "start_time": "2022-07-24T17:04:45.365Z"
   },
   {
    "duration": 1033,
    "start_time": "2022-07-24T17:05:48.808Z"
   },
   {
    "duration": 606,
    "start_time": "2022-07-24T17:06:39.727Z"
   },
   {
    "duration": 205,
    "start_time": "2022-07-24T17:07:00.111Z"
   },
   {
    "duration": 231,
    "start_time": "2022-07-24T17:07:09.886Z"
   },
   {
    "duration": 231,
    "start_time": "2022-07-24T17:09:24.602Z"
   },
   {
    "duration": 193,
    "start_time": "2022-07-24T17:09:35.294Z"
   },
   {
    "duration": 241,
    "start_time": "2022-07-24T17:09:41.584Z"
   },
   {
    "duration": 241,
    "start_time": "2022-07-24T17:09:50.436Z"
   },
   {
    "duration": 198,
    "start_time": "2022-07-24T17:09:58.028Z"
   },
   {
    "duration": 248,
    "start_time": "2022-07-24T17:11:11.062Z"
   },
   {
    "duration": 243,
    "start_time": "2022-07-24T17:13:46.019Z"
   },
   {
    "duration": 240,
    "start_time": "2022-07-24T17:13:51.638Z"
   },
   {
    "duration": 219,
    "start_time": "2022-07-24T17:15:00.545Z"
   },
   {
    "duration": 362,
    "start_time": "2022-07-24T17:16:43.846Z"
   },
   {
    "duration": 1190,
    "start_time": "2022-07-24T17:19:55.205Z"
   },
   {
    "duration": 19,
    "start_time": "2022-07-24T17:20:13.115Z"
   },
   {
    "duration": 1387,
    "start_time": "2022-07-24T17:20:32.198Z"
   },
   {
    "duration": 193,
    "start_time": "2022-07-24T17:21:03.310Z"
   },
   {
    "duration": 205,
    "start_time": "2022-07-24T17:21:07.899Z"
   },
   {
    "duration": 180,
    "start_time": "2022-07-24T17:21:20.601Z"
   },
   {
    "duration": 186,
    "start_time": "2022-07-24T17:21:26.795Z"
   },
   {
    "duration": 186,
    "start_time": "2022-07-24T17:21:31.791Z"
   },
   {
    "duration": 158,
    "start_time": "2022-07-24T17:24:32.306Z"
   },
   {
    "duration": 17,
    "start_time": "2022-07-24T17:24:38.706Z"
   },
   {
    "duration": 177,
    "start_time": "2022-07-24T17:25:10.435Z"
   },
   {
    "duration": 152,
    "start_time": "2022-07-24T17:25:21.190Z"
   },
   {
    "duration": 140,
    "start_time": "2022-07-24T17:25:27.562Z"
   },
   {
    "duration": 202,
    "start_time": "2022-07-24T17:25:32.164Z"
   },
   {
    "duration": 204,
    "start_time": "2022-07-24T17:26:24.393Z"
   },
   {
    "duration": 6,
    "start_time": "2022-07-24T17:27:03.542Z"
   },
   {
    "duration": 22,
    "start_time": "2022-07-24T17:27:10.689Z"
   },
   {
    "duration": 138,
    "start_time": "2022-07-24T17:27:26.650Z"
   },
   {
    "duration": 179,
    "start_time": "2022-07-24T17:28:19.601Z"
   },
   {
    "duration": 177,
    "start_time": "2022-07-24T17:29:49.825Z"
   },
   {
    "duration": 209,
    "start_time": "2022-07-24T17:32:15.571Z"
   },
   {
    "duration": 178,
    "start_time": "2022-07-24T17:32:50.791Z"
   },
   {
    "duration": 203,
    "start_time": "2022-07-24T17:33:05.463Z"
   },
   {
    "duration": 241,
    "start_time": "2022-07-24T17:33:13.385Z"
   },
   {
    "duration": 199,
    "start_time": "2022-07-24T17:34:49.802Z"
   },
   {
    "duration": 204,
    "start_time": "2022-07-24T17:35:32.801Z"
   },
   {
    "duration": 288,
    "start_time": "2022-07-24T17:36:00.950Z"
   },
   {
    "duration": 282,
    "start_time": "2022-07-24T17:36:23.887Z"
   },
   {
    "duration": 282,
    "start_time": "2022-07-24T17:36:33.524Z"
   },
   {
    "duration": 312,
    "start_time": "2022-07-24T17:38:14.430Z"
   },
   {
    "duration": 314,
    "start_time": "2022-07-24T17:39:04.993Z"
   },
   {
    "duration": 294,
    "start_time": "2022-07-24T17:39:35.328Z"
   },
   {
    "duration": 280,
    "start_time": "2022-07-24T17:39:42.748Z"
   },
   {
    "duration": 280,
    "start_time": "2022-07-24T17:39:49.349Z"
   },
   {
    "duration": 279,
    "start_time": "2022-07-24T17:40:54.856Z"
   },
   {
    "duration": 581,
    "start_time": "2022-07-24T17:43:00.542Z"
   },
   {
    "duration": 464,
    "start_time": "2022-07-24T17:43:30.522Z"
   },
   {
    "duration": 494,
    "start_time": "2022-07-24T17:43:47.566Z"
   },
   {
    "duration": 309,
    "start_time": "2022-07-24T17:43:56.828Z"
   },
   {
    "duration": 300,
    "start_time": "2022-07-24T17:45:35.660Z"
   },
   {
    "duration": 304,
    "start_time": "2022-07-24T17:48:05.157Z"
   },
   {
    "duration": 297,
    "start_time": "2022-07-24T17:48:29.459Z"
   },
   {
    "duration": 309,
    "start_time": "2022-07-24T17:48:38.683Z"
   },
   {
    "duration": 311,
    "start_time": "2022-07-24T18:03:32.294Z"
   },
   {
    "duration": 13,
    "start_time": "2022-07-24T18:11:49.508Z"
   },
   {
    "duration": 33,
    "start_time": "2022-07-24T18:12:28.459Z"
   },
   {
    "duration": 18,
    "start_time": "2022-07-24T18:12:41.831Z"
   },
   {
    "duration": 8,
    "start_time": "2022-07-24T18:12:59.327Z"
   },
   {
    "duration": 14,
    "start_time": "2022-07-24T18:15:53.547Z"
   },
   {
    "duration": 16,
    "start_time": "2022-07-24T18:16:01.476Z"
   },
   {
    "duration": 21,
    "start_time": "2022-07-24T18:16:07.404Z"
   },
   {
    "duration": 18,
    "start_time": "2022-07-24T18:16:49.126Z"
   },
   {
    "duration": 29,
    "start_time": "2022-07-24T18:22:26.497Z"
   },
   {
    "duration": 32,
    "start_time": "2022-07-24T18:22:44.298Z"
   },
   {
    "duration": 14,
    "start_time": "2022-07-24T18:23:16.226Z"
   },
   {
    "duration": 17,
    "start_time": "2022-07-24T18:23:21.754Z"
   },
   {
    "duration": 14,
    "start_time": "2022-07-24T18:23:28.299Z"
   },
   {
    "duration": 14,
    "start_time": "2022-07-24T18:26:27.083Z"
   },
   {
    "duration": 31,
    "start_time": "2022-07-24T18:26:34.593Z"
   },
   {
    "duration": 24,
    "start_time": "2022-07-24T18:27:15.726Z"
   },
   {
    "duration": 20,
    "start_time": "2022-07-24T18:27:37.992Z"
   },
   {
    "duration": 22,
    "start_time": "2022-07-24T18:27:52.368Z"
   },
   {
    "duration": 19,
    "start_time": "2022-07-24T18:28:00.752Z"
   },
   {
    "duration": 21,
    "start_time": "2022-07-24T18:28:33.456Z"
   },
   {
    "duration": 22,
    "start_time": "2022-07-24T18:29:01.730Z"
   },
   {
    "duration": 28,
    "start_time": "2022-07-24T18:29:21.814Z"
   },
   {
    "duration": 23,
    "start_time": "2022-07-24T18:29:35.000Z"
   },
   {
    "duration": 31,
    "start_time": "2022-07-24T18:33:40.192Z"
   },
   {
    "duration": 317,
    "start_time": "2022-07-24T18:34:57.722Z"
   },
   {
    "duration": 343,
    "start_time": "2022-07-24T18:35:44.016Z"
   },
   {
    "duration": 4,
    "start_time": "2022-07-24T18:36:13.303Z"
   },
   {
    "duration": 274,
    "start_time": "2022-07-24T18:36:20.521Z"
   },
   {
    "duration": 1249,
    "start_time": "2022-07-24T18:37:08.766Z"
   },
   {
    "duration": 320,
    "start_time": "2022-07-24T18:37:31.508Z"
   },
   {
    "duration": 253,
    "start_time": "2022-07-24T18:38:27.027Z"
   },
   {
    "duration": 331,
    "start_time": "2022-07-24T18:38:37.094Z"
   },
   {
    "duration": 285,
    "start_time": "2022-07-24T18:40:28.157Z"
   },
   {
    "duration": 278,
    "start_time": "2022-07-24T18:40:50.367Z"
   },
   {
    "duration": 19,
    "start_time": "2022-07-24T18:42:00.175Z"
   },
   {
    "duration": 20,
    "start_time": "2022-07-24T18:46:23.936Z"
   },
   {
    "duration": 31,
    "start_time": "2022-07-24T18:47:58.331Z"
   },
   {
    "duration": 23,
    "start_time": "2022-07-24T18:49:44.052Z"
   },
   {
    "duration": 741,
    "start_time": "2022-07-24T18:51:20.004Z"
   },
   {
    "duration": 1448,
    "start_time": "2022-07-24T18:53:24.690Z"
   },
   {
    "duration": 25,
    "start_time": "2022-07-24T18:53:34.611Z"
   },
   {
    "duration": 26,
    "start_time": "2022-07-24T18:53:58.797Z"
   },
   {
    "duration": 21,
    "start_time": "2022-07-24T18:54:09.028Z"
   },
   {
    "duration": 1297,
    "start_time": "2022-07-24T18:55:35.227Z"
   },
   {
    "duration": 335,
    "start_time": "2022-07-24T18:55:59.954Z"
   },
   {
    "duration": 43,
    "start_time": "2022-07-24T18:57:41.929Z"
   },
   {
    "duration": 69,
    "start_time": "2022-07-24T19:26:08.811Z"
   },
   {
    "duration": 11,
    "start_time": "2022-07-24T19:26:44.754Z"
   },
   {
    "duration": 15,
    "start_time": "2022-07-24T19:26:55.202Z"
   },
   {
    "duration": 28,
    "start_time": "2022-07-24T19:27:31.507Z"
   },
   {
    "duration": 16,
    "start_time": "2022-07-24T19:27:49.667Z"
   },
   {
    "duration": 17,
    "start_time": "2022-07-24T19:28:00.138Z"
   },
   {
    "duration": 19,
    "start_time": "2022-07-24T19:32:20.323Z"
   },
   {
    "duration": 16,
    "start_time": "2022-07-24T19:34:07.089Z"
   },
   {
    "duration": 21,
    "start_time": "2022-07-24T19:34:16.402Z"
   },
   {
    "duration": 12,
    "start_time": "2022-07-24T19:39:19.663Z"
   },
   {
    "duration": 20,
    "start_time": "2022-07-24T19:40:34.320Z"
   },
   {
    "duration": 1302,
    "start_time": "2022-07-24T19:42:06.887Z"
   },
   {
    "duration": 21,
    "start_time": "2022-07-24T19:42:14.335Z"
   },
   {
    "duration": 38,
    "start_time": "2022-07-24T19:44:41.886Z"
   },
   {
    "duration": 45,
    "start_time": "2022-07-24T19:45:53.406Z"
   },
   {
    "duration": 22,
    "start_time": "2022-07-24T19:46:45.469Z"
   },
   {
    "duration": 20,
    "start_time": "2022-07-24T19:46:56.343Z"
   },
   {
    "duration": 24,
    "start_time": "2022-07-24T19:48:46.237Z"
   },
   {
    "duration": 25,
    "start_time": "2022-07-24T19:49:07.757Z"
   },
   {
    "duration": 32,
    "start_time": "2022-07-24T19:49:21.164Z"
   },
   {
    "duration": 36,
    "start_time": "2022-07-24T19:51:22.031Z"
   },
   {
    "duration": 20,
    "start_time": "2022-07-24T19:55:13.859Z"
   },
   {
    "duration": 39,
    "start_time": "2022-07-24T19:55:43.276Z"
   },
   {
    "duration": 32,
    "start_time": "2022-07-24T19:56:05.930Z"
   },
   {
    "duration": 26,
    "start_time": "2022-07-24T19:57:59.056Z"
   },
   {
    "duration": 42,
    "start_time": "2022-07-24T20:01:21.489Z"
   },
   {
    "duration": 35,
    "start_time": "2022-07-24T20:01:35.283Z"
   },
   {
    "duration": 25,
    "start_time": "2022-07-24T20:04:32.583Z"
   },
   {
    "duration": 3306,
    "start_time": "2022-07-24T20:05:27.472Z"
   },
   {
    "duration": 38,
    "start_time": "2022-07-24T20:05:30.780Z"
   },
   {
    "duration": 326,
    "start_time": "2022-07-24T20:05:30.829Z"
   },
   {
    "duration": 443,
    "start_time": "2022-07-24T20:05:31.157Z"
   },
   {
    "duration": 557,
    "start_time": "2022-07-24T20:05:31.603Z"
   },
   {
    "duration": 423,
    "start_time": "2022-07-24T20:05:32.165Z"
   },
   {
    "duration": 300,
    "start_time": "2022-07-24T20:05:32.590Z"
   },
   {
    "duration": 207,
    "start_time": "2022-07-24T20:05:32.893Z"
   },
   {
    "duration": 200,
    "start_time": "2022-07-24T20:05:33.102Z"
   },
   {
    "duration": 181,
    "start_time": "2022-07-24T20:05:33.310Z"
   },
   {
    "duration": 175,
    "start_time": "2022-07-24T20:05:33.494Z"
   },
   {
    "duration": 199,
    "start_time": "2022-07-24T20:05:33.672Z"
   },
   {
    "duration": 253,
    "start_time": "2022-07-24T20:05:33.873Z"
   },
   {
    "duration": 422,
    "start_time": "2022-07-24T20:05:34.128Z"
   },
   {
    "duration": 314,
    "start_time": "2022-07-24T20:05:34.552Z"
   },
   {
    "duration": 356,
    "start_time": "2022-07-24T20:05:34.869Z"
   },
   {
    "duration": 333,
    "start_time": "2022-07-24T20:05:35.229Z"
   },
   {
    "duration": 47,
    "start_time": "2022-07-24T20:05:35.565Z"
   },
   {
    "duration": 40,
    "start_time": "2022-07-24T20:05:35.614Z"
   },
   {
    "duration": 4,
    "start_time": "2022-07-24T20:05:35.656Z"
   },
   {
    "duration": 9,
    "start_time": "2022-07-24T20:09:19.737Z"
   },
   {
    "duration": 7,
    "start_time": "2022-07-24T20:11:53.449Z"
   },
   {
    "duration": 6,
    "start_time": "2022-07-24T20:13:15.573Z"
   },
   {
    "duration": 111,
    "start_time": "2022-07-24T20:19:17.943Z"
   },
   {
    "duration": 63,
    "start_time": "2022-07-24T20:37:26.208Z"
   },
   {
    "duration": 3377,
    "start_time": "2022-07-24T20:37:31.049Z"
   },
   {
    "duration": 5,
    "start_time": "2022-07-24T20:37:34.429Z"
   },
   {
    "duration": 278,
    "start_time": "2022-07-24T20:37:34.436Z"
   },
   {
    "duration": 39,
    "start_time": "2022-07-24T20:37:34.717Z"
   },
   {
    "duration": 77,
    "start_time": "2022-07-24T20:37:34.758Z"
   },
   {
    "duration": 10,
    "start_time": "2022-07-24T20:37:34.837Z"
   },
   {
    "duration": 416,
    "start_time": "2022-07-24T20:37:34.850Z"
   },
   {
    "duration": 0,
    "start_time": "2022-07-24T20:37:35.270Z"
   },
   {
    "duration": 0,
    "start_time": "2022-07-24T20:37:35.272Z"
   },
   {
    "duration": 0,
    "start_time": "2022-07-24T20:37:35.273Z"
   },
   {
    "duration": 1,
    "start_time": "2022-07-24T20:37:35.274Z"
   },
   {
    "duration": 0,
    "start_time": "2022-07-24T20:37:35.276Z"
   },
   {
    "duration": 0,
    "start_time": "2022-07-24T20:37:35.278Z"
   },
   {
    "duration": 0,
    "start_time": "2022-07-24T20:37:35.279Z"
   },
   {
    "duration": 0,
    "start_time": "2022-07-24T20:37:35.281Z"
   },
   {
    "duration": 0,
    "start_time": "2022-07-24T20:37:35.283Z"
   },
   {
    "duration": 0,
    "start_time": "2022-07-24T20:37:35.305Z"
   },
   {
    "duration": 0,
    "start_time": "2022-07-24T20:37:35.307Z"
   },
   {
    "duration": 1,
    "start_time": "2022-07-24T20:37:35.308Z"
   },
   {
    "duration": 0,
    "start_time": "2022-07-24T20:37:35.310Z"
   },
   {
    "duration": 0,
    "start_time": "2022-07-24T20:37:35.312Z"
   },
   {
    "duration": 0,
    "start_time": "2022-07-24T20:37:35.314Z"
   },
   {
    "duration": 0,
    "start_time": "2022-07-24T20:37:35.317Z"
   },
   {
    "duration": 0,
    "start_time": "2022-07-24T20:37:35.318Z"
   },
   {
    "duration": 17,
    "start_time": "2022-07-24T20:42:30.641Z"
   },
   {
    "duration": 294,
    "start_time": "2022-07-24T20:45:37.112Z"
   },
   {
    "duration": 3912,
    "start_time": "2022-07-24T20:46:39.729Z"
   },
   {
    "duration": 4,
    "start_time": "2022-07-24T20:46:43.644Z"
   },
   {
    "duration": 239,
    "start_time": "2022-07-24T20:46:43.649Z"
   },
   {
    "duration": 36,
    "start_time": "2022-07-24T20:46:43.891Z"
   },
   {
    "duration": 52,
    "start_time": "2022-07-24T20:46:43.929Z"
   },
   {
    "duration": 25,
    "start_time": "2022-07-24T20:46:43.983Z"
   },
   {
    "duration": 13,
    "start_time": "2022-07-24T20:46:44.010Z"
   },
   {
    "duration": 304,
    "start_time": "2022-07-24T20:46:44.025Z"
   },
   {
    "duration": 400,
    "start_time": "2022-07-24T20:46:44.331Z"
   },
   {
    "duration": 499,
    "start_time": "2022-07-24T20:46:44.734Z"
   },
   {
    "duration": 285,
    "start_time": "2022-07-24T20:46:45.234Z"
   },
   {
    "duration": 274,
    "start_time": "2022-07-24T20:46:45.521Z"
   },
   {
    "duration": 201,
    "start_time": "2022-07-24T20:46:45.797Z"
   },
   {
    "duration": 199,
    "start_time": "2022-07-24T20:46:46.000Z"
   },
   {
    "duration": 181,
    "start_time": "2022-07-24T20:46:46.204Z"
   },
   {
    "duration": 192,
    "start_time": "2022-07-24T20:46:46.387Z"
   },
   {
    "duration": 248,
    "start_time": "2022-07-24T20:46:46.582Z"
   },
   {
    "duration": 289,
    "start_time": "2022-07-24T20:46:46.832Z"
   },
   {
    "duration": 284,
    "start_time": "2022-07-24T20:46:47.123Z"
   },
   {
    "duration": 286,
    "start_time": "2022-07-24T20:46:47.409Z"
   },
   {
    "duration": 273,
    "start_time": "2022-07-24T20:46:47.697Z"
   },
   {
    "duration": 262,
    "start_time": "2022-07-24T20:46:47.972Z"
   },
   {
    "duration": 34,
    "start_time": "2022-07-24T20:46:48.236Z"
   },
   {
    "duration": 46,
    "start_time": "2022-07-24T20:46:48.272Z"
   },
   {
    "duration": 1742,
    "start_time": "2022-07-24T20:46:48.320Z"
   },
   {
    "duration": 17,
    "start_time": "2022-07-24T20:58:49.214Z"
   },
   {
    "duration": 5,
    "start_time": "2022-07-24T20:59:04.080Z"
   },
   {
    "duration": 5,
    "start_time": "2022-07-24T20:59:07.798Z"
   },
   {
    "duration": 2987,
    "start_time": "2022-07-24T21:08:37.718Z"
   },
   {
    "duration": 6,
    "start_time": "2022-07-24T21:08:40.707Z"
   },
   {
    "duration": 253,
    "start_time": "2022-07-24T21:08:40.714Z"
   },
   {
    "duration": 40,
    "start_time": "2022-07-24T21:08:40.970Z"
   },
   {
    "duration": 71,
    "start_time": "2022-07-24T21:08:41.012Z"
   },
   {
    "duration": 25,
    "start_time": "2022-07-24T21:08:41.085Z"
   },
   {
    "duration": 18,
    "start_time": "2022-07-24T21:08:41.112Z"
   },
   {
    "duration": 342,
    "start_time": "2022-07-24T21:08:41.133Z"
   },
   {
    "duration": 406,
    "start_time": "2022-07-24T21:08:41.477Z"
   },
   {
    "duration": 471,
    "start_time": "2022-07-24T21:08:41.886Z"
   },
   {
    "duration": 305,
    "start_time": "2022-07-24T21:08:42.359Z"
   },
   {
    "duration": 291,
    "start_time": "2022-07-24T21:08:42.666Z"
   },
   {
    "duration": 200,
    "start_time": "2022-07-24T21:08:42.959Z"
   },
   {
    "duration": 185,
    "start_time": "2022-07-24T21:08:43.161Z"
   },
   {
    "duration": 179,
    "start_time": "2022-07-24T21:08:43.348Z"
   },
   {
    "duration": 160,
    "start_time": "2022-07-24T21:08:43.530Z"
   },
   {
    "duration": 169,
    "start_time": "2022-07-24T21:08:43.692Z"
   },
   {
    "duration": 333,
    "start_time": "2022-07-24T21:08:43.863Z"
   },
   {
    "duration": 275,
    "start_time": "2022-07-24T21:08:44.197Z"
   },
   {
    "duration": 295,
    "start_time": "2022-07-24T21:08:44.474Z"
   },
   {
    "duration": 333,
    "start_time": "2022-07-24T21:08:44.770Z"
   },
   {
    "duration": 340,
    "start_time": "2022-07-24T21:08:45.108Z"
   },
   {
    "duration": 37,
    "start_time": "2022-07-24T21:08:45.450Z"
   },
   {
    "duration": 44,
    "start_time": "2022-07-24T21:08:45.489Z"
   },
   {
    "duration": 4,
    "start_time": "2022-07-24T21:08:45.535Z"
   },
   {
    "duration": 13,
    "start_time": "2022-07-24T21:08:45.542Z"
   },
   {
    "duration": 3419,
    "start_time": "2022-07-26T17:19:20.000Z"
   },
   {
    "duration": 2132,
    "start_time": "2022-07-26T17:20:41.797Z"
   },
   {
    "duration": 73,
    "start_time": "2022-07-26T18:04:08.913Z"
   },
   {
    "duration": 2602,
    "start_time": "2022-07-26T18:04:24.902Z"
   },
   {
    "duration": 4,
    "start_time": "2022-07-26T18:04:27.506Z"
   },
   {
    "duration": 227,
    "start_time": "2022-07-26T18:04:27.512Z"
   },
   {
    "duration": 63,
    "start_time": "2022-07-26T18:04:27.741Z"
   },
   {
    "duration": 70,
    "start_time": "2022-07-26T18:04:27.806Z"
   },
   {
    "duration": 11,
    "start_time": "2022-07-26T18:04:27.878Z"
   },
   {
    "duration": 15,
    "start_time": "2022-07-26T18:04:27.891Z"
   },
   {
    "duration": 265,
    "start_time": "2022-07-26T18:04:27.907Z"
   },
   {
    "duration": 382,
    "start_time": "2022-07-26T18:04:28.174Z"
   },
   {
    "duration": 490,
    "start_time": "2022-07-26T18:04:28.559Z"
   },
   {
    "duration": 254,
    "start_time": "2022-07-26T18:04:29.052Z"
   },
   {
    "duration": 250,
    "start_time": "2022-07-26T18:04:29.308Z"
   },
   {
    "duration": 154,
    "start_time": "2022-07-26T18:04:29.559Z"
   },
   {
    "duration": 157,
    "start_time": "2022-07-26T18:04:29.715Z"
   },
   {
    "duration": 150,
    "start_time": "2022-07-26T18:04:29.873Z"
   },
   {
    "duration": 140,
    "start_time": "2022-07-26T18:04:30.024Z"
   },
   {
    "duration": 171,
    "start_time": "2022-07-26T18:04:30.165Z"
   },
   {
    "duration": 268,
    "start_time": "2022-07-26T18:04:30.338Z"
   },
   {
    "duration": 245,
    "start_time": "2022-07-26T18:04:30.608Z"
   },
   {
    "duration": 241,
    "start_time": "2022-07-26T18:04:30.855Z"
   },
   {
    "duration": 258,
    "start_time": "2022-07-26T18:04:31.098Z"
   },
   {
    "duration": 245,
    "start_time": "2022-07-26T18:04:31.357Z"
   },
   {
    "duration": 280,
    "start_time": "2022-07-26T18:04:31.604Z"
   },
   {
    "duration": 0,
    "start_time": "2022-07-26T18:04:31.885Z"
   },
   {
    "duration": 0,
    "start_time": "2022-07-26T18:04:31.887Z"
   },
   {
    "duration": 0,
    "start_time": "2022-07-26T18:04:31.888Z"
   },
   {
    "duration": 106,
    "start_time": "2022-07-26T18:12:02.341Z"
   },
   {
    "duration": 2669,
    "start_time": "2022-07-26T18:12:08.630Z"
   },
   {
    "duration": 4,
    "start_time": "2022-07-26T18:12:11.302Z"
   },
   {
    "duration": 219,
    "start_time": "2022-07-26T18:12:11.308Z"
   },
   {
    "duration": 64,
    "start_time": "2022-07-26T18:12:11.529Z"
   },
   {
    "duration": 71,
    "start_time": "2022-07-26T18:12:11.595Z"
   },
   {
    "duration": 12,
    "start_time": "2022-07-26T18:12:11.668Z"
   },
   {
    "duration": 15,
    "start_time": "2022-07-26T18:12:11.681Z"
   },
   {
    "duration": 282,
    "start_time": "2022-07-26T18:12:11.697Z"
   },
   {
    "duration": 361,
    "start_time": "2022-07-26T18:12:11.981Z"
   },
   {
    "duration": 427,
    "start_time": "2022-07-26T18:12:12.344Z"
   },
   {
    "duration": 256,
    "start_time": "2022-07-26T18:12:12.773Z"
   },
   {
    "duration": 239,
    "start_time": "2022-07-26T18:12:13.036Z"
   },
   {
    "duration": 153,
    "start_time": "2022-07-26T18:12:13.277Z"
   },
   {
    "duration": 155,
    "start_time": "2022-07-26T18:12:13.436Z"
   },
   {
    "duration": 147,
    "start_time": "2022-07-26T18:12:13.593Z"
   },
   {
    "duration": 144,
    "start_time": "2022-07-26T18:12:13.741Z"
   },
   {
    "duration": 160,
    "start_time": "2022-07-26T18:12:13.887Z"
   },
   {
    "duration": 257,
    "start_time": "2022-07-26T18:12:14.049Z"
   },
   {
    "duration": 245,
    "start_time": "2022-07-26T18:12:14.308Z"
   },
   {
    "duration": 258,
    "start_time": "2022-07-26T18:12:14.554Z"
   },
   {
    "duration": 261,
    "start_time": "2022-07-26T18:12:14.814Z"
   },
   {
    "duration": 252,
    "start_time": "2022-07-26T18:12:15.076Z"
   },
   {
    "duration": 263,
    "start_time": "2022-07-26T18:12:15.330Z"
   },
   {
    "duration": 0,
    "start_time": "2022-07-26T18:12:15.595Z"
   },
   {
    "duration": 0,
    "start_time": "2022-07-26T18:12:15.597Z"
   },
   {
    "duration": 0,
    "start_time": "2022-07-26T18:12:15.598Z"
   },
   {
    "duration": 20,
    "start_time": "2022-07-26T18:12:31.115Z"
   },
   {
    "duration": 2715,
    "start_time": "2022-07-26T18:12:38.616Z"
   },
   {
    "duration": 4,
    "start_time": "2022-07-26T18:12:41.333Z"
   },
   {
    "duration": 222,
    "start_time": "2022-07-26T18:12:41.341Z"
   },
   {
    "duration": 28,
    "start_time": "2022-07-26T18:12:41.564Z"
   },
   {
    "duration": 61,
    "start_time": "2022-07-26T18:12:41.594Z"
   },
   {
    "duration": 7,
    "start_time": "2022-07-26T18:12:41.657Z"
   },
   {
    "duration": 15,
    "start_time": "2022-07-26T18:12:41.665Z"
   },
   {
    "duration": 268,
    "start_time": "2022-07-26T18:12:41.681Z"
   },
   {
    "duration": 367,
    "start_time": "2022-07-26T18:12:41.951Z"
   },
   {
    "duration": 422,
    "start_time": "2022-07-26T18:12:42.319Z"
   },
   {
    "duration": 258,
    "start_time": "2022-07-26T18:12:42.743Z"
   },
   {
    "duration": 237,
    "start_time": "2022-07-26T18:12:43.002Z"
   },
   {
    "duration": 154,
    "start_time": "2022-07-26T18:12:43.241Z"
   },
   {
    "duration": 158,
    "start_time": "2022-07-26T18:12:43.396Z"
   },
   {
    "duration": 143,
    "start_time": "2022-07-26T18:12:43.556Z"
   },
   {
    "duration": 139,
    "start_time": "2022-07-26T18:12:43.701Z"
   },
   {
    "duration": 173,
    "start_time": "2022-07-26T18:12:43.841Z"
   },
   {
    "duration": 258,
    "start_time": "2022-07-26T18:12:44.016Z"
   },
   {
    "duration": 254,
    "start_time": "2022-07-26T18:12:44.276Z"
   },
   {
    "duration": 266,
    "start_time": "2022-07-26T18:12:44.532Z"
   },
   {
    "duration": 258,
    "start_time": "2022-07-26T18:12:44.800Z"
   },
   {
    "duration": 245,
    "start_time": "2022-07-26T18:12:45.060Z"
   },
   {
    "duration": 35,
    "start_time": "2022-07-26T18:12:45.307Z"
   },
   {
    "duration": 25,
    "start_time": "2022-07-26T18:12:45.344Z"
   },
   {
    "duration": 4,
    "start_time": "2022-07-26T18:12:45.370Z"
   },
   {
    "duration": 9,
    "start_time": "2022-07-26T18:12:45.376Z"
   },
   {
    "duration": 1346,
    "start_time": "2022-07-26T18:15:15.421Z"
   },
   {
    "duration": 2690,
    "start_time": "2022-07-26T18:15:46.629Z"
   },
   {
    "duration": 4,
    "start_time": "2022-07-26T18:15:49.321Z"
   },
   {
    "duration": 226,
    "start_time": "2022-07-26T18:15:49.327Z"
   },
   {
    "duration": 963,
    "start_time": "2022-07-26T18:15:49.555Z"
   },
   {
    "duration": 0,
    "start_time": "2022-07-26T18:15:50.520Z"
   },
   {
    "duration": 0,
    "start_time": "2022-07-26T18:15:50.521Z"
   },
   {
    "duration": 0,
    "start_time": "2022-07-26T18:15:50.522Z"
   },
   {
    "duration": 0,
    "start_time": "2022-07-26T18:15:50.523Z"
   },
   {
    "duration": 0,
    "start_time": "2022-07-26T18:15:50.524Z"
   },
   {
    "duration": 0,
    "start_time": "2022-07-26T18:15:50.525Z"
   },
   {
    "duration": 0,
    "start_time": "2022-07-26T18:15:50.526Z"
   },
   {
    "duration": 0,
    "start_time": "2022-07-26T18:15:50.527Z"
   },
   {
    "duration": 0,
    "start_time": "2022-07-26T18:15:50.528Z"
   },
   {
    "duration": 0,
    "start_time": "2022-07-26T18:15:50.529Z"
   },
   {
    "duration": 0,
    "start_time": "2022-07-26T18:15:50.530Z"
   },
   {
    "duration": 0,
    "start_time": "2022-07-26T18:15:50.531Z"
   },
   {
    "duration": 0,
    "start_time": "2022-07-26T18:15:50.532Z"
   },
   {
    "duration": 0,
    "start_time": "2022-07-26T18:15:50.532Z"
   },
   {
    "duration": 0,
    "start_time": "2022-07-26T18:15:50.534Z"
   },
   {
    "duration": 0,
    "start_time": "2022-07-26T18:15:50.535Z"
   },
   {
    "duration": 0,
    "start_time": "2022-07-26T18:15:50.536Z"
   },
   {
    "duration": 0,
    "start_time": "2022-07-26T18:15:50.537Z"
   },
   {
    "duration": 0,
    "start_time": "2022-07-26T18:15:50.538Z"
   },
   {
    "duration": 0,
    "start_time": "2022-07-26T18:15:50.539Z"
   },
   {
    "duration": 0,
    "start_time": "2022-07-26T18:15:50.540Z"
   },
   {
    "duration": 0,
    "start_time": "2022-07-26T18:15:50.541Z"
   },
   {
    "duration": 25,
    "start_time": "2022-07-26T18:28:48.009Z"
   },
   {
    "duration": 31,
    "start_time": "2022-07-26T18:29:03.421Z"
   },
   {
    "duration": 50,
    "start_time": "2022-07-26T18:29:09.389Z"
   },
   {
    "duration": 25,
    "start_time": "2022-07-26T18:29:15.525Z"
   },
   {
    "duration": 21,
    "start_time": "2022-07-26T18:29:25.021Z"
   },
   {
    "duration": 23,
    "start_time": "2022-07-26T18:29:32.885Z"
   },
   {
    "duration": 21,
    "start_time": "2022-07-26T18:30:53.796Z"
   },
   {
    "duration": 21,
    "start_time": "2022-07-26T18:40:09.343Z"
   },
   {
    "duration": 48,
    "start_time": "2022-07-26T18:41:52.761Z"
   },
   {
    "duration": 41,
    "start_time": "2022-07-26T18:41:59.449Z"
   },
   {
    "duration": 24,
    "start_time": "2022-07-26T18:44:28.544Z"
   },
   {
    "duration": 2540,
    "start_time": "2022-07-26T18:44:44.099Z"
   },
   {
    "duration": 4,
    "start_time": "2022-07-26T18:44:46.641Z"
   },
   {
    "duration": 232,
    "start_time": "2022-07-26T18:44:46.647Z"
   },
   {
    "duration": 34,
    "start_time": "2022-07-26T18:44:46.882Z"
   },
   {
    "duration": 59,
    "start_time": "2022-07-26T18:44:46.917Z"
   },
   {
    "duration": 8,
    "start_time": "2022-07-26T18:44:46.977Z"
   },
   {
    "duration": 33,
    "start_time": "2022-07-26T18:44:46.987Z"
   },
   {
    "duration": 257,
    "start_time": "2022-07-26T18:44:47.021Z"
   },
   {
    "duration": 365,
    "start_time": "2022-07-26T18:44:47.279Z"
   },
   {
    "duration": 428,
    "start_time": "2022-07-26T18:44:47.647Z"
   },
   {
    "duration": 240,
    "start_time": "2022-07-26T18:44:48.076Z"
   },
   {
    "duration": 250,
    "start_time": "2022-07-26T18:44:48.318Z"
   },
   {
    "duration": 172,
    "start_time": "2022-07-26T18:44:48.570Z"
   },
   {
    "duration": 187,
    "start_time": "2022-07-26T18:44:48.743Z"
   },
   {
    "duration": 194,
    "start_time": "2022-07-26T18:44:48.932Z"
   },
   {
    "duration": 136,
    "start_time": "2022-07-26T18:44:49.127Z"
   },
   {
    "duration": 155,
    "start_time": "2022-07-26T18:44:49.264Z"
   },
   {
    "duration": 268,
    "start_time": "2022-07-26T18:44:49.420Z"
   },
   {
    "duration": 264,
    "start_time": "2022-07-26T18:44:49.689Z"
   },
   {
    "duration": 242,
    "start_time": "2022-07-26T18:44:49.954Z"
   },
   {
    "duration": 271,
    "start_time": "2022-07-26T18:44:50.197Z"
   },
   {
    "duration": 250,
    "start_time": "2022-07-26T18:44:50.470Z"
   },
   {
    "duration": 33,
    "start_time": "2022-07-26T18:44:50.722Z"
   },
   {
    "duration": 23,
    "start_time": "2022-07-26T18:44:50.756Z"
   },
   {
    "duration": 22,
    "start_time": "2022-07-26T18:44:50.781Z"
   },
   {
    "duration": 23,
    "start_time": "2022-07-26T18:44:50.804Z"
   },
   {
    "duration": 10,
    "start_time": "2022-07-26T18:46:23.616Z"
   },
   {
    "duration": 4,
    "start_time": "2022-07-26T18:47:18.051Z"
   },
   {
    "duration": 9,
    "start_time": "2022-07-26T18:47:26.159Z"
   },
   {
    "duration": 7,
    "start_time": "2022-07-26T18:49:12.145Z"
   },
   {
    "duration": 10,
    "start_time": "2022-07-26T18:49:29.402Z"
   },
   {
    "duration": 55,
    "start_time": "2022-07-26T18:53:43.705Z"
   },
   {
    "duration": 93,
    "start_time": "2022-07-26T18:53:51.042Z"
   },
   {
    "duration": 5,
    "start_time": "2022-07-26T18:54:06.506Z"
   },
   {
    "duration": 36,
    "start_time": "2022-07-26T18:54:16.098Z"
   },
   {
    "duration": 48,
    "start_time": "2022-07-26T18:55:16.841Z"
   },
   {
    "duration": 35,
    "start_time": "2022-07-26T18:56:06.744Z"
   },
   {
    "duration": 35,
    "start_time": "2022-07-26T18:56:17.205Z"
   },
   {
    "duration": 33,
    "start_time": "2022-07-26T18:59:51.328Z"
   },
   {
    "duration": 31,
    "start_time": "2022-07-26T19:00:31.887Z"
   },
   {
    "duration": 32,
    "start_time": "2022-07-26T19:01:12.120Z"
   },
   {
    "duration": 38,
    "start_time": "2022-07-26T19:01:29.033Z"
   },
   {
    "duration": 32,
    "start_time": "2022-07-26T19:01:46.876Z"
   },
   {
    "duration": 31,
    "start_time": "2022-07-26T19:02:15.313Z"
   },
   {
    "duration": 232,
    "start_time": "2022-07-26T19:03:34.259Z"
   },
   {
    "duration": 32,
    "start_time": "2022-07-26T19:04:45.054Z"
   },
   {
    "duration": 35,
    "start_time": "2022-07-26T19:05:21.864Z"
   },
   {
    "duration": 47,
    "start_time": "2022-07-26T19:05:39.927Z"
   },
   {
    "duration": 44,
    "start_time": "2022-07-26T19:05:59.070Z"
   },
   {
    "duration": 53,
    "start_time": "2022-07-26T19:06:21.958Z"
   },
   {
    "duration": 33,
    "start_time": "2022-07-26T19:07:03.559Z"
   },
   {
    "duration": 32,
    "start_time": "2022-07-26T19:09:50.069Z"
   },
   {
    "duration": 33,
    "start_time": "2022-07-26T19:10:07.220Z"
   },
   {
    "duration": 33,
    "start_time": "2022-07-26T19:10:28.149Z"
   },
   {
    "duration": 35,
    "start_time": "2022-07-26T19:11:03.083Z"
   },
   {
    "duration": 32,
    "start_time": "2022-07-26T19:11:16.716Z"
   },
   {
    "duration": 2694,
    "start_time": "2022-07-26T19:11:21.141Z"
   },
   {
    "duration": 3,
    "start_time": "2022-07-26T19:11:23.838Z"
   },
   {
    "duration": 251,
    "start_time": "2022-07-26T19:11:23.843Z"
   },
   {
    "duration": 46,
    "start_time": "2022-07-26T19:11:24.096Z"
   },
   {
    "duration": 49,
    "start_time": "2022-07-26T19:11:24.145Z"
   },
   {
    "duration": 7,
    "start_time": "2022-07-26T19:11:24.196Z"
   },
   {
    "duration": 32,
    "start_time": "2022-07-26T19:11:24.205Z"
   },
   {
    "duration": 281,
    "start_time": "2022-07-26T19:11:24.239Z"
   },
   {
    "duration": 399,
    "start_time": "2022-07-26T19:11:24.522Z"
   },
   {
    "duration": 461,
    "start_time": "2022-07-26T19:11:24.923Z"
   },
   {
    "duration": 263,
    "start_time": "2022-07-26T19:11:25.386Z"
   },
   {
    "duration": 247,
    "start_time": "2022-07-26T19:11:25.651Z"
   },
   {
    "duration": 146,
    "start_time": "2022-07-26T19:11:25.900Z"
   },
   {
    "duration": 170,
    "start_time": "2022-07-26T19:11:26.048Z"
   },
   {
    "duration": 156,
    "start_time": "2022-07-26T19:11:26.219Z"
   },
   {
    "duration": 162,
    "start_time": "2022-07-26T19:11:26.376Z"
   },
   {
    "duration": 194,
    "start_time": "2022-07-26T19:11:26.540Z"
   },
   {
    "duration": 263,
    "start_time": "2022-07-26T19:11:26.736Z"
   },
   {
    "duration": 253,
    "start_time": "2022-07-26T19:11:27.001Z"
   },
   {
    "duration": 241,
    "start_time": "2022-07-26T19:11:27.256Z"
   },
   {
    "duration": 273,
    "start_time": "2022-07-26T19:11:27.498Z"
   },
   {
    "duration": 255,
    "start_time": "2022-07-26T19:11:27.773Z"
   },
   {
    "duration": 29,
    "start_time": "2022-07-26T19:11:28.030Z"
   },
   {
    "duration": 24,
    "start_time": "2022-07-26T19:11:28.061Z"
   },
   {
    "duration": 4,
    "start_time": "2022-07-26T19:11:28.087Z"
   },
   {
    "duration": 9,
    "start_time": "2022-07-26T19:11:28.092Z"
   },
   {
    "duration": 11,
    "start_time": "2022-07-26T19:11:52.263Z"
   },
   {
    "duration": 34,
    "start_time": "2022-07-26T19:13:02.336Z"
   },
   {
    "duration": 33,
    "start_time": "2022-07-26T19:14:22.815Z"
   },
   {
    "duration": 42,
    "start_time": "2022-07-26T19:15:16.642Z"
   },
   {
    "duration": 34,
    "start_time": "2022-07-26T19:15:20.886Z"
   },
   {
    "duration": 40,
    "start_time": "2022-07-26T19:16:14.935Z"
   },
   {
    "duration": 53,
    "start_time": "2022-07-26T19:18:17.886Z"
   },
   {
    "duration": 72,
    "start_time": "2022-07-26T19:18:27.580Z"
   },
   {
    "duration": 44,
    "start_time": "2022-07-26T19:18:33.380Z"
   },
   {
    "duration": 52,
    "start_time": "2022-07-26T19:18:38.583Z"
   },
   {
    "duration": 48,
    "start_time": "2022-07-26T19:19:25.825Z"
   },
   {
    "duration": 59,
    "start_time": "2022-07-26T19:21:04.191Z"
   },
   {
    "duration": 57,
    "start_time": "2022-07-26T19:21:48.760Z"
   },
   {
    "duration": 50,
    "start_time": "2022-07-26T19:21:56.024Z"
   },
   {
    "duration": 52,
    "start_time": "2022-07-26T19:22:00.449Z"
   },
   {
    "duration": 66,
    "start_time": "2022-07-26T19:23:26.913Z"
   },
   {
    "duration": 55,
    "start_time": "2022-07-26T19:23:33.625Z"
   },
   {
    "duration": 55,
    "start_time": "2022-07-26T19:23:37.425Z"
   },
   {
    "duration": 55,
    "start_time": "2022-07-26T19:23:41.224Z"
   },
   {
    "duration": 58,
    "start_time": "2022-07-26T19:24:10.561Z"
   },
   {
    "duration": 63,
    "start_time": "2022-07-26T19:25:02.609Z"
   },
   {
    "duration": 71,
    "start_time": "2022-07-26T19:25:10.097Z"
   },
   {
    "duration": 80,
    "start_time": "2022-07-26T19:25:14.881Z"
   },
   {
    "duration": 65,
    "start_time": "2022-07-26T19:25:18.730Z"
   },
   {
    "duration": 64,
    "start_time": "2022-07-26T19:26:34.129Z"
   },
   {
    "duration": 69,
    "start_time": "2022-07-26T19:26:45.898Z"
   },
   {
    "duration": 68,
    "start_time": "2022-07-26T19:26:52.152Z"
   },
   {
    "duration": 65,
    "start_time": "2022-07-26T19:26:56.311Z"
   },
   {
    "duration": 71,
    "start_time": "2022-07-26T19:27:04.315Z"
   },
   {
    "duration": 60,
    "start_time": "2022-07-26T19:47:34.364Z"
   },
   {
    "duration": 617,
    "start_time": "2022-07-26T19:47:51.129Z"
   },
   {
    "duration": 394,
    "start_time": "2022-07-26T19:48:02.172Z"
   },
   {
    "duration": 20,
    "start_time": "2022-07-26T19:51:50.285Z"
   },
   {
    "duration": 397,
    "start_time": "2022-07-26T19:52:02.238Z"
   },
   {
    "duration": 15,
    "start_time": "2022-07-26T19:53:21.762Z"
   },
   {
    "duration": 501,
    "start_time": "2022-07-26T19:53:29.181Z"
   },
   {
    "duration": 374,
    "start_time": "2022-07-26T19:54:42.497Z"
   },
   {
    "duration": 376,
    "start_time": "2022-07-26T19:54:51.433Z"
   },
   {
    "duration": 256,
    "start_time": "2022-07-26T20:00:11.866Z"
   },
   {
    "duration": 170,
    "start_time": "2022-07-26T20:13:43.421Z"
   },
   {
    "duration": 177,
    "start_time": "2022-07-26T20:13:55.502Z"
   },
   {
    "duration": 304,
    "start_time": "2022-07-26T20:19:22.603Z"
   },
   {
    "duration": 165,
    "start_time": "2022-07-26T20:19:48.148Z"
   },
   {
    "duration": 171,
    "start_time": "2022-07-26T20:20:17.020Z"
   },
   {
    "duration": 70,
    "start_time": "2022-07-26T20:22:00.090Z"
   },
   {
    "duration": 7302,
    "start_time": "2022-07-26T20:22:13.996Z"
   },
   {
    "duration": 178,
    "start_time": "2022-07-26T20:22:45.323Z"
   },
   {
    "duration": 49995,
    "start_time": "2022-07-26T20:24:44.092Z"
   },
   {
    "duration": 423,
    "start_time": "2022-07-26T20:25:36.649Z"
   },
   {
    "duration": 170,
    "start_time": "2022-07-26T20:26:13.801Z"
   },
   {
    "duration": 184,
    "start_time": "2022-07-26T20:27:04.015Z"
   },
   {
    "duration": 176,
    "start_time": "2022-07-26T20:30:09.631Z"
   },
   {
    "duration": 51,
    "start_time": "2022-07-26T20:35:57.279Z"
   },
   {
    "duration": 90,
    "start_time": "2022-07-26T20:36:20.592Z"
   },
   {
    "duration": 92,
    "start_time": "2022-07-26T20:36:57.823Z"
   },
   {
    "duration": 61,
    "start_time": "2022-07-26T20:37:19.655Z"
   },
   {
    "duration": 86,
    "start_time": "2022-07-26T20:38:21.198Z"
   },
   {
    "duration": 3175,
    "start_time": "2022-07-26T20:39:21.123Z"
   },
   {
    "duration": 526,
    "start_time": "2022-07-26T20:39:45.275Z"
   },
   {
    "duration": 223,
    "start_time": "2022-07-26T20:39:55.804Z"
   },
   {
    "duration": 193,
    "start_time": "2022-07-26T20:40:13.039Z"
   },
   {
    "duration": 167,
    "start_time": "2022-07-26T20:41:28.100Z"
   },
   {
    "duration": 933,
    "start_time": "2022-07-26T20:41:58.268Z"
   },
   {
    "duration": 167,
    "start_time": "2022-07-26T20:42:12.627Z"
   },
   {
    "duration": 164,
    "start_time": "2022-07-26T20:42:45.619Z"
   },
   {
    "duration": 172,
    "start_time": "2022-07-26T20:43:17.448Z"
   },
   {
    "duration": 163,
    "start_time": "2022-07-26T20:43:37.138Z"
   },
   {
    "duration": 173,
    "start_time": "2022-07-26T20:45:16.032Z"
   },
   {
    "duration": 170,
    "start_time": "2022-07-26T20:48:30.682Z"
   },
   {
    "duration": 162,
    "start_time": "2022-07-26T20:49:07.242Z"
   },
   {
    "duration": 2541,
    "start_time": "2022-07-26T20:49:19.734Z"
   },
   {
    "duration": 5,
    "start_time": "2022-07-26T20:49:22.281Z"
   },
   {
    "duration": 242,
    "start_time": "2022-07-26T20:49:22.288Z"
   },
   {
    "duration": 75,
    "start_time": "2022-07-26T20:49:22.532Z"
   },
   {
    "duration": 66,
    "start_time": "2022-07-26T20:49:22.608Z"
   },
   {
    "duration": 8,
    "start_time": "2022-07-26T20:49:22.676Z"
   },
   {
    "duration": 14,
    "start_time": "2022-07-26T20:49:22.685Z"
   },
   {
    "duration": 303,
    "start_time": "2022-07-26T20:49:22.701Z"
   },
   {
    "duration": 362,
    "start_time": "2022-07-26T20:49:23.006Z"
   },
   {
    "duration": 418,
    "start_time": "2022-07-26T20:49:23.371Z"
   },
   {
    "duration": 232,
    "start_time": "2022-07-26T20:49:23.791Z"
   },
   {
    "duration": 240,
    "start_time": "2022-07-26T20:49:24.024Z"
   },
   {
    "duration": 160,
    "start_time": "2022-07-26T20:49:24.265Z"
   },
   {
    "duration": 161,
    "start_time": "2022-07-26T20:49:24.428Z"
   },
   {
    "duration": 164,
    "start_time": "2022-07-26T20:49:24.590Z"
   },
   {
    "duration": 144,
    "start_time": "2022-07-26T20:49:24.756Z"
   },
   {
    "duration": 180,
    "start_time": "2022-07-26T20:49:24.903Z"
   },
   {
    "duration": 255,
    "start_time": "2022-07-26T20:49:25.084Z"
   },
   {
    "duration": 283,
    "start_time": "2022-07-26T20:49:25.341Z"
   },
   {
    "duration": 237,
    "start_time": "2022-07-26T20:49:25.625Z"
   },
   {
    "duration": 244,
    "start_time": "2022-07-26T20:49:25.864Z"
   },
   {
    "duration": 248,
    "start_time": "2022-07-26T20:49:26.110Z"
   },
   {
    "duration": 27,
    "start_time": "2022-07-26T20:49:26.359Z"
   },
   {
    "duration": 178,
    "start_time": "2022-07-26T20:49:26.387Z"
   },
   {
    "duration": 75,
    "start_time": "2022-07-26T20:49:26.567Z"
   },
   {
    "duration": 0,
    "start_time": "2022-07-26T20:49:26.644Z"
   },
   {
    "duration": 0,
    "start_time": "2022-07-26T20:49:26.645Z"
   },
   {
    "duration": 0,
    "start_time": "2022-07-26T20:49:26.646Z"
   },
   {
    "duration": 0,
    "start_time": "2022-07-26T20:49:26.647Z"
   },
   {
    "duration": 154,
    "start_time": "2022-07-26T20:51:19.817Z"
   },
   {
    "duration": 2552,
    "start_time": "2022-07-26T20:51:39.421Z"
   },
   {
    "duration": 4,
    "start_time": "2022-07-26T20:51:41.975Z"
   },
   {
    "duration": 239,
    "start_time": "2022-07-26T20:51:41.982Z"
   },
   {
    "duration": 82,
    "start_time": "2022-07-26T20:51:42.222Z"
   },
   {
    "duration": 63,
    "start_time": "2022-07-26T20:51:42.306Z"
   },
   {
    "duration": 7,
    "start_time": "2022-07-26T20:51:42.371Z"
   },
   {
    "duration": 31,
    "start_time": "2022-07-26T20:51:42.379Z"
   },
   {
    "duration": 247,
    "start_time": "2022-07-26T20:51:42.412Z"
   },
   {
    "duration": 379,
    "start_time": "2022-07-26T20:51:42.662Z"
   },
   {
    "duration": 429,
    "start_time": "2022-07-26T20:51:43.043Z"
   },
   {
    "duration": 236,
    "start_time": "2022-07-26T20:51:43.473Z"
   },
   {
    "duration": 249,
    "start_time": "2022-07-26T20:51:43.710Z"
   },
   {
    "duration": 157,
    "start_time": "2022-07-26T20:51:43.961Z"
   },
   {
    "duration": 161,
    "start_time": "2022-07-26T20:51:44.120Z"
   },
   {
    "duration": 154,
    "start_time": "2022-07-26T20:51:44.283Z"
   },
   {
    "duration": 142,
    "start_time": "2022-07-26T20:51:44.439Z"
   },
   {
    "duration": 177,
    "start_time": "2022-07-26T20:51:44.584Z"
   },
   {
    "duration": 269,
    "start_time": "2022-07-26T20:51:44.763Z"
   },
   {
    "duration": 243,
    "start_time": "2022-07-26T20:51:45.034Z"
   },
   {
    "duration": 242,
    "start_time": "2022-07-26T20:51:45.279Z"
   },
   {
    "duration": 252,
    "start_time": "2022-07-26T20:51:45.523Z"
   },
   {
    "duration": 246,
    "start_time": "2022-07-26T20:51:45.777Z"
   },
   {
    "duration": 39,
    "start_time": "2022-07-26T20:51:46.024Z"
   },
   {
    "duration": 179,
    "start_time": "2022-07-26T20:51:46.064Z"
   },
   {
    "duration": 166,
    "start_time": "2022-07-26T20:51:46.245Z"
   },
   {
    "duration": 250,
    "start_time": "2022-07-26T20:51:46.413Z"
   },
   {
    "duration": 22,
    "start_time": "2022-07-26T20:51:46.666Z"
   },
   {
    "duration": 4,
    "start_time": "2022-07-26T20:51:46.690Z"
   },
   {
    "duration": 8,
    "start_time": "2022-07-26T20:51:46.695Z"
   },
   {
    "duration": 167,
    "start_time": "2022-07-26T20:53:36.516Z"
   },
   {
    "duration": 187,
    "start_time": "2022-07-26T20:53:47.004Z"
   },
   {
    "duration": 180,
    "start_time": "2022-07-26T20:53:53.348Z"
   },
   {
    "duration": 172,
    "start_time": "2022-07-26T20:55:07.062Z"
   },
   {
    "duration": 183,
    "start_time": "2022-07-26T20:57:13.048Z"
   },
   {
    "duration": 2919,
    "start_time": "2022-07-26T20:57:27.300Z"
   },
   {
    "duration": 5,
    "start_time": "2022-07-26T20:57:30.221Z"
   },
   {
    "duration": 257,
    "start_time": "2022-07-26T20:57:30.227Z"
   },
   {
    "duration": 96,
    "start_time": "2022-07-26T20:57:30.486Z"
   },
   {
    "duration": 68,
    "start_time": "2022-07-26T20:57:30.583Z"
   },
   {
    "duration": 11,
    "start_time": "2022-07-26T20:57:30.652Z"
   },
   {
    "duration": 36,
    "start_time": "2022-07-26T20:57:30.665Z"
   },
   {
    "duration": 296,
    "start_time": "2022-07-26T20:57:30.703Z"
   },
   {
    "duration": 448,
    "start_time": "2022-07-26T20:57:31.000Z"
   },
   {
    "duration": 459,
    "start_time": "2022-07-26T20:57:31.452Z"
   },
   {
    "duration": 271,
    "start_time": "2022-07-26T20:57:31.913Z"
   },
   {
    "duration": 279,
    "start_time": "2022-07-26T20:57:32.186Z"
   },
   {
    "duration": 162,
    "start_time": "2022-07-26T20:57:32.467Z"
   },
   {
    "duration": 183,
    "start_time": "2022-07-26T20:57:32.631Z"
   },
   {
    "duration": 195,
    "start_time": "2022-07-26T20:57:32.816Z"
   },
   {
    "duration": 168,
    "start_time": "2022-07-26T20:57:33.013Z"
   },
   {
    "duration": 174,
    "start_time": "2022-07-26T20:57:33.182Z"
   },
   {
    "duration": 273,
    "start_time": "2022-07-26T20:57:33.358Z"
   },
   {
    "duration": 255,
    "start_time": "2022-07-26T20:57:33.633Z"
   },
   {
    "duration": 261,
    "start_time": "2022-07-26T20:57:33.890Z"
   },
   {
    "duration": 271,
    "start_time": "2022-07-26T20:57:34.153Z"
   },
   {
    "duration": 261,
    "start_time": "2022-07-26T20:57:34.426Z"
   },
   {
    "duration": 30,
    "start_time": "2022-07-26T20:57:34.689Z"
   },
   {
    "duration": 229,
    "start_time": "2022-07-26T20:57:34.721Z"
   },
   {
    "duration": 190,
    "start_time": "2022-07-26T20:57:34.953Z"
   },
   {
    "duration": 285,
    "start_time": "2022-07-26T20:57:35.146Z"
   },
   {
    "duration": 176,
    "start_time": "2022-07-26T20:57:35.433Z"
   },
   {
    "duration": 39,
    "start_time": "2022-07-26T20:57:35.612Z"
   },
   {
    "duration": 4,
    "start_time": "2022-07-26T20:57:35.653Z"
   },
   {
    "duration": 10,
    "start_time": "2022-07-26T20:57:35.659Z"
   },
   {
    "duration": 210,
    "start_time": "2022-07-26T20:58:28.343Z"
   },
   {
    "duration": 25338,
    "start_time": "2022-07-26T21:02:17.373Z"
   },
   {
    "duration": 80,
    "start_time": "2022-07-26T21:04:19.270Z"
   },
   {
    "duration": 30,
    "start_time": "2022-07-26T21:04:27.137Z"
   },
   {
    "duration": 31,
    "start_time": "2022-07-26T21:04:41.152Z"
   },
   {
    "duration": 19,
    "start_time": "2022-07-26T21:06:44.634Z"
   },
   {
    "duration": 977,
    "start_time": "2022-07-26T21:07:40.477Z"
   },
   {
    "duration": 142,
    "start_time": "2022-07-26T21:08:00.941Z"
   },
   {
    "duration": 138,
    "start_time": "2022-07-26T21:09:35.335Z"
   },
   {
    "duration": 239,
    "start_time": "2022-07-26T21:11:22.273Z"
   },
   {
    "duration": 222,
    "start_time": "2022-07-26T21:11:56.336Z"
   },
   {
    "duration": 860,
    "start_time": "2022-07-26T21:12:27.775Z"
   },
   {
    "duration": 33,
    "start_time": "2022-07-26T21:13:00.348Z"
   },
   {
    "duration": 172,
    "start_time": "2022-07-26T21:13:09.235Z"
   },
   {
    "duration": 27,
    "start_time": "2022-07-26T21:13:30.036Z"
   },
   {
    "duration": 368,
    "start_time": "2022-07-26T21:14:16.464Z"
   },
   {
    "duration": 268,
    "start_time": "2022-07-26T21:15:30.141Z"
   },
   {
    "duration": 246,
    "start_time": "2022-07-26T21:15:53.136Z"
   },
   {
    "duration": 197,
    "start_time": "2022-07-26T21:16:01.254Z"
   },
   {
    "duration": 212,
    "start_time": "2022-07-26T21:16:25.913Z"
   },
   {
    "duration": 210,
    "start_time": "2022-07-26T21:16:33.736Z"
   },
   {
    "duration": 52,
    "start_time": "2022-07-26T21:20:42.269Z"
   },
   {
    "duration": 41,
    "start_time": "2022-07-26T21:25:26.440Z"
   },
   {
    "duration": 37,
    "start_time": "2022-07-26T21:25:34.935Z"
   },
   {
    "duration": 18,
    "start_time": "2022-07-26T21:26:14.638Z"
   },
   {
    "duration": 156,
    "start_time": "2022-07-26T21:26:44.838Z"
   },
   {
    "duration": 179,
    "start_time": "2022-07-26T21:27:27.246Z"
   },
   {
    "duration": 172,
    "start_time": "2022-07-26T21:27:31.549Z"
   },
   {
    "duration": 188,
    "start_time": "2022-07-26T21:28:08.148Z"
   },
   {
    "duration": 48,
    "start_time": "2022-07-26T21:28:32.685Z"
   },
   {
    "duration": 188,
    "start_time": "2022-07-26T21:28:38.140Z"
   },
   {
    "duration": 3738,
    "start_time": "2022-07-27T17:43:18.431Z"
   },
   {
    "duration": 3,
    "start_time": "2022-07-27T17:43:22.175Z"
   },
   {
    "duration": 504,
    "start_time": "2022-07-27T17:43:22.180Z"
   },
   {
    "duration": 119,
    "start_time": "2022-07-27T17:43:22.686Z"
   },
   {
    "duration": 76,
    "start_time": "2022-07-27T17:43:22.807Z"
   },
   {
    "duration": 9,
    "start_time": "2022-07-27T17:43:22.885Z"
   },
   {
    "duration": 17,
    "start_time": "2022-07-27T17:43:22.895Z"
   },
   {
    "duration": 305,
    "start_time": "2022-07-27T17:43:22.914Z"
   },
   {
    "duration": 419,
    "start_time": "2022-07-27T17:43:23.221Z"
   },
   {
    "duration": 488,
    "start_time": "2022-07-27T17:43:23.643Z"
   },
   {
    "duration": 255,
    "start_time": "2022-07-27T17:43:24.133Z"
   },
   {
    "duration": 252,
    "start_time": "2022-07-27T17:43:24.389Z"
   },
   {
    "duration": 175,
    "start_time": "2022-07-27T17:43:24.642Z"
   },
   {
    "duration": 171,
    "start_time": "2022-07-27T17:43:24.819Z"
   },
   {
    "duration": 148,
    "start_time": "2022-07-27T17:43:24.992Z"
   },
   {
    "duration": 150,
    "start_time": "2022-07-27T17:43:25.142Z"
   },
   {
    "duration": 184,
    "start_time": "2022-07-27T17:43:25.293Z"
   },
   {
    "duration": 261,
    "start_time": "2022-07-27T17:43:25.479Z"
   },
   {
    "duration": 253,
    "start_time": "2022-07-27T17:43:25.742Z"
   },
   {
    "duration": 252,
    "start_time": "2022-07-27T17:43:25.997Z"
   },
   {
    "duration": 351,
    "start_time": "2022-07-27T17:43:26.251Z"
   },
   {
    "duration": 259,
    "start_time": "2022-07-27T17:43:26.604Z"
   },
   {
    "duration": 31,
    "start_time": "2022-07-27T17:43:26.865Z"
   },
   {
    "duration": 205,
    "start_time": "2022-07-27T17:43:26.898Z"
   },
   {
    "duration": 189,
    "start_time": "2022-07-27T17:43:27.105Z"
   },
   {
    "duration": 300,
    "start_time": "2022-07-27T17:43:27.296Z"
   },
   {
    "duration": 188,
    "start_time": "2022-07-27T17:43:27.598Z"
   },
   {
    "duration": 144,
    "start_time": "2022-07-27T17:43:27.789Z"
   },
   {
    "duration": 215,
    "start_time": "2022-07-27T17:43:27.934Z"
   },
   {
    "duration": 12,
    "start_time": "2022-07-27T17:43:28.151Z"
   },
   {
    "duration": 17,
    "start_time": "2022-07-27T17:43:28.166Z"
   },
   {
    "duration": 198,
    "start_time": "2022-07-27T17:43:28.185Z"
   },
   {
    "duration": 6,
    "start_time": "2022-07-27T17:55:03.889Z"
   },
   {
    "duration": 4,
    "start_time": "2022-07-27T17:56:40.174Z"
   },
   {
    "duration": 176,
    "start_time": "2022-07-27T17:56:42.039Z"
   },
   {
    "duration": 36,
    "start_time": "2022-07-27T18:00:31.969Z"
   },
   {
    "duration": 17,
    "start_time": "2022-07-27T18:03:37.896Z"
   },
   {
    "duration": 2510,
    "start_time": "2022-07-27T18:07:01.318Z"
   },
   {
    "duration": 4,
    "start_time": "2022-07-27T18:07:03.830Z"
   },
   {
    "duration": 232,
    "start_time": "2022-07-27T18:07:03.836Z"
   },
   {
    "duration": 77,
    "start_time": "2022-07-27T18:07:04.070Z"
   },
   {
    "duration": 58,
    "start_time": "2022-07-27T18:07:04.149Z"
   },
   {
    "duration": 7,
    "start_time": "2022-07-27T18:07:04.209Z"
   },
   {
    "duration": 18,
    "start_time": "2022-07-27T18:07:04.217Z"
   },
   {
    "duration": 277,
    "start_time": "2022-07-27T18:07:04.236Z"
   },
   {
    "duration": 378,
    "start_time": "2022-07-27T18:07:04.515Z"
   },
   {
    "duration": 451,
    "start_time": "2022-07-27T18:07:04.895Z"
   },
   {
    "duration": 239,
    "start_time": "2022-07-27T18:07:05.348Z"
   },
   {
    "duration": 246,
    "start_time": "2022-07-27T18:07:05.589Z"
   },
   {
    "duration": 160,
    "start_time": "2022-07-27T18:07:05.837Z"
   },
   {
    "duration": 161,
    "start_time": "2022-07-27T18:07:06.000Z"
   },
   {
    "duration": 201,
    "start_time": "2022-07-27T18:07:06.162Z"
   },
   {
    "duration": 168,
    "start_time": "2022-07-27T18:07:06.365Z"
   },
   {
    "duration": 162,
    "start_time": "2022-07-27T18:07:06.534Z"
   },
   {
    "duration": 253,
    "start_time": "2022-07-27T18:07:06.698Z"
   },
   {
    "duration": 241,
    "start_time": "2022-07-27T18:07:06.952Z"
   },
   {
    "duration": 237,
    "start_time": "2022-07-27T18:07:07.194Z"
   },
   {
    "duration": 245,
    "start_time": "2022-07-27T18:07:07.432Z"
   },
   {
    "duration": 246,
    "start_time": "2022-07-27T18:07:07.678Z"
   },
   {
    "duration": 37,
    "start_time": "2022-07-27T18:07:07.925Z"
   },
   {
    "duration": 197,
    "start_time": "2022-07-27T18:07:07.963Z"
   },
   {
    "duration": 180,
    "start_time": "2022-07-27T18:07:08.162Z"
   },
   {
    "duration": 287,
    "start_time": "2022-07-27T18:07:08.343Z"
   },
   {
    "duration": 198,
    "start_time": "2022-07-27T18:07:08.632Z"
   },
   {
    "duration": 143,
    "start_time": "2022-07-27T18:07:08.832Z"
   },
   {
    "duration": 207,
    "start_time": "2022-07-27T18:07:08.977Z"
   },
   {
    "duration": 5,
    "start_time": "2022-07-27T18:07:09.186Z"
   },
   {
    "duration": 10,
    "start_time": "2022-07-27T18:07:09.192Z"
   },
   {
    "duration": 184,
    "start_time": "2022-07-27T18:07:09.204Z"
   },
   {
    "duration": 3,
    "start_time": "2022-07-27T18:07:09.390Z"
   },
   {
    "duration": 171,
    "start_time": "2022-07-27T18:07:09.395Z"
   },
   {
    "duration": 2703,
    "start_time": "2022-07-27T18:11:28.387Z"
   },
   {
    "duration": 5,
    "start_time": "2022-07-27T18:11:31.092Z"
   },
   {
    "duration": 225,
    "start_time": "2022-07-27T18:11:31.098Z"
   },
   {
    "duration": 85,
    "start_time": "2022-07-27T18:11:31.325Z"
   },
   {
    "duration": 58,
    "start_time": "2022-07-27T18:11:31.412Z"
   },
   {
    "duration": 7,
    "start_time": "2022-07-27T18:11:31.472Z"
   },
   {
    "duration": 24,
    "start_time": "2022-07-27T18:11:31.481Z"
   },
   {
    "duration": 276,
    "start_time": "2022-07-27T18:11:31.507Z"
   },
   {
    "duration": 336,
    "start_time": "2022-07-27T18:11:31.785Z"
   },
   {
    "duration": 416,
    "start_time": "2022-07-27T18:11:32.123Z"
   },
   {
    "duration": 240,
    "start_time": "2022-07-27T18:11:32.540Z"
   },
   {
    "duration": 225,
    "start_time": "2022-07-27T18:11:32.782Z"
   },
   {
    "duration": 142,
    "start_time": "2022-07-27T18:11:33.009Z"
   },
   {
    "duration": 154,
    "start_time": "2022-07-27T18:11:33.161Z"
   },
   {
    "duration": 144,
    "start_time": "2022-07-27T18:11:33.316Z"
   },
   {
    "duration": 144,
    "start_time": "2022-07-27T18:11:33.462Z"
   },
   {
    "duration": 158,
    "start_time": "2022-07-27T18:11:33.607Z"
   },
   {
    "duration": 245,
    "start_time": "2022-07-27T18:11:33.767Z"
   },
   {
    "duration": 228,
    "start_time": "2022-07-27T18:11:34.014Z"
   },
   {
    "duration": 233,
    "start_time": "2022-07-27T18:11:34.243Z"
   },
   {
    "duration": 271,
    "start_time": "2022-07-27T18:11:34.477Z"
   },
   {
    "duration": 238,
    "start_time": "2022-07-27T18:11:34.750Z"
   },
   {
    "duration": 27,
    "start_time": "2022-07-27T18:11:34.990Z"
   },
   {
    "duration": 194,
    "start_time": "2022-07-27T18:11:35.018Z"
   },
   {
    "duration": 201,
    "start_time": "2022-07-27T18:11:35.214Z"
   },
   {
    "duration": 310,
    "start_time": "2022-07-27T18:11:35.416Z"
   },
   {
    "duration": 182,
    "start_time": "2022-07-27T18:11:35.728Z"
   },
   {
    "duration": 133,
    "start_time": "2022-07-27T18:11:35.912Z"
   },
   {
    "duration": 258,
    "start_time": "2022-07-27T18:11:36.047Z"
   },
   {
    "duration": 8,
    "start_time": "2022-07-27T18:11:36.307Z"
   },
   {
    "duration": 18,
    "start_time": "2022-07-27T18:11:36.318Z"
   },
   {
    "duration": 233,
    "start_time": "2022-07-27T18:11:36.339Z"
   },
   {
    "duration": 8,
    "start_time": "2022-07-27T18:11:36.574Z"
   },
   {
    "duration": 236,
    "start_time": "2022-07-27T18:11:36.584Z"
   },
   {
    "duration": 58,
    "start_time": "2022-07-27T20:23:19.496Z"
   },
   {
    "duration": 3543,
    "start_time": "2022-07-27T20:23:26.087Z"
   },
   {
    "duration": 5,
    "start_time": "2022-07-27T20:23:29.636Z"
   },
   {
    "duration": 261,
    "start_time": "2022-07-27T20:23:29.644Z"
   },
   {
    "duration": 92,
    "start_time": "2022-07-27T20:23:29.907Z"
   },
   {
    "duration": 149,
    "start_time": "2022-07-27T20:23:30.010Z"
   },
   {
    "duration": 72,
    "start_time": "2022-07-27T20:23:30.161Z"
   },
   {
    "duration": 9,
    "start_time": "2022-07-27T20:23:30.235Z"
   },
   {
    "duration": 31,
    "start_time": "2022-07-27T20:23:30.246Z"
   },
   {
    "duration": 327,
    "start_time": "2022-07-27T20:23:30.280Z"
   },
   {
    "duration": 452,
    "start_time": "2022-07-27T20:23:30.609Z"
   },
   {
    "duration": 531,
    "start_time": "2022-07-27T20:23:31.063Z"
   },
   {
    "duration": 325,
    "start_time": "2022-07-27T20:23:31.596Z"
   },
   {
    "duration": 350,
    "start_time": "2022-07-27T20:23:31.925Z"
   },
   {
    "duration": 192,
    "start_time": "2022-07-27T20:23:32.277Z"
   },
   {
    "duration": 209,
    "start_time": "2022-07-27T20:23:32.470Z"
   },
   {
    "duration": 186,
    "start_time": "2022-07-27T20:23:32.681Z"
   },
   {
    "duration": 169,
    "start_time": "2022-07-27T20:23:32.869Z"
   },
   {
    "duration": 268,
    "start_time": "2022-07-27T20:23:33.040Z"
   },
   {
    "duration": 232,
    "start_time": "2022-07-27T20:23:33.311Z"
   },
   {
    "duration": 288,
    "start_time": "2022-07-27T20:23:33.545Z"
   },
   {
    "duration": 307,
    "start_time": "2022-07-27T20:23:33.835Z"
   },
   {
    "duration": 302,
    "start_time": "2022-07-27T20:23:34.143Z"
   },
   {
    "duration": 292,
    "start_time": "2022-07-27T20:23:34.448Z"
   },
   {
    "duration": 32,
    "start_time": "2022-07-27T20:23:34.742Z"
   },
   {
    "duration": 244,
    "start_time": "2022-07-27T20:23:34.775Z"
   },
   {
    "duration": 344,
    "start_time": "2022-07-27T20:23:35.021Z"
   },
   {
    "duration": 235,
    "start_time": "2022-07-27T20:23:35.369Z"
   },
   {
    "duration": 219,
    "start_time": "2022-07-27T20:23:35.606Z"
   },
   {
    "duration": 145,
    "start_time": "2022-07-27T20:23:35.828Z"
   },
   {
    "duration": 248,
    "start_time": "2022-07-27T20:23:35.975Z"
   },
   {
    "duration": 6,
    "start_time": "2022-07-27T20:23:36.227Z"
   },
   {
    "duration": 8,
    "start_time": "2022-07-27T20:23:36.235Z"
   },
   {
    "duration": 217,
    "start_time": "2022-07-27T20:23:36.245Z"
   },
   {
    "duration": 4,
    "start_time": "2022-07-27T20:23:36.464Z"
   },
   {
    "duration": 205,
    "start_time": "2022-07-27T20:23:36.470Z"
   },
   {
    "duration": 140,
    "start_time": "2022-07-27T20:26:56.508Z"
   },
   {
    "duration": 149,
    "start_time": "2022-07-27T20:31:48.180Z"
   },
   {
    "duration": 184,
    "start_time": "2022-07-27T20:32:05.971Z"
   },
   {
    "duration": 191,
    "start_time": "2022-07-27T20:32:21.947Z"
   },
   {
    "duration": 191,
    "start_time": "2022-07-27T20:32:41.939Z"
   },
   {
    "duration": 3200,
    "start_time": "2022-07-27T20:32:51.278Z"
   },
   {
    "duration": 4,
    "start_time": "2022-07-27T20:32:54.481Z"
   },
   {
    "duration": 280,
    "start_time": "2022-07-27T20:32:54.488Z"
   },
   {
    "duration": 108,
    "start_time": "2022-07-27T20:32:54.771Z"
   },
   {
    "duration": 151,
    "start_time": "2022-07-27T20:32:54.881Z"
   },
   {
    "duration": 58,
    "start_time": "2022-07-27T20:32:55.034Z"
   },
   {
    "duration": 33,
    "start_time": "2022-07-27T20:32:55.094Z"
   },
   {
    "duration": 34,
    "start_time": "2022-07-27T20:32:55.129Z"
   },
   {
    "duration": 326,
    "start_time": "2022-07-27T20:32:55.165Z"
   },
   {
    "duration": 451,
    "start_time": "2022-07-27T20:32:55.494Z"
   },
   {
    "duration": 499,
    "start_time": "2022-07-27T20:32:55.947Z"
   },
   {
    "duration": 307,
    "start_time": "2022-07-27T20:32:56.448Z"
   },
   {
    "duration": 298,
    "start_time": "2022-07-27T20:32:56.757Z"
   },
   {
    "duration": 192,
    "start_time": "2022-07-27T20:32:57.057Z"
   },
   {
    "duration": 192,
    "start_time": "2022-07-27T20:32:57.250Z"
   },
   {
    "duration": 180,
    "start_time": "2022-07-27T20:32:57.443Z"
   },
   {
    "duration": 167,
    "start_time": "2022-07-27T20:32:57.626Z"
   },
   {
    "duration": 286,
    "start_time": "2022-07-27T20:32:57.796Z"
   },
   {
    "duration": 220,
    "start_time": "2022-07-27T20:32:58.084Z"
   },
   {
    "duration": 284,
    "start_time": "2022-07-27T20:32:58.306Z"
   },
   {
    "duration": 291,
    "start_time": "2022-07-27T20:32:58.592Z"
   },
   {
    "duration": 343,
    "start_time": "2022-07-27T20:32:58.885Z"
   },
   {
    "duration": 295,
    "start_time": "2022-07-27T20:32:59.230Z"
   },
   {
    "duration": 32,
    "start_time": "2022-07-27T20:32:59.527Z"
   },
   {
    "duration": 237,
    "start_time": "2022-07-27T20:32:59.562Z"
   },
   {
    "duration": 368,
    "start_time": "2022-07-27T20:32:59.801Z"
   },
   {
    "duration": 245,
    "start_time": "2022-07-27T20:33:00.171Z"
   },
   {
    "duration": 219,
    "start_time": "2022-07-27T20:33:00.433Z"
   },
   {
    "duration": 167,
    "start_time": "2022-07-27T20:33:00.654Z"
   },
   {
    "duration": 249,
    "start_time": "2022-07-27T20:33:00.823Z"
   },
   {
    "duration": 6,
    "start_time": "2022-07-27T20:33:01.073Z"
   },
   {
    "duration": 25,
    "start_time": "2022-07-27T20:33:01.080Z"
   },
   {
    "duration": 248,
    "start_time": "2022-07-27T20:33:01.109Z"
   },
   {
    "duration": 5,
    "start_time": "2022-07-27T20:33:01.360Z"
   },
   {
    "duration": 226,
    "start_time": "2022-07-27T20:33:01.367Z"
   },
   {
    "duration": 132,
    "start_time": "2022-07-27T20:33:21.130Z"
   },
   {
    "duration": 3491,
    "start_time": "2022-07-27T20:33:27.423Z"
   },
   {
    "duration": 8,
    "start_time": "2022-07-27T20:33:30.916Z"
   },
   {
    "duration": 398,
    "start_time": "2022-07-27T20:33:30.926Z"
   },
   {
    "duration": 111,
    "start_time": "2022-07-27T20:33:31.326Z"
   },
   {
    "duration": 158,
    "start_time": "2022-07-27T20:33:31.440Z"
   },
   {
    "duration": 69,
    "start_time": "2022-07-27T20:33:31.600Z"
   },
   {
    "duration": 8,
    "start_time": "2022-07-27T20:33:31.671Z"
   },
   {
    "duration": 43,
    "start_time": "2022-07-27T20:33:31.682Z"
   },
   {
    "duration": 392,
    "start_time": "2022-07-27T20:33:31.727Z"
   },
   {
    "duration": 480,
    "start_time": "2022-07-27T20:33:32.121Z"
   },
   {
    "duration": 547,
    "start_time": "2022-07-27T20:33:32.603Z"
   },
   {
    "duration": 296,
    "start_time": "2022-07-27T20:33:33.152Z"
   },
   {
    "duration": 297,
    "start_time": "2022-07-27T20:33:33.450Z"
   },
   {
    "duration": 184,
    "start_time": "2022-07-27T20:33:33.750Z"
   },
   {
    "duration": 193,
    "start_time": "2022-07-27T20:33:33.936Z"
   },
   {
    "duration": 203,
    "start_time": "2022-07-27T20:33:34.131Z"
   },
   {
    "duration": 184,
    "start_time": "2022-07-27T20:33:34.336Z"
   },
   {
    "duration": 269,
    "start_time": "2022-07-27T20:33:34.526Z"
   },
   {
    "duration": 230,
    "start_time": "2022-07-27T20:33:34.796Z"
   },
   {
    "duration": 307,
    "start_time": "2022-07-27T20:33:35.028Z"
   },
   {
    "duration": 340,
    "start_time": "2022-07-27T20:33:35.338Z"
   },
   {
    "duration": 321,
    "start_time": "2022-07-27T20:33:35.680Z"
   },
   {
    "duration": 338,
    "start_time": "2022-07-27T20:33:36.002Z"
   },
   {
    "duration": 33,
    "start_time": "2022-07-27T20:33:36.342Z"
   },
   {
    "duration": 260,
    "start_time": "2022-07-27T20:33:36.378Z"
   },
   {
    "duration": 335,
    "start_time": "2022-07-27T20:33:36.640Z"
   },
   {
    "duration": 232,
    "start_time": "2022-07-27T20:33:36.977Z"
   },
   {
    "duration": 223,
    "start_time": "2022-07-27T20:33:37.211Z"
   },
   {
    "duration": 157,
    "start_time": "2022-07-27T20:33:37.436Z"
   },
   {
    "duration": 267,
    "start_time": "2022-07-27T20:33:37.595Z"
   },
   {
    "duration": 5,
    "start_time": "2022-07-27T20:33:37.864Z"
   },
   {
    "duration": 30,
    "start_time": "2022-07-27T20:33:37.871Z"
   },
   {
    "duration": 202,
    "start_time": "2022-07-27T20:33:37.903Z"
   },
   {
    "duration": 10,
    "start_time": "2022-07-27T20:33:38.106Z"
   },
   {
    "duration": 205,
    "start_time": "2022-07-27T20:33:38.125Z"
   },
   {
    "duration": 11,
    "start_time": "2022-07-27T20:34:33.192Z"
   },
   {
    "duration": 164,
    "start_time": "2022-07-27T20:35:19.700Z"
   },
   {
    "duration": 146,
    "start_time": "2022-07-27T20:37:32.496Z"
   },
   {
    "duration": 137,
    "start_time": "2022-07-27T20:37:55.523Z"
   },
   {
    "duration": 3235,
    "start_time": "2022-07-27T20:38:39.427Z"
   },
   {
    "duration": 4,
    "start_time": "2022-07-27T20:38:42.664Z"
   },
   {
    "duration": 298,
    "start_time": "2022-07-27T20:38:42.670Z"
   },
   {
    "duration": 122,
    "start_time": "2022-07-27T20:38:42.971Z"
   },
   {
    "duration": 27,
    "start_time": "2022-07-27T20:38:43.096Z"
   },
   {
    "duration": 58,
    "start_time": "2022-07-27T20:38:43.128Z"
   },
   {
    "duration": 8,
    "start_time": "2022-07-27T20:38:43.188Z"
   },
   {
    "duration": 26,
    "start_time": "2022-07-27T20:38:43.212Z"
   },
   {
    "duration": 295,
    "start_time": "2022-07-27T20:38:43.240Z"
   },
   {
    "duration": 427,
    "start_time": "2022-07-27T20:38:43.538Z"
   },
   {
    "duration": 529,
    "start_time": "2022-07-27T20:38:43.967Z"
   },
   {
    "duration": 292,
    "start_time": "2022-07-27T20:38:44.498Z"
   },
   {
    "duration": 292,
    "start_time": "2022-07-27T20:38:44.792Z"
   },
   {
    "duration": 188,
    "start_time": "2022-07-27T20:38:45.085Z"
   },
   {
    "duration": 197,
    "start_time": "2022-07-27T20:38:45.275Z"
   },
   {
    "duration": 189,
    "start_time": "2022-07-27T20:38:45.474Z"
   },
   {
    "duration": 179,
    "start_time": "2022-07-27T20:38:45.666Z"
   },
   {
    "duration": 196,
    "start_time": "2022-07-27T20:38:45.847Z"
   },
   {
    "duration": 301,
    "start_time": "2022-07-27T20:38:46.045Z"
   },
   {
    "duration": 290,
    "start_time": "2022-07-27T20:38:46.347Z"
   },
   {
    "duration": 289,
    "start_time": "2022-07-27T20:38:46.639Z"
   },
   {
    "duration": 335,
    "start_time": "2022-07-27T20:38:46.930Z"
   },
   {
    "duration": 288,
    "start_time": "2022-07-27T20:38:47.267Z"
   },
   {
    "duration": 30,
    "start_time": "2022-07-27T20:38:47.557Z"
   },
   {
    "duration": 262,
    "start_time": "2022-07-27T20:38:47.589Z"
   },
   {
    "duration": 236,
    "start_time": "2022-07-27T20:38:47.854Z"
   },
   {
    "duration": 376,
    "start_time": "2022-07-27T20:38:48.092Z"
   },
   {
    "duration": 219,
    "start_time": "2022-07-27T20:38:48.472Z"
   },
   {
    "duration": 155,
    "start_time": "2022-07-27T20:38:48.693Z"
   },
   {
    "duration": 217,
    "start_time": "2022-07-27T20:38:48.850Z"
   },
   {
    "duration": 5,
    "start_time": "2022-07-27T20:38:49.069Z"
   },
   {
    "duration": 8,
    "start_time": "2022-07-27T20:38:49.075Z"
   },
   {
    "duration": 211,
    "start_time": "2022-07-27T20:38:49.085Z"
   },
   {
    "duration": 4,
    "start_time": "2022-07-27T20:38:49.298Z"
   },
   {
    "duration": 216,
    "start_time": "2022-07-27T20:38:49.314Z"
   },
   {
    "duration": 140,
    "start_time": "2022-07-27T20:40:02.834Z"
   },
   {
    "duration": 101,
    "start_time": "2022-07-27T20:42:49.393Z"
   },
   {
    "duration": 28,
    "start_time": "2022-07-27T20:44:31.633Z"
   },
   {
    "duration": 34,
    "start_time": "2022-07-27T20:45:25.086Z"
   },
   {
    "duration": 29,
    "start_time": "2022-07-27T20:46:30.431Z"
   },
   {
    "duration": 3412,
    "start_time": "2022-07-27T20:47:10.978Z"
   },
   {
    "duration": 5,
    "start_time": "2022-07-27T20:47:14.393Z"
   },
   {
    "duration": 294,
    "start_time": "2022-07-27T20:47:14.401Z"
   },
   {
    "duration": 108,
    "start_time": "2022-07-27T20:47:14.697Z"
   },
   {
    "duration": 126,
    "start_time": "2022-07-27T20:47:14.807Z"
   },
   {
    "duration": 0,
    "start_time": "2022-07-27T20:47:14.936Z"
   },
   {
    "duration": 0,
    "start_time": "2022-07-27T20:47:14.937Z"
   },
   {
    "duration": 0,
    "start_time": "2022-07-27T20:47:14.940Z"
   },
   {
    "duration": 0,
    "start_time": "2022-07-27T20:47:14.941Z"
   },
   {
    "duration": 0,
    "start_time": "2022-07-27T20:47:14.943Z"
   },
   {
    "duration": 0,
    "start_time": "2022-07-27T20:47:14.946Z"
   },
   {
    "duration": 0,
    "start_time": "2022-07-27T20:47:14.947Z"
   },
   {
    "duration": 0,
    "start_time": "2022-07-27T20:47:14.949Z"
   },
   {
    "duration": 0,
    "start_time": "2022-07-27T20:47:14.950Z"
   },
   {
    "duration": 0,
    "start_time": "2022-07-27T20:47:14.951Z"
   },
   {
    "duration": 0,
    "start_time": "2022-07-27T20:47:14.952Z"
   },
   {
    "duration": 0,
    "start_time": "2022-07-27T20:47:14.953Z"
   },
   {
    "duration": 0,
    "start_time": "2022-07-27T20:47:14.954Z"
   },
   {
    "duration": 0,
    "start_time": "2022-07-27T20:47:14.955Z"
   },
   {
    "duration": 0,
    "start_time": "2022-07-27T20:47:14.956Z"
   },
   {
    "duration": 0,
    "start_time": "2022-07-27T20:47:14.957Z"
   },
   {
    "duration": 0,
    "start_time": "2022-07-27T20:47:14.958Z"
   },
   {
    "duration": 0,
    "start_time": "2022-07-27T20:47:14.960Z"
   },
   {
    "duration": 0,
    "start_time": "2022-07-27T20:47:14.961Z"
   },
   {
    "duration": 0,
    "start_time": "2022-07-27T20:47:14.962Z"
   },
   {
    "duration": 0,
    "start_time": "2022-07-27T20:47:14.963Z"
   },
   {
    "duration": 0,
    "start_time": "2022-07-27T20:47:14.965Z"
   },
   {
    "duration": 0,
    "start_time": "2022-07-27T20:47:14.966Z"
   },
   {
    "duration": 0,
    "start_time": "2022-07-27T20:47:15.015Z"
   },
   {
    "duration": 1,
    "start_time": "2022-07-27T20:47:15.015Z"
   },
   {
    "duration": 0,
    "start_time": "2022-07-27T20:47:15.016Z"
   },
   {
    "duration": 0,
    "start_time": "2022-07-27T20:47:15.017Z"
   },
   {
    "duration": 0,
    "start_time": "2022-07-27T20:47:15.018Z"
   },
   {
    "duration": 0,
    "start_time": "2022-07-27T20:47:15.018Z"
   },
   {
    "duration": 0,
    "start_time": "2022-07-27T20:47:15.019Z"
   },
   {
    "duration": 156,
    "start_time": "2022-07-27T20:48:28.178Z"
   },
   {
    "duration": 3167,
    "start_time": "2022-07-27T20:48:44.751Z"
   },
   {
    "duration": 8,
    "start_time": "2022-07-27T20:48:47.921Z"
   },
   {
    "duration": 269,
    "start_time": "2022-07-27T20:48:47.931Z"
   },
   {
    "duration": 110,
    "start_time": "2022-07-27T20:48:48.202Z"
   },
   {
    "duration": 163,
    "start_time": "2022-07-27T20:48:48.318Z"
   },
   {
    "duration": 68,
    "start_time": "2022-07-27T20:48:48.483Z"
   },
   {
    "duration": 10,
    "start_time": "2022-07-27T20:48:48.553Z"
   },
   {
    "duration": 31,
    "start_time": "2022-07-27T20:48:48.564Z"
   },
   {
    "duration": 162,
    "start_time": "2022-07-27T20:48:48.597Z"
   },
   {
    "duration": 428,
    "start_time": "2022-07-27T20:48:48.761Z"
   },
   {
    "duration": 546,
    "start_time": "2022-07-27T20:48:49.191Z"
   },
   {
    "duration": 292,
    "start_time": "2022-07-27T20:48:49.739Z"
   },
   {
    "duration": 294,
    "start_time": "2022-07-27T20:48:50.033Z"
   },
   {
    "duration": 205,
    "start_time": "2022-07-27T20:48:50.330Z"
   },
   {
    "duration": 190,
    "start_time": "2022-07-27T20:48:50.539Z"
   },
   {
    "duration": 176,
    "start_time": "2022-07-27T20:48:50.731Z"
   },
   {
    "duration": 170,
    "start_time": "2022-07-27T20:48:50.909Z"
   },
   {
    "duration": 298,
    "start_time": "2022-07-27T20:48:51.082Z"
   },
   {
    "duration": 243,
    "start_time": "2022-07-27T20:48:51.381Z"
   },
   {
    "duration": 320,
    "start_time": "2022-07-27T20:48:51.628Z"
   },
   {
    "duration": 322,
    "start_time": "2022-07-27T20:48:51.950Z"
   },
   {
    "duration": 353,
    "start_time": "2022-07-27T20:48:52.274Z"
   },
   {
    "duration": 305,
    "start_time": "2022-07-27T20:48:52.629Z"
   },
   {
    "duration": 28,
    "start_time": "2022-07-27T20:48:52.938Z"
   },
   {
    "duration": 269,
    "start_time": "2022-07-27T20:48:52.969Z"
   },
   {
    "duration": 337,
    "start_time": "2022-07-27T20:48:53.240Z"
   },
   {
    "duration": 227,
    "start_time": "2022-07-27T20:48:53.579Z"
   },
   {
    "duration": 217,
    "start_time": "2022-07-27T20:48:53.808Z"
   },
   {
    "duration": 151,
    "start_time": "2022-07-27T20:48:54.027Z"
   },
   {
    "duration": 199,
    "start_time": "2022-07-27T20:48:54.179Z"
   },
   {
    "duration": 7,
    "start_time": "2022-07-27T20:48:54.380Z"
   },
   {
    "duration": 22,
    "start_time": "2022-07-27T20:48:54.389Z"
   },
   {
    "duration": 213,
    "start_time": "2022-07-27T20:48:54.413Z"
   },
   {
    "duration": 6,
    "start_time": "2022-07-27T20:48:54.628Z"
   },
   {
    "duration": 222,
    "start_time": "2022-07-27T20:48:54.636Z"
   },
   {
    "duration": 833,
    "start_time": "2022-07-27T20:50:17.700Z"
   },
   {
    "duration": 3144,
    "start_time": "2022-07-27T20:50:28.686Z"
   },
   {
    "duration": 6,
    "start_time": "2022-07-27T20:50:31.832Z"
   },
   {
    "duration": 341,
    "start_time": "2022-07-27T20:50:31.841Z"
   },
   {
    "duration": 119,
    "start_time": "2022-07-27T20:50:32.185Z"
   },
   {
    "duration": 738,
    "start_time": "2022-07-27T20:50:32.314Z"
   },
   {
    "duration": 0,
    "start_time": "2022-07-27T20:50:33.055Z"
   },
   {
    "duration": 0,
    "start_time": "2022-07-27T20:50:33.056Z"
   },
   {
    "duration": 0,
    "start_time": "2022-07-27T20:50:33.057Z"
   },
   {
    "duration": 0,
    "start_time": "2022-07-27T20:50:33.058Z"
   },
   {
    "duration": 0,
    "start_time": "2022-07-27T20:50:33.060Z"
   },
   {
    "duration": 0,
    "start_time": "2022-07-27T20:50:33.061Z"
   },
   {
    "duration": 0,
    "start_time": "2022-07-27T20:50:33.062Z"
   },
   {
    "duration": 0,
    "start_time": "2022-07-27T20:50:33.063Z"
   },
   {
    "duration": 0,
    "start_time": "2022-07-27T20:50:33.064Z"
   },
   {
    "duration": 0,
    "start_time": "2022-07-27T20:50:33.066Z"
   },
   {
    "duration": 0,
    "start_time": "2022-07-27T20:50:33.067Z"
   },
   {
    "duration": 0,
    "start_time": "2022-07-27T20:50:33.068Z"
   },
   {
    "duration": 0,
    "start_time": "2022-07-27T20:50:33.069Z"
   },
   {
    "duration": 0,
    "start_time": "2022-07-27T20:50:33.070Z"
   },
   {
    "duration": 0,
    "start_time": "2022-07-27T20:50:33.071Z"
   },
   {
    "duration": 0,
    "start_time": "2022-07-27T20:50:33.072Z"
   },
   {
    "duration": 0,
    "start_time": "2022-07-27T20:50:33.073Z"
   },
   {
    "duration": 0,
    "start_time": "2022-07-27T20:50:33.074Z"
   },
   {
    "duration": 0,
    "start_time": "2022-07-27T20:50:33.075Z"
   },
   {
    "duration": 0,
    "start_time": "2022-07-27T20:50:33.076Z"
   },
   {
    "duration": 0,
    "start_time": "2022-07-27T20:50:33.077Z"
   },
   {
    "duration": 0,
    "start_time": "2022-07-27T20:50:33.078Z"
   },
   {
    "duration": 0,
    "start_time": "2022-07-27T20:50:33.079Z"
   },
   {
    "duration": 0,
    "start_time": "2022-07-27T20:50:33.081Z"
   },
   {
    "duration": 0,
    "start_time": "2022-07-27T20:50:33.082Z"
   },
   {
    "duration": 0,
    "start_time": "2022-07-27T20:50:33.083Z"
   },
   {
    "duration": 0,
    "start_time": "2022-07-27T20:50:33.084Z"
   },
   {
    "duration": 0,
    "start_time": "2022-07-27T20:50:33.086Z"
   },
   {
    "duration": 0,
    "start_time": "2022-07-27T20:50:33.087Z"
   },
   {
    "duration": 0,
    "start_time": "2022-07-27T20:50:33.088Z"
   },
   {
    "duration": 167,
    "start_time": "2022-07-27T20:51:22.154Z"
   },
   {
    "duration": 665,
    "start_time": "2022-07-27T20:52:11.794Z"
   },
   {
    "duration": 155,
    "start_time": "2022-07-27T20:52:24.362Z"
   },
   {
    "duration": 136,
    "start_time": "2022-07-27T20:52:50.627Z"
   },
   {
    "duration": 3077,
    "start_time": "2022-07-27T20:52:58.942Z"
   },
   {
    "duration": 5,
    "start_time": "2022-07-27T20:53:02.027Z"
   },
   {
    "duration": 316,
    "start_time": "2022-07-27T20:53:02.035Z"
   },
   {
    "duration": 114,
    "start_time": "2022-07-27T20:53:02.353Z"
   },
   {
    "duration": 155,
    "start_time": "2022-07-27T20:53:02.469Z"
   },
   {
    "duration": 59,
    "start_time": "2022-07-27T20:53:02.626Z"
   },
   {
    "duration": 25,
    "start_time": "2022-07-27T20:53:02.687Z"
   },
   {
    "duration": 24,
    "start_time": "2022-07-27T20:53:02.715Z"
   },
   {
    "duration": 297,
    "start_time": "2022-07-27T20:53:02.741Z"
   },
   {
    "duration": 467,
    "start_time": "2022-07-27T20:53:03.040Z"
   },
   {
    "duration": 526,
    "start_time": "2022-07-27T20:53:03.510Z"
   },
   {
    "duration": 295,
    "start_time": "2022-07-27T20:53:04.038Z"
   },
   {
    "duration": 309,
    "start_time": "2022-07-27T20:53:04.335Z"
   },
   {
    "duration": 182,
    "start_time": "2022-07-27T20:53:04.647Z"
   },
   {
    "duration": 197,
    "start_time": "2022-07-27T20:53:04.830Z"
   },
   {
    "duration": 180,
    "start_time": "2022-07-27T20:53:05.029Z"
   },
   {
    "duration": 181,
    "start_time": "2022-07-27T20:53:05.220Z"
   },
   {
    "duration": 293,
    "start_time": "2022-07-27T20:53:05.403Z"
   },
   {
    "duration": 233,
    "start_time": "2022-07-27T20:53:05.698Z"
   },
   {
    "duration": 294,
    "start_time": "2022-07-27T20:53:05.933Z"
   },
   {
    "duration": 276,
    "start_time": "2022-07-27T20:53:06.230Z"
   },
   {
    "duration": 329,
    "start_time": "2022-07-27T20:53:06.512Z"
   },
   {
    "duration": 293,
    "start_time": "2022-07-27T20:53:06.842Z"
   },
   {
    "duration": 31,
    "start_time": "2022-07-27T20:53:07.136Z"
   },
   {
    "duration": 255,
    "start_time": "2022-07-27T20:53:07.169Z"
   },
   {
    "duration": 325,
    "start_time": "2022-07-27T20:53:07.426Z"
   },
   {
    "duration": 241,
    "start_time": "2022-07-27T20:53:07.754Z"
   },
   {
    "duration": 213,
    "start_time": "2022-07-27T20:53:07.997Z"
   },
   {
    "duration": 155,
    "start_time": "2022-07-27T20:53:08.218Z"
   },
   {
    "duration": 244,
    "start_time": "2022-07-27T20:53:08.375Z"
   },
   {
    "duration": 7,
    "start_time": "2022-07-27T20:53:08.621Z"
   },
   {
    "duration": 10,
    "start_time": "2022-07-27T20:53:08.630Z"
   },
   {
    "duration": 201,
    "start_time": "2022-07-27T20:53:08.642Z"
   },
   {
    "duration": 4,
    "start_time": "2022-07-27T20:53:08.844Z"
   },
   {
    "duration": 196,
    "start_time": "2022-07-27T20:53:08.850Z"
   },
   {
    "duration": 150,
    "start_time": "2022-07-27T20:54:31.392Z"
   },
   {
    "duration": 178,
    "start_time": "2022-07-27T20:55:53.583Z"
   },
   {
    "duration": 3193,
    "start_time": "2022-07-27T20:56:27.238Z"
   },
   {
    "duration": 4,
    "start_time": "2022-07-27T20:56:30.434Z"
   },
   {
    "duration": 291,
    "start_time": "2022-07-27T20:56:30.441Z"
   },
   {
    "duration": 106,
    "start_time": "2022-07-27T20:56:30.734Z"
   },
   {
    "duration": 204,
    "start_time": "2022-07-27T20:56:30.842Z"
   },
   {
    "duration": 80,
    "start_time": "2022-07-27T20:56:31.048Z"
   },
   {
    "duration": 10,
    "start_time": "2022-07-27T20:56:31.132Z"
   },
   {
    "duration": 38,
    "start_time": "2022-07-27T20:56:31.144Z"
   },
   {
    "duration": 290,
    "start_time": "2022-07-27T20:56:31.184Z"
   },
   {
    "duration": 527,
    "start_time": "2022-07-27T20:56:31.477Z"
   },
   {
    "duration": 664,
    "start_time": "2022-07-27T20:56:32.007Z"
   },
   {
    "duration": 357,
    "start_time": "2022-07-27T20:56:32.673Z"
   },
   {
    "duration": 299,
    "start_time": "2022-07-27T20:56:33.031Z"
   },
   {
    "duration": 174,
    "start_time": "2022-07-27T20:56:33.332Z"
   },
   {
    "duration": 236,
    "start_time": "2022-07-27T20:56:33.513Z"
   },
   {
    "duration": 181,
    "start_time": "2022-07-27T20:56:33.751Z"
   },
   {
    "duration": 240,
    "start_time": "2022-07-27T20:56:33.934Z"
   },
   {
    "duration": 301,
    "start_time": "2022-07-27T20:56:34.176Z"
   },
   {
    "duration": 226,
    "start_time": "2022-07-27T20:56:34.479Z"
   },
   {
    "duration": 296,
    "start_time": "2022-07-27T20:56:34.707Z"
   },
   {
    "duration": 299,
    "start_time": "2022-07-27T20:56:35.005Z"
   },
   {
    "duration": 339,
    "start_time": "2022-07-27T20:56:35.311Z"
   },
   {
    "duration": 301,
    "start_time": "2022-07-27T20:56:35.653Z"
   },
   {
    "duration": 32,
    "start_time": "2022-07-27T20:56:35.955Z"
   },
   {
    "duration": 256,
    "start_time": "2022-07-27T20:56:35.988Z"
   },
   {
    "duration": 396,
    "start_time": "2022-07-27T20:56:36.246Z"
   },
   {
    "duration": 241,
    "start_time": "2022-07-27T20:56:36.643Z"
   },
   {
    "duration": 238,
    "start_time": "2022-07-27T20:56:36.888Z"
   },
   {
    "duration": 150,
    "start_time": "2022-07-27T20:56:37.127Z"
   },
   {
    "duration": 253,
    "start_time": "2022-07-27T20:56:37.279Z"
   },
   {
    "duration": 6,
    "start_time": "2022-07-27T20:56:37.534Z"
   },
   {
    "duration": 11,
    "start_time": "2022-07-27T20:56:37.542Z"
   },
   {
    "duration": 217,
    "start_time": "2022-07-27T20:56:37.556Z"
   },
   {
    "duration": 4,
    "start_time": "2022-07-27T20:56:37.775Z"
   },
   {
    "duration": 288,
    "start_time": "2022-07-27T20:56:37.781Z"
   },
   {
    "duration": 7,
    "start_time": "2022-07-27T20:58:42.139Z"
   },
   {
    "duration": 170,
    "start_time": "2022-07-27T20:58:52.963Z"
   },
   {
    "duration": 38,
    "start_time": "2022-07-27T20:59:46.938Z"
   },
   {
    "duration": 172,
    "start_time": "2022-07-27T21:00:07.458Z"
   },
   {
    "duration": 3377,
    "start_time": "2022-07-27T21:00:21.569Z"
   },
   {
    "duration": 6,
    "start_time": "2022-07-27T21:00:24.949Z"
   },
   {
    "duration": 304,
    "start_time": "2022-07-27T21:00:24.957Z"
   },
   {
    "duration": 125,
    "start_time": "2022-07-27T21:00:25.265Z"
   },
   {
    "duration": 53,
    "start_time": "2022-07-27T21:00:25.392Z"
   },
   {
    "duration": 83,
    "start_time": "2022-07-27T21:00:25.447Z"
   },
   {
    "duration": 10,
    "start_time": "2022-07-27T21:00:25.532Z"
   },
   {
    "duration": 17,
    "start_time": "2022-07-27T21:00:25.544Z"
   },
   {
    "duration": 325,
    "start_time": "2022-07-27T21:00:25.564Z"
   },
   {
    "duration": 451,
    "start_time": "2022-07-27T21:00:25.892Z"
   },
   {
    "duration": 591,
    "start_time": "2022-07-27T21:00:26.345Z"
   },
   {
    "duration": 384,
    "start_time": "2022-07-27T21:00:26.938Z"
   },
   {
    "duration": 326,
    "start_time": "2022-07-27T21:00:27.323Z"
   },
   {
    "duration": 275,
    "start_time": "2022-07-27T21:00:27.653Z"
   },
   {
    "duration": 233,
    "start_time": "2022-07-27T21:00:27.931Z"
   },
   {
    "duration": 202,
    "start_time": "2022-07-27T21:00:28.166Z"
   },
   {
    "duration": 224,
    "start_time": "2022-07-27T21:00:28.371Z"
   },
   {
    "duration": 243,
    "start_time": "2022-07-27T21:00:28.597Z"
   },
   {
    "duration": 336,
    "start_time": "2022-07-27T21:00:28.847Z"
   },
   {
    "duration": 322,
    "start_time": "2022-07-27T21:00:29.186Z"
   },
   {
    "duration": 356,
    "start_time": "2022-07-27T21:00:29.510Z"
   },
   {
    "duration": 395,
    "start_time": "2022-07-27T21:00:29.869Z"
   },
   {
    "duration": 374,
    "start_time": "2022-07-27T21:00:30.266Z"
   },
   {
    "duration": 46,
    "start_time": "2022-07-27T21:00:30.641Z"
   },
   {
    "duration": 267,
    "start_time": "2022-07-27T21:00:30.689Z"
   },
   {
    "duration": 237,
    "start_time": "2022-07-27T21:00:30.959Z"
   },
   {
    "duration": 360,
    "start_time": "2022-07-27T21:00:31.198Z"
   },
   {
    "duration": 234,
    "start_time": "2022-07-27T21:00:31.563Z"
   },
   {
    "duration": 234,
    "start_time": "2022-07-27T21:00:31.800Z"
   },
   {
    "duration": 288,
    "start_time": "2022-07-27T21:00:32.036Z"
   },
   {
    "duration": 9,
    "start_time": "2022-07-27T21:00:32.329Z"
   },
   {
    "duration": 25,
    "start_time": "2022-07-27T21:00:32.341Z"
   },
   {
    "duration": 261,
    "start_time": "2022-07-27T21:00:32.368Z"
   },
   {
    "duration": 4,
    "start_time": "2022-07-27T21:00:32.631Z"
   },
   {
    "duration": 218,
    "start_time": "2022-07-27T21:00:32.637Z"
   },
   {
    "duration": 102,
    "start_time": "2022-07-27T21:10:31.472Z"
   },
   {
    "duration": 216,
    "start_time": "2022-07-27T21:10:48.344Z"
   },
   {
    "duration": 210,
    "start_time": "2022-07-27T21:11:03.760Z"
   },
   {
    "duration": 244,
    "start_time": "2022-07-27T21:12:08.027Z"
   },
   {
    "duration": 205,
    "start_time": "2022-07-27T21:12:37.584Z"
   },
   {
    "duration": 216,
    "start_time": "2022-07-27T21:13:24.385Z"
   },
   {
    "duration": 226,
    "start_time": "2022-07-27T21:13:33.567Z"
   },
   {
    "duration": 260,
    "start_time": "2022-07-27T21:13:42.031Z"
   },
   {
    "duration": 235,
    "start_time": "2022-07-27T21:15:09.599Z"
   },
   {
    "duration": 52,
    "start_time": "2022-07-28T14:54:37.622Z"
   },
   {
    "duration": 3021,
    "start_time": "2022-07-28T14:54:41.674Z"
   },
   {
    "duration": 8,
    "start_time": "2022-07-28T14:54:44.697Z"
   },
   {
    "duration": 278,
    "start_time": "2022-07-28T14:54:44.706Z"
   },
   {
    "duration": 101,
    "start_time": "2022-07-28T14:54:44.986Z"
   },
   {
    "duration": 49,
    "start_time": "2022-07-28T14:54:45.088Z"
   },
   {
    "duration": 131,
    "start_time": "2022-07-28T14:54:45.139Z"
   },
   {
    "duration": 119,
    "start_time": "2022-07-28T14:54:45.272Z"
   },
   {
    "duration": 76,
    "start_time": "2022-07-28T14:54:45.392Z"
   },
   {
    "duration": 10,
    "start_time": "2022-07-28T14:54:45.470Z"
   },
   {
    "duration": 35,
    "start_time": "2022-07-28T14:54:45.483Z"
   },
   {
    "duration": 278,
    "start_time": "2022-07-28T14:54:45.520Z"
   },
   {
    "duration": 418,
    "start_time": "2022-07-28T14:54:45.800Z"
   },
   {
    "duration": 577,
    "start_time": "2022-07-28T14:54:46.220Z"
   },
   {
    "duration": 280,
    "start_time": "2022-07-28T14:54:46.798Z"
   },
   {
    "duration": 527,
    "start_time": "2022-07-28T14:54:47.103Z"
   },
   {
    "duration": 381,
    "start_time": "2022-07-28T14:54:47.632Z"
   },
   {
    "duration": 333,
    "start_time": "2022-07-28T14:54:48.015Z"
   },
   {
    "duration": 364,
    "start_time": "2022-07-28T14:54:48.350Z"
   },
   {
    "duration": 317,
    "start_time": "2022-07-28T14:54:48.716Z"
   },
   {
    "duration": 259,
    "start_time": "2022-07-28T14:54:49.034Z"
   },
   {
    "duration": 306,
    "start_time": "2022-07-28T14:54:49.295Z"
   },
   {
    "duration": 278,
    "start_time": "2022-07-28T14:54:49.603Z"
   },
   {
    "duration": 290,
    "start_time": "2022-07-28T14:54:49.883Z"
   },
   {
    "duration": 304,
    "start_time": "2022-07-28T14:54:50.175Z"
   },
   {
    "duration": 269,
    "start_time": "2022-07-28T14:54:50.481Z"
   },
   {
    "duration": 29,
    "start_time": "2022-07-28T14:54:50.752Z"
   },
   {
    "duration": 221,
    "start_time": "2022-07-28T14:54:50.783Z"
   },
   {
    "duration": 236,
    "start_time": "2022-07-28T14:54:51.008Z"
   },
   {
    "duration": 352,
    "start_time": "2022-07-28T14:54:51.245Z"
   },
   {
    "duration": 218,
    "start_time": "2022-07-28T14:54:51.599Z"
   },
   {
    "duration": 215,
    "start_time": "2022-07-28T14:54:51.819Z"
   },
   {
    "duration": 223,
    "start_time": "2022-07-28T14:54:52.036Z"
   },
   {
    "duration": 201,
    "start_time": "2022-07-28T14:54:52.261Z"
   },
   {
    "duration": 154,
    "start_time": "2022-07-28T14:54:52.465Z"
   },
   {
    "duration": 213,
    "start_time": "2022-07-28T14:54:52.621Z"
   },
   {
    "duration": 6,
    "start_time": "2022-07-28T14:54:52.835Z"
   },
   {
    "duration": 10,
    "start_time": "2022-07-28T14:54:52.843Z"
   },
   {
    "duration": 211,
    "start_time": "2022-07-28T14:54:52.855Z"
   },
   {
    "duration": 4,
    "start_time": "2022-07-28T14:54:53.068Z"
   },
   {
    "duration": 250,
    "start_time": "2022-07-28T14:54:53.074Z"
   }
  ],
  "kernelspec": {
   "display_name": "Python 3 (ipykernel)",
   "language": "python",
   "name": "python3"
  },
  "language_info": {
   "codemirror_mode": {
    "name": "ipython",
    "version": 3
   },
   "file_extension": ".py",
   "mimetype": "text/x-python",
   "name": "python",
   "nbconvert_exporter": "python",
   "pygments_lexer": "ipython3",
   "version": "3.9.5"
  },
  "toc": {
   "base_numbering": 1,
   "nav_menu": {},
   "number_sections": true,
   "sideBar": true,
   "skip_h1_title": true,
   "title_cell": "Table of Contents",
   "title_sidebar": "Contents",
   "toc_cell": false,
   "toc_position": {
    "height": "510px",
    "left": "339px",
    "top": "111.125px",
    "width": "306px"
   },
   "toc_section_display": true,
   "toc_window_display": true
  }
 },
 "nbformat": 4,
 "nbformat_minor": 2
}
