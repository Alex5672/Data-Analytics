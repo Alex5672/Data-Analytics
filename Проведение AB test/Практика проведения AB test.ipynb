{
 "cells": [
  {
   "cell_type": "markdown",
   "metadata": {},
   "source": [
    "**Проет по проверке гипотездля отдела маркетинга в целях увеличения выручки.**\n",
    "\n",
    "Задачи:\n",
    " 1. Приоритезация гипотез, \n",
    " 2. Проведение A/B-теста,\n",
    " 3. Финализация результатов"
   ]
  },
  {
   "cell_type": "markdown",
   "metadata": {},
   "source": [
    "<span style='color:blue'> Начинаю часть 1.\n",
    "Приоритизирую по фреймворку ICE = impact * confidence / efforts</span>\n"
   ]
  },
  {
   "cell_type": "code",
   "execution_count": 1,
   "metadata": {},
   "outputs": [],
   "source": [
    "import pandas as pd\n",
    "import datetime as dt\n",
    "import numpy as np"
   ]
  },
  {
   "cell_type": "code",
   "execution_count": 2,
   "metadata": {},
   "outputs": [
    {
     "data": {
      "text/html": [
       "<div>\n",
       "<style scoped>\n",
       "    .dataframe tbody tr th:only-of-type {\n",
       "        vertical-align: middle;\n",
       "    }\n",
       "\n",
       "    .dataframe tbody tr th {\n",
       "        vertical-align: top;\n",
       "    }\n",
       "\n",
       "    .dataframe thead th {\n",
       "        text-align: right;\n",
       "    }\n",
       "</style>\n",
       "<table border=\"1\" class=\"dataframe\">\n",
       "  <thead>\n",
       "    <tr style=\"text-align: right;\">\n",
       "      <th></th>\n",
       "      <th>Hypothesis</th>\n",
       "      <th>ICE</th>\n",
       "    </tr>\n",
       "  </thead>\n",
       "  <tbody>\n",
       "    <tr>\n",
       "      <th>8</th>\n",
       "      <td>Запустить акцию, дающую скидку на товар в день рождения</td>\n",
       "      <td>16.0</td>\n",
       "    </tr>\n",
       "    <tr>\n",
       "      <th>0</th>\n",
       "      <td>Добавить два новых канала привлечения трафика, что позволит привлекать на 30% больше пользователей</td>\n",
       "      <td>13.0</td>\n",
       "    </tr>\n",
       "    <tr>\n",
       "      <th>7</th>\n",
       "      <td>Добавить форму подписки на все основные страницы, чтобы собрать базу клиентов для email-рассылок</td>\n",
       "      <td>11.0</td>\n",
       "    </tr>\n",
       "    <tr>\n",
       "      <th>6</th>\n",
       "      <td>Показать на главной странице баннеры с актуальными акциями и распродажами, чтобы увеличить конверсию</td>\n",
       "      <td>8.0</td>\n",
       "    </tr>\n",
       "    <tr>\n",
       "      <th>2</th>\n",
       "      <td>Добавить блоки рекомендаций товаров на сайт интернет магазина, чтобы повысить конверсию и средний чек заказа</td>\n",
       "      <td>7.0</td>\n",
       "    </tr>\n",
       "    <tr>\n",
       "      <th>1</th>\n",
       "      <td>Запустить собственную службу доставки, что сократит срок доставки заказов</td>\n",
       "      <td>2.0</td>\n",
       "    </tr>\n",
       "    <tr>\n",
       "      <th>3</th>\n",
       "      <td>Изменить структура категорий, что увеличит конверсию, т.к. пользователи быстрее найдут нужный товар</td>\n",
       "      <td>1.0</td>\n",
       "    </tr>\n",
       "    <tr>\n",
       "      <th>4</th>\n",
       "      <td>Изменить цвет фона главной страницы, чтобы увеличить вовлеченность пользователей</td>\n",
       "      <td>1.0</td>\n",
       "    </tr>\n",
       "    <tr>\n",
       "      <th>5</th>\n",
       "      <td>Добавить страницу отзывов клиентов о магазине, что позволит увеличить количество заказов</td>\n",
       "      <td>1.0</td>\n",
       "    </tr>\n",
       "  </tbody>\n",
       "</table>\n",
       "</div>"
      ],
      "text/plain": [
       "                                                                                                     Hypothesis  \\\n",
       "8  Запустить акцию, дающую скидку на товар в день рождения                                                        \n",
       "0  Добавить два новых канала привлечения трафика, что позволит привлекать на 30% больше пользователей             \n",
       "7  Добавить форму подписки на все основные страницы, чтобы собрать базу клиентов для email-рассылок               \n",
       "6  Показать на главной странице баннеры с актуальными акциями и распродажами, чтобы увеличить конверсию           \n",
       "2  Добавить блоки рекомендаций товаров на сайт интернет магазина, чтобы повысить конверсию и средний чек заказа   \n",
       "1  Запустить собственную службу доставки, что сократит срок доставки заказов                                      \n",
       "3  Изменить структура категорий, что увеличит конверсию, т.к. пользователи быстрее найдут нужный товар            \n",
       "4  Изменить цвет фона главной страницы, чтобы увеличить вовлеченность пользователей                               \n",
       "5  Добавить страницу отзывов клиентов о магазине, что позволит увеличить количество заказов                       \n",
       "\n",
       "    ICE  \n",
       "8  16.0  \n",
       "0  13.0  \n",
       "7  11.0  \n",
       "6  8.0   \n",
       "2  7.0   \n",
       "1  2.0   \n",
       "3  1.0   \n",
       "4  1.0   \n",
       "5  1.0   "
      ]
     },
     "metadata": {},
     "output_type": "display_data"
    }
   ],
   "source": [
    "try:\n",
    "    hyp_data = pd.read_csv('hypothesis.csv', sep=',')\n",
    "except:\n",
    "    hyp_data = pd.read_csv('/datasets/hypothesis.csv', sep=',')\n",
    "pd.set_option('display.max_colwidth', 0) #задает максимальную ширину столбцов\n",
    "\n",
    "hyp_data['ICE'] = round(hyp_data['Impact'] * hyp_data['Confidence'] / hyp_data['Efforts'], 0)\n",
    "display(hyp_data[['Hypothesis', 'ICE']].sort_values('ICE', ascending=False))"
   ]
  },
  {
   "cell_type": "markdown",
   "metadata": {},
   "source": [
    "<span style='color:blue'> В результате применения способа ICE, можно выделить три наилучших гипотезы: \"Запустить акцию, дающую скидку на товар в день рождения\" с коэффициентом 16, \"Добавить два новых канала привлечения трафика, что позволит привлекать на 30% больше пользователей\" с коэффициентом 13 и \"Добавить форму подписки на все основные страницы, чтобы собрать базу клиентов для email-рассылок\" с коэффициентом 11. Если есть ресурсы на проведение дополнительных тестов, то можно рассмотреть гипотезы \"Показать на главной странице баннеры с актуальными акциями и распродажами, чтобы увеличить конверсию\" и \"Добавить блоки рекомендаций товаров на сайт интернет магазина, чтобы повысить конверсию и средний чек заказа\"</span>"
   ]
  },
  {
   "cell_type": "markdown",
   "metadata": {},
   "source": [
    "<span style='color:blue'> Часть 1.\n",
    "Приоритизирую по фреймворку RICE = reach * impact * confidence / efforts</span>"
   ]
  },
  {
   "cell_type": "code",
   "execution_count": 3,
   "metadata": {},
   "outputs": [
    {
     "data": {
      "text/html": [
       "<div>\n",
       "<style scoped>\n",
       "    .dataframe tbody tr th:only-of-type {\n",
       "        vertical-align: middle;\n",
       "    }\n",
       "\n",
       "    .dataframe tbody tr th {\n",
       "        vertical-align: top;\n",
       "    }\n",
       "\n",
       "    .dataframe thead th {\n",
       "        text-align: right;\n",
       "    }\n",
       "</style>\n",
       "<table border=\"1\" class=\"dataframe\">\n",
       "  <thead>\n",
       "    <tr style=\"text-align: right;\">\n",
       "      <th></th>\n",
       "      <th>Hypothesis</th>\n",
       "      <th>Reach</th>\n",
       "      <th>Impact</th>\n",
       "      <th>Confidence</th>\n",
       "      <th>Efforts</th>\n",
       "      <th>ICE</th>\n",
       "      <th>RICE</th>\n",
       "    </tr>\n",
       "  </thead>\n",
       "  <tbody>\n",
       "    <tr>\n",
       "      <th>7</th>\n",
       "      <td>Добавить форму подписки на все основные страницы, чтобы собрать базу клиентов для email-рассылок</td>\n",
       "      <td>10</td>\n",
       "      <td>7</td>\n",
       "      <td>8</td>\n",
       "      <td>5</td>\n",
       "      <td>11.0</td>\n",
       "      <td>112.0</td>\n",
       "    </tr>\n",
       "    <tr>\n",
       "      <th>2</th>\n",
       "      <td>Добавить блоки рекомендаций товаров на сайт интернет магазина, чтобы повысить конверсию и средний чек заказа</td>\n",
       "      <td>8</td>\n",
       "      <td>3</td>\n",
       "      <td>7</td>\n",
       "      <td>3</td>\n",
       "      <td>7.0</td>\n",
       "      <td>56.0</td>\n",
       "    </tr>\n",
       "    <tr>\n",
       "      <th>0</th>\n",
       "      <td>Добавить два новых канала привлечения трафика, что позволит привлекать на 30% больше пользователей</td>\n",
       "      <td>3</td>\n",
       "      <td>10</td>\n",
       "      <td>8</td>\n",
       "      <td>6</td>\n",
       "      <td>13.0</td>\n",
       "      <td>40.0</td>\n",
       "    </tr>\n",
       "    <tr>\n",
       "      <th>6</th>\n",
       "      <td>Показать на главной странице баннеры с актуальными акциями и распродажами, чтобы увеличить конверсию</td>\n",
       "      <td>5</td>\n",
       "      <td>3</td>\n",
       "      <td>8</td>\n",
       "      <td>3</td>\n",
       "      <td>8.0</td>\n",
       "      <td>40.0</td>\n",
       "    </tr>\n",
       "    <tr>\n",
       "      <th>8</th>\n",
       "      <td>Запустить акцию, дающую скидку на товар в день рождения</td>\n",
       "      <td>1</td>\n",
       "      <td>9</td>\n",
       "      <td>9</td>\n",
       "      <td>5</td>\n",
       "      <td>16.0</td>\n",
       "      <td>16.0</td>\n",
       "    </tr>\n",
       "    <tr>\n",
       "      <th>3</th>\n",
       "      <td>Изменить структура категорий, что увеличит конверсию, т.к. пользователи быстрее найдут нужный товар</td>\n",
       "      <td>8</td>\n",
       "      <td>3</td>\n",
       "      <td>3</td>\n",
       "      <td>8</td>\n",
       "      <td>1.0</td>\n",
       "      <td>9.0</td>\n",
       "    </tr>\n",
       "    <tr>\n",
       "      <th>1</th>\n",
       "      <td>Запустить собственную службу доставки, что сократит срок доставки заказов</td>\n",
       "      <td>2</td>\n",
       "      <td>5</td>\n",
       "      <td>4</td>\n",
       "      <td>10</td>\n",
       "      <td>2.0</td>\n",
       "      <td>4.0</td>\n",
       "    </tr>\n",
       "    <tr>\n",
       "      <th>5</th>\n",
       "      <td>Добавить страницу отзывов клиентов о магазине, что позволит увеличить количество заказов</td>\n",
       "      <td>3</td>\n",
       "      <td>2</td>\n",
       "      <td>2</td>\n",
       "      <td>3</td>\n",
       "      <td>1.0</td>\n",
       "      <td>4.0</td>\n",
       "    </tr>\n",
       "    <tr>\n",
       "      <th>4</th>\n",
       "      <td>Изменить цвет фона главной страницы, чтобы увеличить вовлеченность пользователей</td>\n",
       "      <td>3</td>\n",
       "      <td>1</td>\n",
       "      <td>1</td>\n",
       "      <td>1</td>\n",
       "      <td>1.0</td>\n",
       "      <td>3.0</td>\n",
       "    </tr>\n",
       "  </tbody>\n",
       "</table>\n",
       "</div>"
      ],
      "text/plain": [
       "                                                                                                     Hypothesis  \\\n",
       "7  Добавить форму подписки на все основные страницы, чтобы собрать базу клиентов для email-рассылок               \n",
       "2  Добавить блоки рекомендаций товаров на сайт интернет магазина, чтобы повысить конверсию и средний чек заказа   \n",
       "0  Добавить два новых канала привлечения трафика, что позволит привлекать на 30% больше пользователей             \n",
       "6  Показать на главной странице баннеры с актуальными акциями и распродажами, чтобы увеличить конверсию           \n",
       "8  Запустить акцию, дающую скидку на товар в день рождения                                                        \n",
       "3  Изменить структура категорий, что увеличит конверсию, т.к. пользователи быстрее найдут нужный товар            \n",
       "1  Запустить собственную службу доставки, что сократит срок доставки заказов                                      \n",
       "5  Добавить страницу отзывов клиентов о магазине, что позволит увеличить количество заказов                       \n",
       "4  Изменить цвет фона главной страницы, чтобы увеличить вовлеченность пользователей                               \n",
       "\n",
       "   Reach  Impact  Confidence  Efforts   ICE   RICE  \n",
       "7  10     7       8           5        11.0  112.0  \n",
       "2  8      3       7           3        7.0   56.0   \n",
       "0  3      10      8           6        13.0  40.0   \n",
       "6  5      3       8           3        8.0   40.0   \n",
       "8  1      9       9           5        16.0  16.0   \n",
       "3  8      3       3           8        1.0   9.0    \n",
       "1  2      5       4           10       2.0   4.0    \n",
       "5  3      2       2           3        1.0   4.0    \n",
       "4  3      1       1           1        1.0   3.0    "
      ]
     },
     "metadata": {},
     "output_type": "display_data"
    }
   ],
   "source": [
    "hyp_data['RICE'] = round(hyp_data['Reach'] * hyp_data['Impact'] * hyp_data['Confidence'] / hyp_data['Efforts'], 0)\n",
    "display(hyp_data.sort_values('RICE', ascending=False))"
   ]
  },
  {
   "cell_type": "markdown",
   "metadata": {},
   "source": [
    "<span style='color:blue'> В результате применения способа RICE лидерами стали гипотезы\n",
    "    - \"Добавить форму подписки на все основные страницы, чтобы собрать базу клиентов для email-рассылок\",\n",
    "    - \"Добавить блоки рекомендаций товаров на сайт интернет магазина, чтобы повысить конверсию и средний чек заказа\"\n",
    "    - \"Добавить два новых канала привлечения трафика, что позволит привлекать на 30% больше пользователей\".\n",
    "Гипотеза \"Добавить форму подписки на все основные страницы, чтобы собрать базу клиентов для email-рассылок\" стала лидером и по коэффициенту RICE в два раза превысила остальные, так как у данной гипотезы самый большой охват аудитории. Более того, параметр влияния изменений на аудиторию оценен на уровне 7, что тоже является значительны показателем и параметр  уверенности показывает хорошую уверенность в оценках др показателей. Также, усилия на проверку гипотезы оценены на среднем уровне. Все факторы в совокупности ясно дают понять, что в первую очередь необходимо проверить именно гипотезу \"Добавить форму подписки на все основные страницы, чтобы собрать базу клиентов для email-рассылок\"\n",
    " - Гипотеза \"Запустить акцию, дающую скидку на товар в день рождения\" проиграла, так как у нее очень низкий охват аудитории\n",
    " - Гипотеза \"Добавить два новых канала привлечения трафика, что позволит привлекать на 30% больше пользователей\" также имеет незначительный охват аудитории, но показатели влияния и уверенности довольно неплохие</span>"
   ]
  },
  {
   "cell_type": "code",
   "execution_count": 4,
   "metadata": {},
   "outputs": [
    {
     "name": "stdout",
     "output_type": "stream",
     "text": [
      "transactionId    0\n",
      "visitorId        0\n",
      "date             0\n",
      "revenue          0\n",
      "group            0\n",
      "dtype: int64\n",
      "date        0\n",
      "group       0\n",
      "visitors    0\n",
      "dtype: int64\n",
      "0\n",
      "0\n"
     ]
    }
   ],
   "source": [
    "try:\n",
    "    orders = pd.read_csv('orders.csv', sep=',')\n",
    "except:\n",
    "    orders = pd.read_csv('/datasets/orders.csv', sep=',')\n",
    "\n",
    "try:\n",
    "    visitors = pd.read_csv('visitors.csv', sep=',')\n",
    "except:\n",
    "    visitors = pd.read_csv('/datasets/visitors.csv', sep=',')\n",
    "    \n",
    "print(orders.isna().sum())\n",
    "print(visitors.isna().sum())\n",
    "\n",
    "print(orders.duplicated().sum())\n",
    "print(visitors.duplicated().sum())"
   ]
  },
  {
   "cell_type": "code",
   "execution_count": 5,
   "metadata": {},
   "outputs": [
    {
     "name": "stdout",
     "output_type": "stream",
     "text": [
      "557\n",
      "640\n"
     ]
    },
    {
     "name": "stderr",
     "output_type": "stream",
     "text": [
      "/tmp/ipykernel_48/2013342141.py:7: SettingWithCopyWarning: \n",
      "A value is trying to be set on a copy of a slice from a DataFrame.\n",
      "Try using .loc[row_indexer,col_indexer] = value instead\n",
      "\n",
      "See the caveats in the documentation: https://pandas.pydata.org/pandas-docs/stable/user_guide/indexing.html#returning-a-view-versus-a-copy\n",
      "  id_a['check'] = id_a['visitorId'].isin(id_b['visitorId'])\n"
     ]
    },
    {
     "data": {
      "text/html": [
       "<div>\n",
       "<style scoped>\n",
       "    .dataframe tbody tr th:only-of-type {\n",
       "        vertical-align: middle;\n",
       "    }\n",
       "\n",
       "    .dataframe tbody tr th {\n",
       "        vertical-align: top;\n",
       "    }\n",
       "\n",
       "    .dataframe thead th {\n",
       "        text-align: right;\n",
       "    }\n",
       "</style>\n",
       "<table border=\"1\" class=\"dataframe\">\n",
       "  <thead>\n",
       "    <tr style=\"text-align: right;\">\n",
       "      <th></th>\n",
       "      <th>transactionId</th>\n",
       "      <th>visitorId</th>\n",
       "      <th>date</th>\n",
       "      <th>revenue</th>\n",
       "      <th>group</th>\n",
       "      <th>check</th>\n",
       "    </tr>\n",
       "  </thead>\n",
       "  <tbody>\n",
       "    <tr>\n",
       "      <th>2</th>\n",
       "      <td>2961555356</td>\n",
       "      <td>4069496402</td>\n",
       "      <td>2019-08-15</td>\n",
       "      <td>400</td>\n",
       "      <td>A</td>\n",
       "      <td>True</td>\n",
       "    </tr>\n",
       "    <tr>\n",
       "      <th>26</th>\n",
       "      <td>2223239646</td>\n",
       "      <td>199603092</td>\n",
       "      <td>2019-08-15</td>\n",
       "      <td>3488</td>\n",
       "      <td>A</td>\n",
       "      <td>True</td>\n",
       "    </tr>\n",
       "    <tr>\n",
       "      <th>29</th>\n",
       "      <td>2220299125</td>\n",
       "      <td>3803269165</td>\n",
       "      <td>2019-08-15</td>\n",
       "      <td>700</td>\n",
       "      <td>A</td>\n",
       "      <td>True</td>\n",
       "    </tr>\n",
       "    <tr>\n",
       "      <th>33</th>\n",
       "      <td>486237576</td>\n",
       "      <td>2378935119</td>\n",
       "      <td>2019-08-15</td>\n",
       "      <td>1650</td>\n",
       "      <td>A</td>\n",
       "      <td>True</td>\n",
       "    </tr>\n",
       "    <tr>\n",
       "      <th>41</th>\n",
       "      <td>2594268419</td>\n",
       "      <td>237748145</td>\n",
       "      <td>2019-08-15</td>\n",
       "      <td>1090</td>\n",
       "      <td>A</td>\n",
       "      <td>True</td>\n",
       "    </tr>\n",
       "    <tr>\n",
       "      <th>...</th>\n",
       "      <td>...</td>\n",
       "      <td>...</td>\n",
       "      <td>...</td>\n",
       "      <td>...</td>\n",
       "      <td>...</td>\n",
       "      <td>...</td>\n",
       "    </tr>\n",
       "    <tr>\n",
       "      <th>1167</th>\n",
       "      <td>3757656646</td>\n",
       "      <td>4186807279</td>\n",
       "      <td>2019-08-14</td>\n",
       "      <td>4990</td>\n",
       "      <td>A</td>\n",
       "      <td>True</td>\n",
       "    </tr>\n",
       "    <tr>\n",
       "      <th>1173</th>\n",
       "      <td>3612788481</td>\n",
       "      <td>2712142231</td>\n",
       "      <td>2019-08-14</td>\n",
       "      <td>2490</td>\n",
       "      <td>A</td>\n",
       "      <td>True</td>\n",
       "    </tr>\n",
       "    <tr>\n",
       "      <th>1178</th>\n",
       "      <td>4052155355</td>\n",
       "      <td>2949041841</td>\n",
       "      <td>2019-08-14</td>\n",
       "      <td>190</td>\n",
       "      <td>A</td>\n",
       "      <td>True</td>\n",
       "    </tr>\n",
       "    <tr>\n",
       "      <th>1183</th>\n",
       "      <td>1458356232</td>\n",
       "      <td>963407295</td>\n",
       "      <td>2019-08-14</td>\n",
       "      <td>4940</td>\n",
       "      <td>A</td>\n",
       "      <td>True</td>\n",
       "    </tr>\n",
       "    <tr>\n",
       "      <th>1195</th>\n",
       "      <td>1947021204</td>\n",
       "      <td>1614305549</td>\n",
       "      <td>2019-08-14</td>\n",
       "      <td>100</td>\n",
       "      <td>A</td>\n",
       "      <td>True</td>\n",
       "    </tr>\n",
       "  </tbody>\n",
       "</table>\n",
       "<p>89 rows × 6 columns</p>\n",
       "</div>"
      ],
      "text/plain": [
       "      transactionId   visitorId        date  revenue group  check\n",
       "2     2961555356     4069496402  2019-08-15  400      A     True \n",
       "26    2223239646     199603092   2019-08-15  3488     A     True \n",
       "29    2220299125     3803269165  2019-08-15  700      A     True \n",
       "33    486237576      2378935119  2019-08-15  1650     A     True \n",
       "41    2594268419     237748145   2019-08-15  1090     A     True \n",
       "...          ...           ...          ...   ...    ..      ... \n",
       "1167  3757656646     4186807279  2019-08-14  4990     A     True \n",
       "1173  3612788481     2712142231  2019-08-14  2490     A     True \n",
       "1178  4052155355     2949041841  2019-08-14  190      A     True \n",
       "1183  1458356232     963407295   2019-08-14  4940     A     True \n",
       "1195  1947021204     1614305549  2019-08-14  100      A     True \n",
       "\n",
       "[89 rows x 6 columns]"
      ]
     },
     "metadata": {},
     "output_type": "display_data"
    },
    {
     "data": {
      "text/plain": [
       "58"
      ]
     },
     "metadata": {},
     "output_type": "display_data"
    }
   ],
   "source": [
    "print(orders[orders['group'] == 'A']['visitorId'].count())\n",
    "print(orders[orders['group'] == 'B']['visitorId'].count())\n",
    "\n",
    "id_a = orders[orders['group'] == 'A']\n",
    "id_b = orders[orders['group'] == 'B']\n",
    "\n",
    "id_a['check'] = id_a['visitorId'].isin(id_b['visitorId'])\n",
    "\n",
    "bad_users = id_a[id_a['check'] == True]\n",
    "display(bad_users)\n",
    "display(bad_users['visitorId'].nunique())"
   ]
  },
  {
   "cell_type": "markdown",
   "metadata": {},
   "source": [
    "<span style='color:blue'> Часть 2.1\n",
    "Строю график кумулятивной выручки по группам. Выводы и предположения.</span>"
   ]
  },
  {
   "cell_type": "code",
   "execution_count": 6,
   "metadata": {
    "scrolled": false
   },
   "outputs": [
    {
     "data": {
      "image/png": "[encoded data removed]",
      "text/plain": [
       "<Figure size 1152x432 with 1 Axes>"
      ]
     },
     "metadata": {
      "needs_background": "light"
     },
     "output_type": "display_data"
    }
   ],
   "source": [
    "orders['date'] = orders['date'].map(lambda x: dt.datetime.strptime(x, '%Y-%m-%d'))\n",
    "  \n",
    "visitors['date'] = visitors['date'].map(lambda x: dt.datetime.strptime(x, '%Y-%m-%d'))\n",
    "\n",
    "\n",
    "import matplotlib.pyplot as plt\n",
    "import numpy as np\n",
    "\n",
    "datesGroups = orders[['date','group']].drop_duplicates()\n",
    "\n",
    "ordersAggregated = datesGroups.apply(lambda x: orders[np.logical_and(orders['date'] <= x['date'], orders['group'] == x['group'])]\n",
    "                                     .agg({'date':'max', 'group':'max', 'transactionId':'nunique',\n",
    "                                           'visitorId':'nunique', 'revenue':'sum'}), axis=1).sort_values(by=['date', 'group'])\n",
    "visitorsAggregated = datesGroups.apply(lambda x: visitors[np.logical_and(visitors['date'] <= x['date'], visitors['group'] == x['group'])]\n",
    "                                      .agg({'date':'max', 'group':'max', 'visitors':'sum'}), axis=1).sort_values(by=['date', 'group'])\n",
    "\n",
    "cumulativeData = ordersAggregated.merge(visitorsAggregated, left_on = ['date', 'group'], right_on = ['date', 'group'])\n",
    "cumulativeData.columns = ['date', 'group', 'transactions', 'buyers', 'revenue', 'visitors']\n",
    "\n",
    "cumulativeRevenueA = cumulativeData[cumulativeData['group'] == 'A'][['date', 'revenue', 'transactions', 'buyers']]\n",
    "cumulativeRevenueB = cumulativeData[cumulativeData['group'] == 'B'][['date', 'revenue', 'transactions', 'buyers']]\n",
    "\n",
    "plt.figure(figsize=(16,6))\n",
    "plt.title('График кумулятивной выручки по группам')\n",
    "plt.xlabel('Дата')\n",
    "plt.ylabel('Значение выручки')\n",
    "plt.plot(cumulativeRevenueA['date'], cumulativeRevenueA['revenue'], label='A')\n",
    "plt.plot(cumulativeRevenueB['date'], cumulativeRevenueB['revenue'], label='B')\n",
    "plt.legend();"
   ]
  },
  {
   "cell_type": "markdown",
   "metadata": {},
   "source": [
    "<span style='color:blue'> Показатели кумулятивной выручки для обоих групп плавно растут. После примерно второй недели теста выручка группы В превзашла значения выручки группы А и продолжала увеличиваться. На 18 день наблюдается резкий скачок выручки в группе В, возможно имеет место быть аномалия.</span>"
   ]
  },
  {
   "cell_type": "markdown",
   "metadata": {},
   "source": [
    "<span style='color:blue'> Часть 2.2\n",
    "Строю график кумулятивного среднего чека по группам. Выводы и предположения.</span>"
   ]
  },
  {
   "cell_type": "code",
   "execution_count": 7,
   "metadata": {},
   "outputs": [
    {
     "data": {
      "image/png": "[encoded data removed]",
      "text/plain": [
       "<Figure size 1152x432 with 1 Axes>"
      ]
     },
     "metadata": {
      "needs_background": "light"
     },
     "output_type": "display_data"
    }
   ],
   "source": [
    "plt.figure(figsize=(16,6))\n",
    "plt.title('График кумулятивного среднего чека')\n",
    "plt.xlabel('Дата')\n",
    "plt.ylabel('Значение чека')\n",
    "plt.plot(cumulativeRevenueA['date'], cumulativeRevenueA['revenue'] / cumulativeRevenueA['transactions'], label = 'A')\n",
    "plt.plot(cumulativeRevenueB['date'], cumulativeRevenueB['revenue'] / cumulativeRevenueB['transactions'], label = 'B')\n",
    "plt.legend();"
   ]
  },
  {
   "cell_type": "markdown",
   "metadata": {},
   "source": [
    "<span style='color:blue'> График кумулятивного среднего чека довольно волатильный. Для группы А в первую неделю средний чек падал, однако во вторую неделю возрастал и к концу теста закрепился на уровне 7000. Кривая группы В показывает волнообразное движение, также подтвердилась гипотеза аномальных данных на 18 день, и к концу теста можно наблюдать небольшое снижение среднего чека к уровню 9000-9500.</span>"
   ]
  },
  {
   "cell_type": "markdown",
   "metadata": {},
   "source": [
    "<span style='color:blue'> Часть 2.3 \n",
    "Строю график относительного изменения кумулятивного среднего чека группы B к группе A.Ввыводы и предположения.</span>"
   ]
  },
  {
   "cell_type": "code",
   "execution_count": 8,
   "metadata": {},
   "outputs": [
    {
     "data": {
      "image/png": "[encoded data removed]",
      "text/plain": [
       "<Figure size 1152x432 with 1 Axes>"
      ]
     },
     "metadata": {
      "needs_background": "light"
     },
     "output_type": "display_data"
    }
   ],
   "source": [
    "mergedCumulativeRevenue = cumulativeRevenueA.merge(cumulativeRevenueB, left_on='date',\n",
    "                                                   right_on='date', how='left', suffixes=['A', 'B'])\n",
    "\n",
    "plt.figure(figsize=(16,6))\n",
    "plt.title('График относительного изменения среднего чека')\n",
    "plt.xlabel('Дата')\n",
    "plt.ylabel('Средний чек')\n",
    "plt.plot(mergedCumulativeRevenue['date'],\n",
    "         (mergedCumulativeRevenue['revenueB']/mergedCumulativeRevenue['transactionsB'])\n",
    "         /(mergedCumulativeRevenue['revenueA']/mergedCumulativeRevenue['transactionsA']) - 1)\n",
    "plt.axhline(y=0, color='black', linestyle='--');"
   ]
  },
  {
   "cell_type": "markdown",
   "metadata": {},
   "source": [
    "<span style='color:blue'> График различия между сегментами сильно скачет. Мозможно в данных есть выбросы.</span>"
   ]
  },
  {
   "cell_type": "markdown",
   "metadata": {},
   "source": [
    "<span style='color:blue'> Часть 2.4 \n",
    "Строю график кумулятивного среднего количества заказов по группам. Выводы и предположения.</span>"
   ]
  },
  {
   "cell_type": "code",
   "execution_count": 9,
   "metadata": {},
   "outputs": [
    {
     "data": {
      "image/png": "[encoded data removed]",
      "text/plain": [
       "<Figure size 1152x432 with 1 Axes>"
      ]
     },
     "metadata": {
      "needs_background": "light"
     },
     "output_type": "display_data"
    }
   ],
   "source": [
    "plt.figure(figsize=(16,6))\n",
    "plt.title('График кумулятивного среднего количества заказов')\n",
    "plt.xlabel('дата')\n",
    "plt.ylabel('Значение заказов')\n",
    "plt.plot(cumulativeRevenueA['date'], cumulativeRevenueA['transactions'] / cumulativeRevenueA['buyers'], label='A')\n",
    "plt.plot(cumulativeRevenueB['date'], cumulativeRevenueB['transactions'] / cumulativeRevenueB['buyers'], label='B')\n",
    "plt.legend();"
   ]
  },
  {
   "cell_type": "markdown",
   "metadata": {},
   "source": [
    "<span style='color:blue'> В отношении среднего количества заказов группа А превышает значения группы В. Однако, у группы В можно наблюдать незначительный рост показателя, тогда как значения группы А остаются примерно на одном уровне (от 1.10 до 1.15)</span>"
   ]
  },
  {
   "cell_type": "markdown",
   "metadata": {},
   "source": [
    "<span style='color:blue'>Часть 2.5\n",
    "Строю график относительного изменения кумулятивного среднего количества заказов группы B к группе A. Выводы и предположения.</span>"
   ]
  },
  {
   "cell_type": "code",
   "execution_count": 10,
   "metadata": {},
   "outputs": [
    {
     "data": {
      "image/png": "[encoded data removed]",
      "text/plain": [
       "<Figure size 1152x432 with 1 Axes>"
      ]
     },
     "metadata": {
      "needs_background": "light"
     },
     "output_type": "display_data"
    }
   ],
   "source": [
    "plt.figure(figsize=(16,6))\n",
    "plt.title('График относительного изменения кумулятивного среднего количества заказов')\n",
    "plt.xlabel('дата')\n",
    "plt.ylabel('значения заказов')\n",
    "plt.plot(mergedCumulativeRevenue['date'],\n",
    "         (mergedCumulativeRevenue['transactionsB']/mergedCumulativeRevenue['buyersB'])\n",
    "         /(mergedCumulativeRevenue['transactionsA']/mergedCumulativeRevenue['buyersA']) - 1)\n",
    "plt.axhline(y=0, color='black', linestyle='--');"
   ]
  },
  {
   "cell_type": "markdown",
   "metadata": {},
   "source": [
    "<span style='color:blue'> График различия между сегментами показывает постепенное увеличение количества заказов в группе В,однако всё ещё видно отставание от группы А на 0.02 пп.</span>"
   ]
  },
  {
   "cell_type": "markdown",
   "metadata": {},
   "source": [
    "<span style='color:blue'>Часть 2.6\n",
    "Построение точечного графика количества заказов по пользователям. Выводы и предположения.</span>"
   ]
  },
  {
   "cell_type": "code",
   "execution_count": 11,
   "metadata": {},
   "outputs": [
    {
     "data": {
      "image/png": "[encoded data removed]",
      "text/plain": [
       "<Figure size 1152x432 with 1 Axes>"
      ]
     },
     "metadata": {
      "needs_background": "light"
     },
     "output_type": "display_data"
    }
   ],
   "source": [
    "orders_cnt = orders.groupby('visitorId', as_index=False).agg({'transactionId':'nunique'}).sort_values('transactionId', ascending=False)\n",
    "orders_cnt.columns = ['user', 'orders']\n",
    "x_values = pd.Series(range(0, len(orders_cnt)))\n",
    "plt.figure(figsize=(16,6))\n",
    "plt.title('Точечный График количества заказов по пользователям')\n",
    "plt.xlabel('пользователи')\n",
    "plt.ylabel('количество заказов')\n",
    "plt.scatter(x_values, orders_cnt['orders'])\n",
    "ax = plt.gca()\n",
    "ax.set_ylim([0,12]);"
   ]
  },
  {
   "cell_type": "markdown",
   "metadata": {},
   "source": [
    "<span style='color:blue'> Из получившейся точечной диаграммы можно сделать вывод, что большинство пользователей делают 1-2 заказа.</span>"
   ]
  },
  {
   "cell_type": "markdown",
   "metadata": {},
   "source": [
    "<span style='color:blue'> Часть 2.7 Расчитываю 95-й и 99-й перцентили количества заказов на пользователя. Определяю границу для определения аномальных пользователей.</span>"
   ]
  },
  {
   "cell_type": "code",
   "execution_count": 12,
   "metadata": {},
   "outputs": [
    {
     "name": "stdout",
     "output_type": "stream",
     "text": [
      "[2. 4.]\n"
     ]
    }
   ],
   "source": [
    "print(np.percentile(orders_cnt['orders'], [95, 99]))"
   ]
  },
  {
   "cell_type": "markdown",
   "metadata": {},
   "source": [
    "<span style='color:blue'> Не больше 5% пользователей оформляли больше 2 заказов. Считаю границу для аномальных пользователей в 2 заказа включительно.</span>"
   ]
  },
  {
   "cell_type": "markdown",
   "metadata": {},
   "source": [
    "<span style='color:blue'> Часть 2.8 Построение точечного графика стоимостей заказов. Выводы и предположения.</span>"
   ]
  },
  {
   "cell_type": "code",
   "execution_count": 13,
   "metadata": {},
   "outputs": [
    {
     "data": {
      "image/png": "[encoded data removed]",
      "text/plain": [
       "<Figure size 1152x432 with 1 Axes>"
      ]
     },
     "metadata": {
      "needs_background": "light"
     },
     "output_type": "display_data"
    },
    {
     "data": {
      "image/png": "[encoded data removed]",
      "text/plain": [
       "<Figure size 1152x432 with 1 Axes>"
      ]
     },
     "metadata": {
      "needs_background": "light"
     },
     "output_type": "display_data"
    }
   ],
   "source": [
    "x_values = pd.Series(range(0, len(orders['revenue'])))\n",
    "plt.figure(figsize=(16,6))\n",
    "plt.title('Точечный График стоимостей заказов')\n",
    "plt.xlabel('пользователи')\n",
    "plt.ylabel('сумма заказов')\n",
    "plt.scatter(x_values, orders['revenue']);\n",
    "x_values = pd.Series(range(0, len(orders['revenue'])))\n",
    "plt.figure(figsize=(16,6))\n",
    "plt.title('Точечный График стоимостей заказов')\n",
    "plt.xlabel('пользователи')\n",
    "plt.ylabel('сумма заказов')\n",
    "plt.scatter(x_values, orders['revenue'])\n",
    "ax = plt.gca()\n",
    "ax.set_ylim([0,200000]);"
   ]
  },
  {
   "cell_type": "markdown",
   "metadata": {},
   "source": [
    "<span style='color:blue'> Из точечной диаграммы стоимости заказов видно, что в основном стоимость заказов находится в диапазоне до 50 000, наблюдаются отдельные выбросы на 100 000, 200 000 и даже 1 500 000.</span>"
   ]
  },
  {
   "cell_type": "markdown",
   "metadata": {},
   "source": [
    "<span style='color:blue'>Часть 2.9 Расчет 95-й и 99-й перцентилей стоимости заказов. Определение границы для определения аномальных заказов.</span>"
   ]
  },
  {
   "cell_type": "code",
   "execution_count": 14,
   "metadata": {},
   "outputs": [
    {
     "name": "stdout",
     "output_type": "stream",
     "text": [
      "[28000.  58233.2]\n"
     ]
    }
   ],
   "source": [
    "print(np.percentile(orders['revenue'], [95, 99]))"
   ]
  },
  {
   "cell_type": "markdown",
   "metadata": {},
   "source": [
    "<span style='color:blue'> Деля на персентиль стоимость заказов можно сделать вывод, что не больше 5% пользователей оформляли заказ дороже 28 000.</span>"
   ]
  },
  {
   "cell_type": "markdown",
   "metadata": {},
   "source": [
    "<span style='color:blue'>Формирую датасет для дальнейших расчетов</span>"
   ]
  },
  {
   "cell_type": "code",
   "execution_count": 15,
   "metadata": {},
   "outputs": [],
   "source": [
    "visitorsADaily = visitors[visitors['group'] == 'A'][['date', 'visitors']]\n",
    "visitorsADaily.columns = ['date', 'visitorsPerDateA']\n",
    "\n",
    "visitorsACumulative = visitorsADaily.apply(lambda x: visitorsADaily[visitorsADaily['date'] <= x['date']]\n",
    "                                           .agg({'date':'max', 'visitorsPerDateA':'sum'}), axis=1)\n",
    "visitorsACumulative.columns = ['date', 'visitorsCumulativeA']\n",
    "\n",
    "visitorsBDaily = visitors[visitors['group'] == 'B'][['date', 'visitors']]\n",
    "visitorsBDaily.columns = ['date', 'visitorsPerDateB']\n",
    "\n",
    "visitorsBCumulative = visitorsBDaily.apply(lambda x: visitorsBDaily[visitorsBDaily['date'] <= x['date']]\n",
    "                                           .agg({'date':'max', 'visitorsPerDateB':'sum'}), axis=1)\n",
    "visitorsBCumulative.columns = ['date', 'visitorsCumulativeB']\n",
    "\n",
    "ordersADaily = orders[orders['group'] == 'A'][['date', 'transactionId', 'visitorId', 'revenue']].groupby('date', as_index=False).agg({'transactionId':'nunique', 'revenue':'sum'})\n",
    "ordersADaily.columns = ['date', 'ordersPerDateA', 'revenuePerDateA']\n",
    "\n",
    "ordersACumulative = ordersADaily.apply(lambda x: ordersADaily[ordersADaily['date'] <= x['date']]\n",
    "                                       .agg({'date':'max', 'ordersPerDateA':'sum', 'revenuePerDateA':'sum'}), axis=1).sort_values(by=['date'])\n",
    "ordersACumulative.columns = ['date', 'ordersCumulativeA', 'revenueCumulativeA']\n",
    "\n",
    "ordersBDaily = orders[orders['group'] == 'B'][['date', 'transactionId', 'visitorId', 'revenue']].groupby('date', as_index=False).agg({'transactionId':'nunique', 'revenue':'sum'})\n",
    "ordersBDaily.columns = ['date', 'ordersPerDateB', 'revenuePerDateB']\n",
    "\n",
    "ordersBCumulative = ordersBDaily.apply(lambda x: ordersBDaily[ordersBDaily['date'] <= x['date']]\n",
    "                                       .agg({'date':'max', 'ordersPerDateB':'sum', 'revenuePerDateB':'sum'}), axis=1).sort_values(by=['date'])\n",
    "ordersBCumulative.columns = ['date', 'ordersCumulativeB', 'revenueCumulativeB']\n",
    "\n",
    "data = (\n",
    "     ordersADaily.merge(ordersBDaily, left_on='date', right_on='date', how='left')\n",
    "    .merge(ordersACumulative, left_on='date', right_on='date', how='left')\n",
    "    .merge(ordersBCumulative, left_on='date', right_on='date', how='left')\n",
    "    .merge(visitorsADaily, left_on='date', right_on='date', how='left')\n",
    "    .merge(visitorsBDaily, left_on='date', right_on='date', how='left')\n",
    "    .merge(visitorsACumulative, left_on='date', right_on='date', how='left')\n",
    "    .merge(visitorsBCumulative, left_on='date', right_on='date', how='left'))"
   ]
  },
  {
   "cell_type": "markdown",
   "metadata": {},
   "source": [
    "<span style='color:blue'>Часть 2.10 Считаю статистическую значимость различий в среднем количестве заказов между группами по «сырым» данным. Проверка по критерию Манна-Уитни. Нулевая гипотеза: Статистически значимых различий в количестве заказов между группами по сырым данным нет. Альтернативная - Статистически значимые различия в количестве заказов между группами по сырым данным есть. Выбранный уровень alpha - 0,05.\n",
    "</span>"
   ]
  },
  {
   "cell_type": "code",
   "execution_count": 16,
   "metadata": {},
   "outputs": [
    {
     "name": "stdout",
     "output_type": "stream",
     "text": [
      "p-значение 0.008396177528376304\n",
      "Отвергаем нулевую гипотезу: разница статистически значима\n",
      "Величина относительного различия группы В над группой А -  0.138\n"
     ]
    }
   ],
   "source": [
    "import scipy.stats as stats\n",
    "\n",
    "alpha = 0.05\n",
    "\n",
    "ordersByUsersA = orders[orders['group'] == 'A'].groupby('visitorId', as_index=False).agg({'transactionId':'nunique'})\n",
    "ordersByUsersA.columns = ['user_id', 'orders']\n",
    "\n",
    "ordersByUsersB = orders[orders['group'] == 'B'].groupby('visitorId', as_index=False).agg({'transactionId':'nunique'})\n",
    "ordersByUsersB.columns = ['user_id', 'orders']\n",
    "\n",
    "#делаю выборки где каждый элемент будет соответствовать количеству заказов пользователя\n",
    "# + во второй части метода concat добавляю нули, для пользователей, которые не совершали заказов\n",
    "# - это разница между количеством поситителей и количеством записей о заказах \n",
    "\n",
    "sampleA = pd.concat([ordersByUsersA['orders'], pd.Series(0, index=np.arange(data['visitorsPerDateA'].sum() - \n",
    "                                                                           len(ordersByUsersA['orders'])), name='orders')], axis=0)\n",
    "sampleB = pd.concat([ordersByUsersB['orders'], pd.Series(0, index=np.arange(data['visitorsPerDateB'].sum() - \n",
    "                                                                           len(ordersByUsersB['orders'])), name='orders')], axis=0)\n",
    "\n",
    "result = stats.mannwhitneyu(sampleA, sampleB, True, 'less')\n",
    "print('p-значение', result.pvalue)\n",
    "\n",
    "if result.pvalue < alpha:\n",
    "    print('Отвергаем нулевую гипотезу: разница статистически значима')\n",
    "else:\n",
    "    print('Не получилось отвергнуть нулевую гипотезу, вывод о различии сделать нельзя')\n",
    "print('Величина относительного различия группы В над группой А - ', \"{0:.3f}\".format(sampleB.mean() / sampleA.mean() - 1))"
   ]
  },
  {
   "cell_type": "markdown",
   "metadata": {},
   "source": [
    "<span style='color:blue'>По сырым данным можно сказать, что различие между средним количеством заказов есть. Показатель p-value меньше 0.05, значит нулевую гипотезу отвергаем. Относительное различие на 13,8% группы В над группой А.</span>"
   ]
  },
  {
   "cell_type": "markdown",
   "metadata": {},
   "source": [
    "<span style='color:blue'>Часть 2.11 Оцениваю статистическую значимость различий в среднем чеке между группами по «сырым» данным. Проверка по критерию Манна-Уитни. Нулевая гипотеза: Статистически значимых различий в среднем чеке между группами по сырым данным нет. Альтернативная - Статистически значимые различия в среднем чеке между группами по сырым данным есть. Выбранный уровень alpha - 0,05.</span>"
   ]
  },
  {
   "cell_type": "code",
   "execution_count": 17,
   "metadata": {},
   "outputs": [
    {
     "name": "stdout",
     "output_type": "stream",
     "text": [
      "p-значение 0.3646454927716229\n",
      "Не получилось отвергнуть нулевую гипотезу, вывод о различии сделать нельзя\n",
      "Величина относительного различия группы В над группой А -  0.259\n"
     ]
    }
   ],
   "source": [
    "result = stats.mannwhitneyu(orders[orders['group'] == 'A']['revenue'], orders[orders['group'] == 'B']['revenue'], True, 'less')\n",
    "\n",
    "print('p-значение', result.pvalue)\n",
    "\n",
    "if result.pvalue < alpha:\n",
    "    print('Отвергаем нулевую гипотезу: разница статистически значима')\n",
    "else:\n",
    "    print('Не получилось отвергнуть нулевую гипотезу, вывод о различии сделать нельзя')\n",
    "print('Величина относительного различия группы В над группой А - ', \"{0:.3f}\".format(orders[orders['group'] == 'B']['revenue'].mean() / orders[orders['group'] == 'A']['revenue'].mean() - 1))"
   ]
  },
  {
   "cell_type": "markdown",
   "metadata": {},
   "source": [
    "<span style='color:blue'>По сырым данным можно сказать, что различий в среднем чеке нет. Показатель p-value гораздо больше 0.05.Различие группы В в 25,9% над группой А больше чем различие среднего количества заказов.</span>"
   ]
  },
  {
   "cell_type": "markdown",
   "metadata": {},
   "source": [
    "<span style='color:blue'>Часть 2.12 Считаю статистическую значимость различий в среднем количестве заказов между группами по «очищенным» данным. Проверка по критерию Манна-Уитни. Нулевая гипотеза: Статистически значимых различий в количестве заказов между группами по очищенным данным нет. Альтернативная - Статистически значимые различия в количестве заказов между группами по очищенным данным есть. Выбранный уровень alpha - 0,05.Как аномалию считаю больше 2 заказов, как определил выше.</span>"
   ]
  },
  {
   "cell_type": "code",
   "execution_count": 18,
   "metadata": {},
   "outputs": [
    {
     "name": "stdout",
     "output_type": "stream",
     "text": [
      "Количество аномальных наблюдений - 74\n",
      "p-значение 0.006521296371518373\n",
      "Отвергаем нулевую гипотезу: разница статистически значима\n",
      "Величина относительного различия группы В над группой А -  0.173\n"
     ]
    }
   ],
   "source": [
    "usersWithManyOrders = pd.concat([\n",
    "    ordersByUsersA[ordersByUsersA['orders'] > 2]['user_id'],\n",
    "    ordersByUsersB[ordersByUsersB['orders'] > 2]['user_id']\n",
    "], axis=0)\n",
    "\n",
    "usersWithExpensiveOrders = orders[orders['revenue'] > np.percentile(orders['revenue'], 95)]['visitorId']\n",
    "\n",
    "abnormalUsers = (pd.concat([usersWithManyOrders, usersWithExpensiveOrders], axis=0).drop_duplicates().sort_values())\n",
    "print('Количество аномальных наблюдений -', abnormalUsers.shape[0])\n",
    "\n",
    "sampleAFiltered = pd.concat([\n",
    "    ordersByUsersA[np.logical_not(ordersByUsersA['user_id'].isin(abnormalUsers))]['orders'], pd.Series(0, index=np.arange(\n",
    "    data['visitorsPerDateA'].sum() - len(ordersByUsersA['orders'])), name='orders')],axis=0)\n",
    "\n",
    "sampleBFiltered = pd.concat([\n",
    "    ordersByUsersB[np.logical_not(ordersByUsersB['user_id'].isin(abnormalUsers))]['orders'], pd.Series(0, index=np.arange(\n",
    "    data['visitorsPerDateB'].sum() - len(ordersByUsersB['orders'])), name='orders')],axis=0)\n",
    "\n",
    "result = stats.mannwhitneyu(sampleAFiltered, sampleBFiltered, True, 'less')\n",
    "\n",
    "print('p-значение', result.pvalue)\n",
    "\n",
    "if result.pvalue < alpha:\n",
    "    print('Отвергаем нулевую гипотезу: разница статистически значима')\n",
    "else:\n",
    "    print('Не получилось отвергнуть нулевую гипотезу, вывод о различии сделать нельзя')\n",
    "print('Величина относительного различия группы В над группой А - ', \"{0:.3f}\".format(sampleBFiltered.mean() / sampleAFiltered.mean() - 1))"
   ]
  },
  {
   "cell_type": "markdown",
   "metadata": {},
   "source": [
    "<span style='color:blue'>По очищенным данным можно сказать, что различие между средним количеством заказов есть. Показатель p-value меньше 0.05, значит нулевую гипотезу отвергаем. Увеличилось относительное различие группы В - 17,2% над группой А.</span>"
   ]
  },
  {
   "cell_type": "markdown",
   "metadata": {},
   "source": [
    "<span style='color:blue'>Часть 2.13 Считаю статистическую значимость различий в среднем чеке заказа между группами по «очищенным» данным. Проверка по критерию Манна-Уитни. Нулевая гипотеза: Статистически значимых различий в среднем чеке между группами по очищенным данным нет. Альтернативная - Статистически значимые различия в среднем чеке между группами по очищенным данным есть. Выбранный уровень alpha - 0,05.</span>"
   ]
  },
  {
   "cell_type": "code",
   "execution_count": 19,
   "metadata": {},
   "outputs": [
    {
     "name": "stdout",
     "output_type": "stream",
     "text": [
      "p-значение 0.630838101246686\n",
      "Не получилось отвергнуть нулевую гипотезу, вывод о различии сделать нельзя\n",
      "Величина относительного различия группы В над группой А - -0.020\n"
     ]
    }
   ],
   "source": [
    "result = stats.mannwhitneyu(\n",
    "    orders[np.logical_and(orders['group'] == 'A', np.logical_not(orders['visitorId'].isin(abnormalUsers)))]['revenue'],\n",
    "    orders[np.logical_and(orders['group'] == 'B', np.logical_not(orders['visitorId'].isin(abnormalUsers)))]['revenue'], True, 'less')\n",
    "\n",
    "print('p-значение', result.pvalue)\n",
    "\n",
    "if result.pvalue < alpha:\n",
    "    print('Отвергаем нулевую гипотезу: разница статистически значима')\n",
    "else:\n",
    "    print('Не получилось отвергнуть нулевую гипотезу, вывод о различии сделать нельзя')\n",
    "\n",
    "print('Величина относительного различия группы В над группой А -', \"{0:.3f}\".format(orders[np.logical_and(orders['group'] == 'B',\n",
    "                                                                np.logical_not(orders['visitorId']\n",
    "                                                                               .isin(abnormalUsers)))]['revenue'].mean() / \n",
    "                      orders[np.logical_and(orders['group'] == 'A',\n",
    "                                                                np.logical_not(orders['visitorId']\n",
    "                                                                               .isin(abnormalUsers)))]['revenue'].mean() - 1))"
   ]
  },
  {
   "cell_type": "markdown",
   "metadata": {},
   "source": [
    "<span style='color:blue'>По очищенным данным можно сказать, что различие между средним чеком отсутствует. Показатель p-value больше 0.05. Уменьшилось относительное различие группы В - (2,3%) над группой А.</span>"
   ]
  },
  {
   "cell_type": "code",
   "execution_count": 20,
   "metadata": {
    "scrolled": true
   },
   "outputs": [
    {
     "name": "stdout",
     "output_type": "stream",
     "text": [
      "607.2903225806451\n"
     ]
    }
   ],
   "source": [
    "print(visitors['visitors'].mean())"
   ]
  },
  {
   "cell_type": "markdown",
   "metadata": {},
   "source": [
    "<div class=\"alert alert-info\">\n",
    "<b> Комментарий студента</b>\n",
    "\n",
    "Общий вывод по результатам теста\n",
    " - есть различие в среднем количестве заказов пользователей как по сырым так и по очищенным данным\n",
    " - однако статистически значимого различия среднего чека в группах нет, как по сырым так и по очищенным данным\n",
    " - считаю, что тест можно завершить. Различий в среднем чеке нет, но так как количество заказов в группе В больше чем в группе А, то итоговая выручка увеличится с применением тестируемых изменений</div>"
   ]
  },
  {
   "cell_type": "code",
   "execution_count": null,
   "metadata": {},
   "outputs": [],
   "source": []
  }
 ],
 "metadata": {
  "ExecuteTimeLog": [
   {
    "duration": 51,
    "start_time": "2022-11-05T20:26:56.201Z"
   },
   {
    "duration": 400,
    "start_time": "2022-11-05T20:27:03.078Z"
   },
   {
    "duration": 127,
    "start_time": "2022-11-05T20:27:03.480Z"
   },
   {
    "duration": 0,
    "start_time": "2022-11-05T20:27:03.609Z"
   },
   {
    "duration": 0,
    "start_time": "2022-11-05T20:27:03.610Z"
   },
   {
    "duration": 0,
    "start_time": "2022-11-05T20:27:03.612Z"
   },
   {
    "duration": 0,
    "start_time": "2022-11-05T20:27:03.613Z"
   },
   {
    "duration": 0,
    "start_time": "2022-11-05T20:27:03.614Z"
   },
   {
    "duration": 0,
    "start_time": "2022-11-05T20:27:03.616Z"
   },
   {
    "duration": 0,
    "start_time": "2022-11-05T20:27:03.617Z"
   },
   {
    "duration": 0,
    "start_time": "2022-11-05T20:27:03.618Z"
   },
   {
    "duration": 0,
    "start_time": "2022-11-05T20:27:03.623Z"
   },
   {
    "duration": 0,
    "start_time": "2022-11-05T20:27:03.624Z"
   },
   {
    "duration": 0,
    "start_time": "2022-11-05T20:27:03.625Z"
   },
   {
    "duration": 0,
    "start_time": "2022-11-05T20:27:03.626Z"
   },
   {
    "duration": 0,
    "start_time": "2022-11-05T20:27:03.627Z"
   },
   {
    "duration": 0,
    "start_time": "2022-11-05T20:27:03.628Z"
   },
   {
    "duration": 0,
    "start_time": "2022-11-05T20:27:03.629Z"
   },
   {
    "duration": 0,
    "start_time": "2022-11-05T20:27:03.631Z"
   },
   {
    "duration": 262,
    "start_time": "2022-11-05T20:29:02.205Z"
   },
   {
    "duration": 51,
    "start_time": "2022-11-05T20:29:05.406Z"
   },
   {
    "duration": 145,
    "start_time": "2022-11-05T20:29:09.309Z"
   },
   {
    "duration": 8,
    "start_time": "2022-11-05T20:29:17.963Z"
   },
   {
    "duration": 1087,
    "start_time": "2022-11-05T20:29:38.957Z"
   },
   {
    "duration": 230,
    "start_time": "2022-11-05T20:29:44.220Z"
   },
   {
    "duration": 452,
    "start_time": "2022-11-05T20:29:44.453Z"
   },
   {
    "duration": 238,
    "start_time": "2022-11-05T20:29:44.907Z"
   },
   {
    "duration": 6,
    "start_time": "2022-11-05T20:29:45.148Z"
   },
   {
    "duration": 325,
    "start_time": "2022-11-05T20:29:45.157Z"
   },
   {
    "duration": 172,
    "start_time": "2022-11-05T20:29:45.484Z"
   },
   {
    "duration": 5,
    "start_time": "2022-11-05T20:29:45.658Z"
   },
   {
    "duration": 360,
    "start_time": "2022-11-05T20:29:45.664Z"
   },
   {
    "duration": 4,
    "start_time": "2022-11-05T20:29:46.026Z"
   },
   {
    "duration": 246,
    "start_time": "2022-11-05T20:29:46.032Z"
   },
   {
    "duration": 512,
    "start_time": "2022-11-05T20:29:46.280Z"
   },
   {
    "duration": 14,
    "start_time": "2022-11-05T20:29:46.794Z"
   },
   {
    "duration": 127,
    "start_time": "2022-11-05T20:29:46.810Z"
   },
   {
    "duration": 20,
    "start_time": "2022-11-05T20:29:46.940Z"
   },
   {
    "duration": 54,
    "start_time": "2022-11-06T15:58:03.648Z"
   },
   {
    "duration": 444,
    "start_time": "2022-11-06T15:58:09.980Z"
   },
   {
    "duration": 117,
    "start_time": "2022-11-06T15:58:10.427Z"
   },
   {
    "duration": 15,
    "start_time": "2022-11-06T15:58:10.546Z"
   },
   {
    "duration": 112,
    "start_time": "2022-11-06T15:58:10.563Z"
   },
   {
    "duration": 0,
    "start_time": "2022-11-06T15:58:10.678Z"
   },
   {
    "duration": 0,
    "start_time": "2022-11-06T15:58:10.680Z"
   },
   {
    "duration": 0,
    "start_time": "2022-11-06T15:58:10.681Z"
   },
   {
    "duration": 0,
    "start_time": "2022-11-06T15:58:10.682Z"
   },
   {
    "duration": 0,
    "start_time": "2022-11-06T15:58:10.685Z"
   },
   {
    "duration": 0,
    "start_time": "2022-11-06T15:58:10.689Z"
   },
   {
    "duration": 0,
    "start_time": "2022-11-06T15:58:10.691Z"
   },
   {
    "duration": 0,
    "start_time": "2022-11-06T15:58:10.692Z"
   },
   {
    "duration": 0,
    "start_time": "2022-11-06T15:58:10.693Z"
   },
   {
    "duration": 0,
    "start_time": "2022-11-06T15:58:10.694Z"
   },
   {
    "duration": 0,
    "start_time": "2022-11-06T15:58:10.696Z"
   },
   {
    "duration": 0,
    "start_time": "2022-11-06T15:58:10.697Z"
   },
   {
    "duration": 0,
    "start_time": "2022-11-06T15:58:10.698Z"
   },
   {
    "duration": 25,
    "start_time": "2022-11-06T16:00:08.527Z"
   },
   {
    "duration": 14,
    "start_time": "2022-11-06T16:03:21.324Z"
   },
   {
    "duration": 57,
    "start_time": "2022-11-06T16:05:10.562Z"
   },
   {
    "duration": 73,
    "start_time": "2022-11-06T16:05:25.504Z"
   },
   {
    "duration": 13,
    "start_time": "2022-11-06T16:10:10.525Z"
   },
   {
    "duration": 11,
    "start_time": "2022-11-06T16:16:40.429Z"
   },
   {
    "duration": 239,
    "start_time": "2022-11-06T16:20:19.156Z"
   },
   {
    "duration": 1163,
    "start_time": "2022-11-06T16:20:51.356Z"
   },
   {
    "duration": 228,
    "start_time": "2022-11-06T16:24:15.258Z"
   },
   {
    "duration": 105,
    "start_time": "2022-11-06T16:24:18.060Z"
   },
   {
    "duration": 487,
    "start_time": "2022-11-06T16:24:19.867Z"
   },
   {
    "duration": 105,
    "start_time": "2022-11-06T16:26:07.325Z"
   },
   {
    "duration": 110,
    "start_time": "2022-11-06T16:27:38.261Z"
   },
   {
    "duration": 153,
    "start_time": "2022-11-06T16:30:02.286Z"
   },
   {
    "duration": 124,
    "start_time": "2022-11-06T16:30:20.735Z"
   },
   {
    "duration": 191,
    "start_time": "2022-11-06T16:33:49.175Z"
   },
   {
    "duration": 160,
    "start_time": "2022-11-06T16:34:27.258Z"
   },
   {
    "duration": 142,
    "start_time": "2022-11-06T16:38:08.170Z"
   },
   {
    "duration": 128,
    "start_time": "2022-11-06T16:38:17.066Z"
   },
   {
    "duration": 645,
    "start_time": "2022-11-06T16:42:23.772Z"
   },
   {
    "duration": 171,
    "start_time": "2022-11-06T16:43:13.166Z"
   },
   {
    "duration": 134,
    "start_time": "2022-11-06T16:44:38.160Z"
   },
   {
    "duration": 130,
    "start_time": "2022-11-06T16:44:49.948Z"
   },
   {
    "duration": 55,
    "start_time": "2022-11-06T16:45:30.929Z"
   },
   {
    "duration": 127,
    "start_time": "2022-11-06T16:45:35.723Z"
   },
   {
    "duration": 178,
    "start_time": "2022-11-06T16:46:25.784Z"
   },
   {
    "duration": 133,
    "start_time": "2022-11-06T16:49:18.919Z"
   },
   {
    "duration": 134,
    "start_time": "2022-11-06T16:49:38.271Z"
   },
   {
    "duration": 163,
    "start_time": "2022-11-06T16:50:35.500Z"
   },
   {
    "duration": 132,
    "start_time": "2022-11-06T16:51:42.176Z"
   },
   {
    "duration": 136,
    "start_time": "2022-11-06T16:52:44.232Z"
   },
   {
    "duration": 139,
    "start_time": "2022-11-06T16:52:53.554Z"
   },
   {
    "duration": 141,
    "start_time": "2022-11-06T16:55:36.452Z"
   },
   {
    "duration": 1666,
    "start_time": "2022-11-06T16:56:20.018Z"
   },
   {
    "duration": 152,
    "start_time": "2022-11-06T16:56:35.588Z"
   },
   {
    "duration": 139,
    "start_time": "2022-11-06T16:56:54.588Z"
   },
   {
    "duration": 149,
    "start_time": "2022-11-06T16:59:01.817Z"
   },
   {
    "duration": 140,
    "start_time": "2022-11-06T16:59:07.787Z"
   },
   {
    "duration": 133,
    "start_time": "2022-11-06T16:59:34.290Z"
   },
   {
    "duration": 132,
    "start_time": "2022-11-06T16:59:44.479Z"
   },
   {
    "duration": 129,
    "start_time": "2022-11-06T17:07:58.813Z"
   },
   {
    "duration": 125,
    "start_time": "2022-11-06T17:08:49.907Z"
   },
   {
    "duration": 130,
    "start_time": "2022-11-06T17:10:47.896Z"
   },
   {
    "duration": 130,
    "start_time": "2022-11-06T17:11:57.833Z"
   },
   {
    "duration": 860,
    "start_time": "2022-11-06T17:23:31.803Z"
   },
   {
    "duration": 1074,
    "start_time": "2022-11-06T17:23:50.955Z"
   },
   {
    "duration": 642,
    "start_time": "2022-11-06T17:24:23.818Z"
   },
   {
    "duration": 668,
    "start_time": "2022-11-06T17:24:44.974Z"
   },
   {
    "duration": 887,
    "start_time": "2022-11-06T17:25:22.276Z"
   },
   {
    "duration": 138,
    "start_time": "2022-11-06T17:26:08.013Z"
   },
   {
    "duration": 779,
    "start_time": "2022-11-06T17:26:37.613Z"
   },
   {
    "duration": 434,
    "start_time": "2022-11-06T17:36:59.903Z"
   },
   {
    "duration": 344,
    "start_time": "2022-11-06T17:37:36.541Z"
   },
   {
    "duration": 621,
    "start_time": "2022-11-06T17:38:09.480Z"
   },
   {
    "duration": 730,
    "start_time": "2022-11-06T17:38:27.608Z"
   },
   {
    "duration": 315,
    "start_time": "2022-11-06T17:38:42.709Z"
   },
   {
    "duration": 133,
    "start_time": "2022-11-06T17:44:39.586Z"
   },
   {
    "duration": 279,
    "start_time": "2022-11-06T17:45:36.476Z"
   },
   {
    "duration": 136,
    "start_time": "2022-11-06T17:45:47.679Z"
   },
   {
    "duration": 51,
    "start_time": "2022-11-06T17:46:03.363Z"
   },
   {
    "duration": 132,
    "start_time": "2022-11-06T17:46:23.847Z"
   },
   {
    "duration": 293,
    "start_time": "2022-11-06T17:47:29.610Z"
   },
   {
    "duration": 131,
    "start_time": "2022-11-06T17:48:49.332Z"
   },
   {
    "duration": 125,
    "start_time": "2022-11-06T17:48:56.505Z"
   },
   {
    "duration": 136,
    "start_time": "2022-11-06T17:51:30.253Z"
   },
   {
    "duration": 134,
    "start_time": "2022-11-06T17:51:39.562Z"
   },
   {
    "duration": 176,
    "start_time": "2022-11-06T17:52:31.799Z"
   },
   {
    "duration": 535,
    "start_time": "2022-11-06T17:58:39.206Z"
   },
   {
    "duration": 432,
    "start_time": "2022-11-06T17:59:30.750Z"
   },
   {
    "duration": 65,
    "start_time": "2022-11-06T17:59:31.185Z"
   },
   {
    "duration": 14,
    "start_time": "2022-11-06T17:59:31.252Z"
   },
   {
    "duration": 143,
    "start_time": "2022-11-06T17:59:31.268Z"
   },
   {
    "duration": 914,
    "start_time": "2022-11-06T17:59:31.413Z"
   },
   {
    "duration": 221,
    "start_time": "2022-11-06T17:59:32.329Z"
   },
   {
    "duration": 320,
    "start_time": "2022-11-06T17:59:32.553Z"
   },
   {
    "duration": 221,
    "start_time": "2022-11-06T17:59:32.875Z"
   },
   {
    "duration": 367,
    "start_time": "2022-11-06T17:59:33.098Z"
   },
   {
    "duration": 155,
    "start_time": "2022-11-06T17:59:33.466Z"
   },
   {
    "duration": 4,
    "start_time": "2022-11-06T17:59:33.623Z"
   },
   {
    "duration": 348,
    "start_time": "2022-11-06T17:59:33.629Z"
   },
   {
    "duration": 6,
    "start_time": "2022-11-06T17:59:33.979Z"
   },
   {
    "duration": 243,
    "start_time": "2022-11-06T17:59:33.988Z"
   },
   {
    "duration": 473,
    "start_time": "2022-11-06T17:59:34.233Z"
   },
   {
    "duration": 12,
    "start_time": "2022-11-06T17:59:34.708Z"
   },
   {
    "duration": 48,
    "start_time": "2022-11-06T17:59:34.722Z"
   },
   {
    "duration": 15,
    "start_time": "2022-11-06T17:59:34.771Z"
   },
   {
    "duration": 228,
    "start_time": "2022-11-06T18:00:06.568Z"
   },
   {
    "duration": 337,
    "start_time": "2022-11-06T18:00:40.140Z"
   },
   {
    "duration": 314,
    "start_time": "2022-11-06T18:01:08.381Z"
   },
   {
    "duration": 341,
    "start_time": "2022-11-06T18:01:27.340Z"
   },
   {
    "duration": 171,
    "start_time": "2022-11-06T18:02:03.850Z"
   },
   {
    "duration": 165,
    "start_time": "2022-11-06T18:02:56.537Z"
   },
   {
    "duration": 377,
    "start_time": "2022-11-06T18:04:35.745Z"
   },
   {
    "duration": 38,
    "start_time": "2022-11-06T18:17:02.620Z"
   },
   {
    "duration": 35,
    "start_time": "2022-11-06T18:19:43.519Z"
   },
   {
    "duration": 37,
    "start_time": "2022-11-06T18:29:32.219Z"
   },
   {
    "duration": 42,
    "start_time": "2022-11-06T18:30:11.156Z"
   },
   {
    "duration": 34,
    "start_time": "2022-11-06T18:30:34.407Z"
   },
   {
    "duration": 33,
    "start_time": "2022-11-06T18:33:03.059Z"
   },
   {
    "duration": 13,
    "start_time": "2022-11-06T18:35:54.038Z"
   },
   {
    "duration": 109,
    "start_time": "2022-11-06T18:38:44.578Z"
   },
   {
    "duration": 31,
    "start_time": "2022-11-06T18:40:27.845Z"
   },
   {
    "duration": 40,
    "start_time": "2022-11-06T18:41:13.327Z"
   },
   {
    "duration": 34,
    "start_time": "2022-11-06T18:41:18.698Z"
   },
   {
    "duration": 43,
    "start_time": "2022-11-06T18:42:34.401Z"
   },
   {
    "duration": 42,
    "start_time": "2022-11-06T18:42:59.347Z"
   },
   {
    "duration": 41,
    "start_time": "2022-11-06T18:43:05.156Z"
   },
   {
    "duration": 35,
    "start_time": "2022-11-06T18:44:18.408Z"
   },
   {
    "duration": 21,
    "start_time": "2022-11-06T18:50:03.966Z"
   },
   {
    "duration": 15,
    "start_time": "2022-11-06T18:50:33.783Z"
   },
   {
    "duration": 25,
    "start_time": "2022-11-06T18:51:22.040Z"
   },
   {
    "duration": 150,
    "start_time": "2022-11-06T19:04:57.608Z"
   },
   {
    "duration": 340,
    "start_time": "2022-11-08T12:16:49.326Z"
   },
   {
    "duration": 121,
    "start_time": "2022-11-08T12:16:49.668Z"
   },
   {
    "duration": 10,
    "start_time": "2022-11-08T12:16:49.791Z"
   },
   {
    "duration": 239,
    "start_time": "2022-11-08T12:16:49.802Z"
   },
   {
    "duration": 730,
    "start_time": "2022-11-08T12:16:50.043Z"
   },
   {
    "duration": 195,
    "start_time": "2022-11-08T12:16:50.774Z"
   },
   {
    "duration": 276,
    "start_time": "2022-11-08T12:16:50.970Z"
   },
   {
    "duration": 203,
    "start_time": "2022-11-08T12:16:51.255Z"
   },
   {
    "duration": 310,
    "start_time": "2022-11-08T12:16:51.461Z"
   },
   {
    "duration": 146,
    "start_time": "2022-11-08T12:16:51.773Z"
   },
   {
    "duration": 4,
    "start_time": "2022-11-08T12:16:51.920Z"
   },
   {
    "duration": 310,
    "start_time": "2022-11-08T12:16:51.925Z"
   },
   {
    "duration": 4,
    "start_time": "2022-11-08T12:16:52.236Z"
   },
   {
    "duration": 232,
    "start_time": "2022-11-08T12:16:52.261Z"
   },
   {
    "duration": 437,
    "start_time": "2022-11-08T12:16:52.494Z"
   },
   {
    "duration": 12,
    "start_time": "2022-11-08T12:16:52.932Z"
   },
   {
    "duration": 64,
    "start_time": "2022-11-08T12:16:52.955Z"
   },
   {
    "duration": 15,
    "start_time": "2022-11-08T12:16:53.020Z"
   },
   {
    "duration": 3,
    "start_time": "2022-11-08T12:36:28.380Z"
   },
   {
    "duration": 4,
    "start_time": "2022-11-08T12:36:36.700Z"
   },
   {
    "duration": 4,
    "start_time": "2022-11-08T12:36:56.412Z"
   },
   {
    "duration": 9,
    "start_time": "2022-11-08T12:38:48.715Z"
   },
   {
    "duration": 90,
    "start_time": "2022-11-08T12:39:10.401Z"
   },
   {
    "duration": 10,
    "start_time": "2022-11-08T12:39:19.406Z"
   },
   {
    "duration": 49,
    "start_time": "2022-11-08T17:44:54.111Z"
   },
   {
    "duration": 399,
    "start_time": "2022-11-08T17:45:09.902Z"
   },
   {
    "duration": 103,
    "start_time": "2022-11-08T17:45:10.303Z"
   },
   {
    "duration": 11,
    "start_time": "2022-11-08T17:45:10.408Z"
   },
   {
    "duration": 191,
    "start_time": "2022-11-08T17:45:10.420Z"
   },
   {
    "duration": 15,
    "start_time": "2022-11-08T17:45:10.613Z"
   },
   {
    "duration": 951,
    "start_time": "2022-11-08T17:45:10.629Z"
   },
   {
    "duration": 203,
    "start_time": "2022-11-08T17:45:11.585Z"
   },
   {
    "duration": 348,
    "start_time": "2022-11-08T17:45:11.789Z"
   },
   {
    "duration": 290,
    "start_time": "2022-11-08T17:45:12.139Z"
   },
   {
    "duration": 283,
    "start_time": "2022-11-08T17:45:12.432Z"
   },
   {
    "duration": 163,
    "start_time": "2022-11-08T17:45:12.717Z"
   },
   {
    "duration": 5,
    "start_time": "2022-11-08T17:45:12.884Z"
   },
   {
    "duration": 336,
    "start_time": "2022-11-08T17:45:12.890Z"
   },
   {
    "duration": 4,
    "start_time": "2022-11-08T17:45:13.228Z"
   },
   {
    "duration": 206,
    "start_time": "2022-11-08T17:45:13.234Z"
   },
   {
    "duration": 463,
    "start_time": "2022-11-08T17:45:13.442Z"
   },
   {
    "duration": 12,
    "start_time": "2022-11-08T17:45:13.907Z"
   },
   {
    "duration": 34,
    "start_time": "2022-11-08T17:45:13.920Z"
   },
   {
    "duration": 37,
    "start_time": "2022-11-08T17:45:13.955Z"
   },
   {
    "duration": 118,
    "start_time": "2022-11-08T17:46:46.054Z"
   },
   {
    "duration": 105,
    "start_time": "2022-11-08T17:54:36.803Z"
   },
   {
    "duration": 1145,
    "start_time": "2022-11-08T17:54:54.087Z"
   },
   {
    "duration": 15,
    "start_time": "2022-11-08T17:55:35.370Z"
   },
   {
    "duration": 18,
    "start_time": "2022-11-08T17:56:01.873Z"
   },
   {
    "duration": 23,
    "start_time": "2022-11-08T17:56:29.635Z"
   },
   {
    "duration": 344,
    "start_time": "2022-11-08T17:57:04.241Z"
   },
   {
    "duration": 65,
    "start_time": "2022-11-08T17:57:04.587Z"
   },
   {
    "duration": 12,
    "start_time": "2022-11-08T17:57:04.653Z"
   },
   {
    "duration": 109,
    "start_time": "2022-11-08T17:57:04.667Z"
   },
   {
    "duration": 77,
    "start_time": "2022-11-08T17:57:04.778Z"
   },
   {
    "duration": 0,
    "start_time": "2022-11-08T17:57:04.857Z"
   },
   {
    "duration": 0,
    "start_time": "2022-11-08T17:57:04.859Z"
   },
   {
    "duration": 0,
    "start_time": "2022-11-08T17:57:04.860Z"
   },
   {
    "duration": 0,
    "start_time": "2022-11-08T17:57:04.861Z"
   },
   {
    "duration": 0,
    "start_time": "2022-11-08T17:57:04.863Z"
   },
   {
    "duration": 0,
    "start_time": "2022-11-08T17:57:04.864Z"
   },
   {
    "duration": 0,
    "start_time": "2022-11-08T17:57:04.865Z"
   },
   {
    "duration": 0,
    "start_time": "2022-11-08T17:57:04.885Z"
   },
   {
    "duration": 0,
    "start_time": "2022-11-08T17:57:04.887Z"
   },
   {
    "duration": 0,
    "start_time": "2022-11-08T17:57:04.888Z"
   },
   {
    "duration": 0,
    "start_time": "2022-11-08T17:57:04.889Z"
   },
   {
    "duration": 0,
    "start_time": "2022-11-08T17:57:04.891Z"
   },
   {
    "duration": 0,
    "start_time": "2022-11-08T17:57:04.892Z"
   },
   {
    "duration": 0,
    "start_time": "2022-11-08T17:57:04.893Z"
   },
   {
    "duration": 21,
    "start_time": "2022-11-08T17:57:25.714Z"
   },
   {
    "duration": 35,
    "start_time": "2022-11-08T18:00:10.599Z"
   },
   {
    "duration": 36,
    "start_time": "2022-11-08T18:04:25.906Z"
   },
   {
    "duration": 3,
    "start_time": "2022-11-08T18:04:48.232Z"
   },
   {
    "duration": 43,
    "start_time": "2022-11-08T18:04:56.723Z"
   },
   {
    "duration": 54,
    "start_time": "2022-11-08T18:10:28.611Z"
   },
   {
    "duration": 384,
    "start_time": "2022-11-08T18:12:07.992Z"
   },
   {
    "duration": 69,
    "start_time": "2022-11-08T18:12:08.378Z"
   },
   {
    "duration": 10,
    "start_time": "2022-11-08T18:12:08.449Z"
   },
   {
    "duration": 119,
    "start_time": "2022-11-08T18:12:08.461Z"
   },
   {
    "duration": 121,
    "start_time": "2022-11-08T18:12:08.583Z"
   },
   {
    "duration": 0,
    "start_time": "2022-11-08T18:12:08.706Z"
   },
   {
    "duration": 0,
    "start_time": "2022-11-08T18:12:08.707Z"
   },
   {
    "duration": 0,
    "start_time": "2022-11-08T18:12:08.708Z"
   },
   {
    "duration": 0,
    "start_time": "2022-11-08T18:12:08.710Z"
   },
   {
    "duration": 0,
    "start_time": "2022-11-08T18:12:08.711Z"
   },
   {
    "duration": 0,
    "start_time": "2022-11-08T18:12:08.712Z"
   },
   {
    "duration": 0,
    "start_time": "2022-11-08T18:12:08.714Z"
   },
   {
    "duration": 0,
    "start_time": "2022-11-08T18:12:08.715Z"
   },
   {
    "duration": 0,
    "start_time": "2022-11-08T18:12:08.716Z"
   },
   {
    "duration": 0,
    "start_time": "2022-11-08T18:12:08.717Z"
   },
   {
    "duration": 0,
    "start_time": "2022-11-08T18:12:08.719Z"
   },
   {
    "duration": 0,
    "start_time": "2022-11-08T18:12:08.720Z"
   },
   {
    "duration": 0,
    "start_time": "2022-11-08T18:12:08.721Z"
   },
   {
    "duration": 0,
    "start_time": "2022-11-08T18:12:08.722Z"
   },
   {
    "duration": 19,
    "start_time": "2022-11-08T18:13:24.781Z"
   },
   {
    "duration": 417,
    "start_time": "2022-11-08T18:14:23.062Z"
   },
   {
    "duration": 81,
    "start_time": "2022-11-08T18:14:23.481Z"
   },
   {
    "duration": 13,
    "start_time": "2022-11-08T18:14:23.564Z"
   },
   {
    "duration": 117,
    "start_time": "2022-11-08T18:14:23.579Z"
   },
   {
    "duration": 21,
    "start_time": "2022-11-08T18:14:23.697Z"
   },
   {
    "duration": 748,
    "start_time": "2022-11-08T18:14:23.719Z"
   },
   {
    "duration": 209,
    "start_time": "2022-11-08T18:14:24.469Z"
   },
   {
    "duration": 313,
    "start_time": "2022-11-08T18:14:24.680Z"
   },
   {
    "duration": 214,
    "start_time": "2022-11-08T18:14:24.995Z"
   },
   {
    "duration": 355,
    "start_time": "2022-11-08T18:14:25.212Z"
   },
   {
    "duration": 156,
    "start_time": "2022-11-08T18:14:25.568Z"
   },
   {
    "duration": 4,
    "start_time": "2022-11-08T18:14:25.726Z"
   },
   {
    "duration": 310,
    "start_time": "2022-11-08T18:14:25.731Z"
   },
   {
    "duration": 4,
    "start_time": "2022-11-08T18:14:26.042Z"
   },
   {
    "duration": 202,
    "start_time": "2022-11-08T18:14:26.048Z"
   },
   {
    "duration": 447,
    "start_time": "2022-11-08T18:14:26.252Z"
   },
   {
    "duration": 10,
    "start_time": "2022-11-08T18:14:26.701Z"
   },
   {
    "duration": 30,
    "start_time": "2022-11-08T18:14:26.712Z"
   },
   {
    "duration": 12,
    "start_time": "2022-11-08T18:14:26.744Z"
   },
   {
    "duration": 268,
    "start_time": "2022-11-08T18:15:14.946Z"
   },
   {
    "duration": 30,
    "start_time": "2022-11-08T18:16:50.577Z"
   },
   {
    "duration": 6,
    "start_time": "2022-11-08T18:18:51.929Z"
   },
   {
    "duration": 13,
    "start_time": "2022-11-08T18:20:35.957Z"
   },
   {
    "duration": 11,
    "start_time": "2022-11-08T18:21:16.901Z"
   },
   {
    "duration": 4,
    "start_time": "2022-11-08T18:21:22.904Z"
   },
   {
    "duration": 57,
    "start_time": "2022-11-09T15:09:40.852Z"
   },
   {
    "duration": 403,
    "start_time": "2022-11-09T15:09:46.536Z"
   },
   {
    "duration": 112,
    "start_time": "2022-11-09T15:09:46.940Z"
   },
   {
    "duration": 14,
    "start_time": "2022-11-09T15:09:47.054Z"
   },
   {
    "duration": 205,
    "start_time": "2022-11-09T15:09:47.069Z"
   },
   {
    "duration": 35,
    "start_time": "2022-11-09T15:09:47.276Z"
   },
   {
    "duration": 937,
    "start_time": "2022-11-09T15:09:47.313Z"
   },
   {
    "duration": 247,
    "start_time": "2022-11-09T15:09:48.252Z"
   },
   {
    "duration": 334,
    "start_time": "2022-11-09T15:09:48.519Z"
   },
   {
    "duration": 264,
    "start_time": "2022-11-09T15:09:48.854Z"
   },
   {
    "duration": 430,
    "start_time": "2022-11-09T15:09:49.120Z"
   },
   {
    "duration": 184,
    "start_time": "2022-11-09T15:09:49.551Z"
   },
   {
    "duration": 4,
    "start_time": "2022-11-09T15:09:49.737Z"
   },
   {
    "duration": 389,
    "start_time": "2022-11-09T15:09:49.742Z"
   },
   {
    "duration": 5,
    "start_time": "2022-11-09T15:09:50.133Z"
   },
   {
    "duration": 250,
    "start_time": "2022-11-09T15:09:50.139Z"
   },
   {
    "duration": 479,
    "start_time": "2022-11-09T15:09:50.391Z"
   },
   {
    "duration": 12,
    "start_time": "2022-11-09T15:09:50.872Z"
   },
   {
    "duration": 50,
    "start_time": "2022-11-09T15:09:50.886Z"
   },
   {
    "duration": 15,
    "start_time": "2022-11-09T15:09:50.938Z"
   },
   {
    "duration": 3,
    "start_time": "2022-11-09T15:09:50.955Z"
   },
   {
    "duration": 51,
    "start_time": "2022-11-09T19:26:05.198Z"
   },
   {
    "duration": 399,
    "start_time": "2022-11-09T19:26:10.838Z"
   },
   {
    "duration": 121,
    "start_time": "2022-11-09T19:26:11.239Z"
   },
   {
    "duration": 13,
    "start_time": "2022-11-09T19:26:11.362Z"
   },
   {
    "duration": 201,
    "start_time": "2022-11-09T19:26:11.378Z"
   },
   {
    "duration": 21,
    "start_time": "2022-11-09T19:26:11.581Z"
   },
   {
    "duration": 909,
    "start_time": "2022-11-09T19:26:11.604Z"
   },
   {
    "duration": 202,
    "start_time": "2022-11-09T19:26:12.515Z"
   },
   {
    "duration": 368,
    "start_time": "2022-11-09T19:26:12.719Z"
   },
   {
    "duration": 278,
    "start_time": "2022-11-09T19:26:13.089Z"
   },
   {
    "duration": 302,
    "start_time": "2022-11-09T19:26:13.370Z"
   },
   {
    "duration": 175,
    "start_time": "2022-11-09T19:26:13.674Z"
   },
   {
    "duration": 5,
    "start_time": "2022-11-09T19:26:13.851Z"
   },
   {
    "duration": 409,
    "start_time": "2022-11-09T19:26:13.858Z"
   },
   {
    "duration": 4,
    "start_time": "2022-11-09T19:26:14.269Z"
   },
   {
    "duration": 206,
    "start_time": "2022-11-09T19:26:14.275Z"
   },
   {
    "duration": 470,
    "start_time": "2022-11-09T19:26:14.482Z"
   },
   {
    "duration": 11,
    "start_time": "2022-11-09T19:26:14.954Z"
   },
   {
    "duration": 34,
    "start_time": "2022-11-09T19:26:14.967Z"
   },
   {
    "duration": 31,
    "start_time": "2022-11-09T19:26:15.003Z"
   },
   {
    "duration": 4,
    "start_time": "2022-11-09T19:26:15.036Z"
   },
   {
    "duration": 51,
    "start_time": "2022-11-11T15:53:52.983Z"
   },
   {
    "duration": 425,
    "start_time": "2022-11-11T15:55:04.855Z"
   },
   {
    "duration": 123,
    "start_time": "2022-11-11T15:55:05.282Z"
   },
   {
    "duration": 13,
    "start_time": "2022-11-11T15:55:05.407Z"
   },
   {
    "duration": 203,
    "start_time": "2022-11-11T15:55:05.422Z"
   },
   {
    "duration": 24,
    "start_time": "2022-11-11T15:55:05.627Z"
   },
   {
    "duration": 1084,
    "start_time": "2022-11-11T15:55:05.653Z"
   },
   {
    "duration": 224,
    "start_time": "2022-11-11T15:55:06.739Z"
   },
   {
    "duration": 368,
    "start_time": "2022-11-11T15:55:06.968Z"
   },
   {
    "duration": 290,
    "start_time": "2022-11-11T15:55:07.338Z"
   },
   {
    "duration": 347,
    "start_time": "2022-11-11T15:55:07.630Z"
   },
   {
    "duration": 174,
    "start_time": "2022-11-11T15:55:07.978Z"
   },
   {
    "duration": 5,
    "start_time": "2022-11-11T15:55:08.154Z"
   },
   {
    "duration": 347,
    "start_time": "2022-11-11T15:55:08.168Z"
   },
   {
    "duration": 4,
    "start_time": "2022-11-11T15:55:08.517Z"
   },
   {
    "duration": 215,
    "start_time": "2022-11-11T15:55:08.523Z"
   },
   {
    "duration": 470,
    "start_time": "2022-11-11T15:55:08.739Z"
   },
   {
    "duration": 11,
    "start_time": "2022-11-11T15:55:09.211Z"
   },
   {
    "duration": 50,
    "start_time": "2022-11-11T15:55:09.224Z"
   },
   {
    "duration": 18,
    "start_time": "2022-11-11T15:55:09.277Z"
   },
   {
    "duration": 7,
    "start_time": "2022-11-11T15:55:09.297Z"
   }
  ],
  "kernelspec": {
   "display_name": "Python 3 (ipykernel)",
   "language": "python",
   "name": "python3"
  },
  "language_info": {
   "codemirror_mode": {
    "name": "ipython",
    "version": 3
   },
   "file_extension": ".py",
   "mimetype": "text/x-python",
   "name": "python",
   "nbconvert_exporter": "python",
   "pygments_lexer": "ipython3",
   "version": "3.9.13"
  },
  "toc": {
   "base_numbering": 1,
   "nav_menu": {},
   "number_sections": true,
   "sideBar": true,
   "skip_h1_title": true,
   "title_cell": "Table of Contents",
   "title_sidebar": "Contents",
   "toc_cell": false,
   "toc_position": {},
   "toc_section_display": true,
   "toc_window_display": false
  }
 },
 "nbformat": 4,
 "nbformat_minor": 2
}
